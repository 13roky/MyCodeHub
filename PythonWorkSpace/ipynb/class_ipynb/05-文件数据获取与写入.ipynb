{
 "cells": [
  {
   "cell_type": "markdown",
   "metadata": {
    "nbpresent": {
     "id": "50a40f10-f4b6-4dd3-b7aa-c63ed3ca3244"
    },
    "slideshow": {
     "slide_type": "slide"
    }
   },
   "source": [
    "# 文件数据存取"
   ]
  },
  {
   "cell_type": "markdown",
   "metadata": {},
   "source": [
    "# 一、Pandas Series复习\n",
    "\n",
    "pandas Series（翻译为系列）是个一维数据结构，而DataFrame的部分操作也非常类似."
   ]
  },
  {
   "cell_type": "code",
   "execution_count": 2,
   "metadata": {},
   "outputs": [],
   "source": [
    "import pandas as pd"
   ]
  },
  {
   "cell_type": "markdown",
   "metadata": {},
   "source": [
    "Series有一个索引和相关的数据。我们可以使用索引来访问数据。我们还了解到，我们可以通过索引和值的隐式位置直接访问它们。如果我们添加隐式位置，一个Series看起来是这样的: \n",
    "\n",
    "\n",
    "| Location (Implicit)| Index | Value | \n",
    "| - | - | - |\n",
    "|0| Stones     |    1962\n",
    "|1| Beatles    |    1960\n",
    "|2| Zeppelin     |  1968\n",
    "|3| Pink Floyd |    1965\n",
    "|4| Pink Floyd |    2012\n",
    "\n",
    "下面是示例代码:"
   ]
  },
  {
   "cell_type": "code",
   "execution_count": 3,
   "metadata": {},
   "outputs": [
    {
     "data": {
      "text/plain": [
       "Stones        1962\n",
       "Beatles       1960\n",
       "Zeppelin      1968\n",
       "Pink Floyd    1965\n",
       "Pink Floyd    2012\n",
       "Name: founded, dtype: int64"
      ]
     },
     "execution_count": 3,
     "metadata": {},
     "output_type": "execute_result"
    }
   ],
   "source": [
    "bands_founded = pd.Series([1962, 1960, 1968, 1965, 2012],\n",
    "                         name=\"founded\",\n",
    "                         index=[\"Stones\", \"Beatles\", \"Zeppelin\", \"Pink Floyd\", \"Pink Floyd\"])\n",
    "bands_founded"
   ]
  },
  {
   "cell_type": "markdown",
   "metadata": {},
   "source": [
    "请注意，当我们访问具有多个索引的数据时，我们并没有获得与上述情况相同的简单数据类型，而是获得了另一个Series(系列):"
   ]
  },
  {
   "cell_type": "code",
   "execution_count": 4,
   "metadata": {},
   "outputs": [
    {
     "data": {
      "text/plain": [
       "Pink Floyd    1965\n",
       "Pink Floyd    2012\n",
       "Name: founded, dtype: int64"
      ]
     },
     "execution_count": 4,
     "metadata": {},
     "output_type": "execute_result"
    }
   ],
   "source": [
    "bands_founded[\"Pink Floyd\"]"
   ]
  },
  {
   "cell_type": "markdown",
   "metadata": {},
   "source": [
    "## 索引与切片Indexing，slicing\n",
    "\n",
    "索引和切片在很大程度上类似于普通的python，但不只是直接使用方括号表示法，建议使用“iloc”按位置进行索引，使用“loc”按索引进行索引. \n"
   ]
  },
  {
   "cell_type": "code",
   "execution_count": 5,
   "metadata": {},
   "outputs": [
    {
     "data": {
      "text/plain": [
       "Beatles     1960\n",
       "Zeppelin    1968\n",
       "Name: founded, dtype: int64"
      ]
     },
     "execution_count": 5,
     "metadata": {},
     "output_type": "execute_result"
    }
   ],
   "source": [
    "# 按位置进行切片\n",
    "bands_founded.iloc[1:3]"
   ]
  },
  {
   "cell_type": "code",
   "execution_count": 6,
   "metadata": {},
   "outputs": [
    {
     "data": {
      "text/plain": [
       "Zeppelin      1968\n",
       "Pink Floyd    1965\n",
       "Pink Floyd    2012\n",
       "Name: founded, dtype: int64"
      ]
     },
     "execution_count": 6,
     "metadata": {},
     "output_type": "execute_result"
    }
   ],
   "source": [
    "# 按照索引名称进行索引- 注意包括最后一个元素\n",
    "bands_founded.loc[\"Zeppelin\" : \"Pink Floyd\"]"
   ]
  },
  {
   "cell_type": "markdown",
   "metadata": {},
   "source": [
    "Series可以用数组进行索引，这在普通python中是不可能的:"
   ]
  },
  {
   "cell_type": "code",
   "execution_count": 6,
   "metadata": {},
   "outputs": [
    {
     "data": {
      "text/plain": [
       "Beatles       1960\n",
       "Pink Floyd    1965\n",
       "Pink Floyd    2012\n",
       "Name: founded, dtype: int64"
      ]
     },
     "execution_count": 6,
     "metadata": {},
     "output_type": "execute_result"
    }
   ],
   "source": [
    "bands_founded.loc[[\"Beatles\", \"Pink Floyd\"]]"
   ]
  },
  {
   "cell_type": "markdown",
   "metadata": {},
   "source": [
    "## Masking（称为掩码或者屏蔽） Series\n",
    "\n",
    "通过pandas，我们可以创建布尔数组，用于屏蔽和过滤数据集。在下面的表达式中，我们将创建一个新数组，该数组将使用一种名为**广播Broadcasting**的技术为1964年后形成的每个乐队生成“True”值"
   ]
  },
  {
   "cell_type": "code",
   "execution_count": 8,
   "metadata": {},
   "outputs": [
    {
     "data": {
      "text/plain": [
       "Stones        False\n",
       "Beatles       False\n",
       "Zeppelin       True\n",
       "Pink Floyd     True\n",
       "Pink Floyd     True\n",
       "Name: founded, dtype: bool"
      ]
     },
     "execution_count": 8,
     "metadata": {},
     "output_type": "execute_result"
    }
   ],
   "source": [
    "mask = bands_founded > 1964\n",
    "mask"
   ]
  },
  {
   "cell_type": "markdown",
   "metadata": {},
   "source": [
    "我们能使用boolean掩码（屏蔽码）来过滤series:"
   ]
  },
  {
   "cell_type": "code",
   "execution_count": 9,
   "metadata": {},
   "outputs": [
    {
     "data": {
      "text/plain": [
       "Zeppelin      1968\n",
       "Pink Floyd    1965\n",
       "Pink Floyd    2012\n",
       "Name: founded, dtype: int64"
      ]
     },
     "execution_count": 9,
     "metadata": {},
     "output_type": "execute_result"
    }
   ],
   "source": [
    "# 应用掩码到原始数组\n",
    "bands_founded[mask]"
   ]
  },
  {
   "cell_type": "markdown",
   "metadata": {},
   "source": [
    "简洁形式会是："
   ]
  },
  {
   "cell_type": "code",
   "execution_count": 10,
   "metadata": {},
   "outputs": [
    {
     "data": {
      "text/plain": [
       "Zeppelin      1968\n",
       "Pink Floyd    2012\n",
       "Name: founded, dtype: int64"
      ]
     },
     "execution_count": 10,
     "metadata": {},
     "output_type": "execute_result"
    }
   ],
   "source": [
    "bands_founded[bands_founded > 1965]"
   ]
  },
  {
   "cell_type": "markdown",
   "metadata": {},
   "source": [
    "## 探索系列Series\n",
    "\n",
    "在一个系列Series中探索数据有多种方法。我们可以得到统计属性的概述，或者计算单个属性:"
   ]
  },
  {
   "cell_type": "code",
   "execution_count": 11,
   "metadata": {},
   "outputs": [
    {
     "data": {
      "text/plain": [
       "1980.5"
      ]
     },
     "execution_count": 11,
     "metadata": {},
     "output_type": "execute_result"
    }
   ],
   "source": [
    "#由列表生成Series，求均值和描述性统计\n",
    "numbers = pd.Series([1962, 1960, 1968, 1965, 2012, 2016])\n",
    "numbers.mean()"
   ]
  },
  {
   "cell_type": "code",
   "execution_count": 11,
   "metadata": {},
   "outputs": [
    {
     "data": {
      "text/plain": [
       "count       6.000000\n",
       "mean     1980.500000\n",
       "std        26.120873\n",
       "min      1960.000000\n",
       "25%      1962.750000\n",
       "50%      1966.500000\n",
       "75%      2001.000000\n",
       "max      2016.000000\n",
       "dtype: float64"
      ]
     },
     "execution_count": 11,
     "metadata": {},
     "output_type": "execute_result"
    }
   ],
   "source": [
    "numbers.describe()"
   ]
  },
  {
   "cell_type": "markdown",
   "metadata": {},
   "source": [
    "## 排序Sorting"
   ]
  },
  {
   "cell_type": "code",
   "execution_count": 13,
   "metadata": {},
   "outputs": [
    {
     "data": {
      "text/plain": [
       "5    2016\n",
       "4    2012\n",
       "2    1968\n",
       "3    1965\n",
       "0    1962\n",
       "1    1960\n",
       "dtype: int64"
      ]
     },
     "execution_count": 13,
     "metadata": {},
     "output_type": "execute_result"
    }
   ],
   "source": [
    "sorted_numbers = numbers.sort_values(ascending=False)\n",
    "sorted_numbers"
   ]
  },
  {
   "cell_type": "markdown",
   "metadata": {},
   "source": [
    "## 重置索引--按照实际位置重新编号"
   ]
  },
  {
   "cell_type": "code",
   "execution_count": 14,
   "metadata": {},
   "outputs": [
    {
     "data": {
      "text/plain": [
       "0    2016\n",
       "1    2012\n",
       "2    1968\n",
       "3    1965\n",
       "4    1962\n",
       "5    1960\n",
       "dtype: int64"
      ]
     },
     "execution_count": 14,
     "metadata": {},
     "output_type": "execute_result"
    }
   ],
   "source": [
    "sorted_numbers.reset_index(drop=True)"
   ]
  },
  {
   "cell_type": "markdown",
   "metadata": {},
   "source": [
    "## 映射Mapping - 应用函数\n",
    "\n",
    "映射Mapping应用函数到Series中的每个元素: "
   ]
  },
  {
   "cell_type": "code",
   "execution_count": 15,
   "metadata": {},
   "outputs": [
    {
     "data": {
      "text/plain": [
       "5    2016-01-01\n",
       "4    2012-01-01\n",
       "2    1968-01-01\n",
       "3    1965-01-01\n",
       "0    1962-01-01\n",
       "1    1960-01-01\n",
       "dtype: object"
      ]
     },
     "execution_count": 15,
     "metadata": {},
     "output_type": "execute_result"
    }
   ],
   "source": [
    "import datetime\n",
    "\n",
    "# 将一个整数年转换为一个日期，假设1月1日是日期和月份.\n",
    "def to_date(year):\n",
    "    return datetime.date(int(year), 1, 1)\n",
    "    \n",
    "sorted_numbers.map(to_date)"
   ]
  },
  {
   "cell_type": "markdown",
   "metadata": {},
   "source": [
    "# 二. 读写文本文件数据\n",
    "\n",
    "到目前为止，我们主要使用直接在代码中指定的数据。当然，这不是特别可扩展的。我们希望从文件中加载数据，并最终连接到数据库和api。\n",
    "数据通常以结构化文件格式存储，如CSV、JSON或XML。我们将在这个类中遇到所有这些文件格式。最简单的(也是结构最少的)是CSV -逗号分隔值-文件。CSV不是一种正式的文件格式，而是一个以文本文件表示的表，其中单元格由分隔符分隔。通常，第一行表示标题。分隔符可以是制表符、分号、冒号等:\n",
    "```\n",
    "Artist, Album, Genre\n",
    "Michael Jackson, Bad, Pop, funk, rock\n",
    "``` \n",
    "在这里，Album是由逗号分隔的多种Genre。但是，逗号也用于分隔各个列。为了解决这个问题，通常使用双引号来表示引号中包含的所有元素都不是定界符:\n",
    "\n",
    "```\n",
    "Artist, Album, Genre\n",
    "Michael Jackson, Bad, \"Pop, funk, rock\"\n",
    "``` \n",
    "\n",
    "现在，可以清楚`Pop, funk, rock`应该属于一个单元. \n",
    "\n",
    "我们准备了数据集供练[hit_albums.csv]. 数据看起来如下所示："
   ]
  },
  {
   "cell_type": "markdown",
   "metadata": {},
   "source": [
    "```\n",
    "Artist,Album,Released,Genre,\"Certified sales (millions)\",Claimed sales (millions)\n",
    "Michael Jackson,Thriller,1982,\"Pop, rock, R&B\",45.4,65\n",
    "AC/DC,Back in Black,1980,Hard rock,25.9,50\n",
    "Pink Floyd,The Dark Side of the Moon,1973,Progressive rock,22.7,45\n",
    "Whitney Houston / Various artists,The Bodyguard,1992,\"Soundtrack/R&B, soul, pop\",27.4,44\n",
    "...\n",
    "```"
   ]
  },
  {
   "cell_type": "markdown",
   "metadata": {},
   "source": [
    "读取CSV文件有多种方法。我们将首先介绍Python的基本读(和写)操作，但很快将转到Python和pandas中用于CSV文件的特定解析器。. "
   ]
  },
  {
   "cell_type": "markdown",
   "metadata": {},
   "source": [
    "## 1. 基本文件操作\n",
    "\n",
    "要读取一个文件，我们首先必须指定文件路径，并指定我们是否想要读取(r), 写(w),既读又写(r+),或追加(a). "
   ]
  },
  {
   "cell_type": "code",
   "execution_count": 2,
   "metadata": {},
   "outputs": [],
   "source": [
    "\"\"\"\n",
    "python3中的默认的编码解码方式为utf-8\n",
    "windows默认使用的编码方式为gbk\n",
    "当读取一个windows文件(gbk),可以指定读取时使用的编码encoding=('gbk')或者不需要指定\n",
    "with open('a.txt','r','encoding=(gbk)') as f:这样就能读取出a.txt文件的字符串数据\n",
    "当python写入文件时,默认使用的utf-8编码,在win上打开会乱码,因为win默认编码是gbk\n",
    "\n",
    "\"\"\"\n",
    "#Python内置open函数打开文件\n",
    "#albums_file = open('hit_albums.csv', 'r')\n",
    "albums_file = open('hit_albums.csv', 'r',encoding=('utf-8'))"
   ]
  },
  {
   "cell_type": "markdown",
   "metadata": {},
   "source": [
    "我们可以一次读取整个文件。注意，行以特殊字符、换行符或换行符结束`\\n`."
   ]
  },
  {
   "cell_type": "code",
   "execution_count": 3,
   "metadata": {},
   "outputs": [
    {
     "data": {
      "text/plain": [
       "'Artist,Album,Released,Genre,\"Certified sales (millions)\",Claimed sales (millions)\\nMichael Jackson,Thriller,1982,\"Pop, rock, R&B\",45.4,65\\nAC/DC,Back in Black,1980,Hard rock,25.9,50\\nPink Floyd,The Dark Side of the Moon,1973,Progressive rock,22.7,45\\nWhitney Houston / Various artists,The Bodyguard,1992,\"Soundtrack/R&B, soul, pop\",27.4,44\\nMeat Loaf,Bat Out of Hell,1977,\"Hard rock, progressive rock\",20.6,43\\nEagles,Their Greatest Hits (1971–1975),1976,\"Rock, soft rock, folk rock\",32.2,42\\nBee Gees / Various artists,Saturday Night Fever,1977,Disco,19,40\\nFleetwood Mac,Rumours,1977,Soft rock,27.9,40\\nShania Twain,Come On Over,1997,\"Country, pop\",29.6,39\\nLed Zeppelin,Led Zeppelin IV,1971,\"Hard rock, heavy metal\",29,37\\nMichael Jackson,Bad,1987,\"Pop, funk, rock\",20.3,34\\nAlanis Morissette,Jagged Little Pill,1995,Alternative rock,24.8,33\\nCeline Dion,Falling into You,1996,\"Pop, Soft rock\",20.2,32\\nThe Beatles,Sgt. Pepper\\'s Lonely Hearts Club Band,1967,Rock,13.1,32\\nEagles,Hotel California,1976,\"Rock, soft rock, folk rock\",21.5,32\\nMariah Carey,Music Box,1993,\"Pop, R&B, Rock\",19,32\\nMichael Jackson,Dangerous,1991,\"Rock, Funk, Pop\",17.6,32\\nVarious artists,Dirty Dancing,1987,\"Pop, rock, R&B\",17.9,32\\nCeline Dion,Let\\'s Talk About Love,1997,\"Pop, Soft rock\",19.3,31\\nThe Beatles,1,2000,Rock,21.6,31\\nAdele,21,2011,\"Pop, soul\",22.3,30\\nThe Beatles,Abbey Road,1969,Rock,14.4,30\\nBruce Springsteen,Born in the U.S.A.,1984,Rock,19.6,30\\nDire Straits,Brothers in Arms,1985,Rock,17.7,30\\nJames Horner,Titanic: Music from the Motion Picture,1997,Soundtrack,18.1,30\\nMadonna,The Immaculate Collection,1990,\"Pop, Dance\",19.4,30\\nMetallica,Metallica,1991,\"Thrash metal, heavy metal\",19.9,30\\nNirvana,Nevermind,1991,\"Grunge, alternative rock\",16.7,30\\nPink Floyd,The Wall,1979,Progressive rock,17.6,30\\nSantana,Supernatural,1999,Rock,20.5,30\\nGuns N\\' Roses,Appetite for Destruction,1987,\"Heavy metal, hard rock\",21.3,30\\nABBA,Gold: Greatest Hits,1992,Pop,29,\\nBon Jovi,Slippery When Wet,1986,Hard rock,28,\\nSpice Girls,Spice,1996,Pop,28,\\nVarious artists,Grease: The Original Soundtrack from the Motion Picture,1978,Soundtrack,28,\\nBritney Spears,...Baby One More Time,1999,Pop,28,\\nLinkin Park,Hybrid Theory,2000,\"Nu metal, rap metal, alternative metal\",27,\\nBob Marley & The Wailers,Legend: The Best of Bob Marley & The Wailers,1984,Reggae,25,\\nCarole King,Tapestry,1971,Pop,25,\\nMadonna,Like a Virgin,1984,\"Pop, dance\",25,\\nMadonna,True Blue,1986,Pop,25,\\nMariah Carey,Daydream,1995,\"Pop, R&B\",25,\\nNorah Jones,Come Away with Me,2002,Jazz,25,\\nPhil Collins,No Jacket Required,1985,\"Pop, Rock\",25,\\nQueen,Greatest Hits,1981,Rock,25,\\nSimon & Garfunkel,Bridge over Troubled Water,1970,Folk rock,25,\\nU2,The Joshua Tree,1987,Rock,25,\\nWhitney Houston,Whitney Houston,1985,\"Pop, R&B\",25,\\nBackstreet Boys,Backstreet\\'s Back / Backstreet Boys,1997,Pop,24,\\nBackstreet Boys,Millennium,1999,Pop,24,\\nAce of Base,Happy Nation/The Sign,1993,Pop,23,\\nTLC,CrazySexyCool,1994,\"R&B, hip hop\",23,\\nCyndi Lauper,She\\'s So Unusual,1983,\"New wave, pop rock, synthpop\",22,\\nOasis,(What\\'s the Story) Morning Glory?,1995,\"Britpop, rock\",22,\\nBon Jovi,Cross Road,1994,Hard rock,21,\\nEminem,The Marshall Mathers LP,2000,\"Rap, hip-hop\",21,\\nAdele,25,2015,\"Soul, pop, R&B\",20,\\nAvril Lavigne,Let Go,2002,\"Pop rock, alternative rock, post-grunge\",20,\\nBoston,Boston,1976,Hard rock,20,\\nBritney Spears,Oops!... I Did It Again,2000,Pop,20,\\nEric Clapton,Unplugged,1992,\"Acoustic blues, folk rock\",20,\\nDef Leppard,Hysteria,1987,\"Pop, Hard rock\",20,\\nGeorge Michael,Faith,1987,\"Pop, R&B\",20,\\nGreen Day,Dookie,1994,\"Pop punk, punk rock, alternative rock\",20,\\nLionel Richie,Can\\'t Slow Down,1983,\"Pop, R&B, soul\",20,\\nMichael Jackson,\"HIStory: Past, Present and Future, Book I\",1995,\"Pop, rock, R&B\",20,\\nMichael Jackson,Off the Wall,1979,\"Soul, disco, R&B\",20,\\nPrince & the Revolution,Purple Rain,1984,\"Pop, rock, R&B\",20,\\nShania Twain,The Woman in Me,1995,\"Country, pop\",20,\\nShania Twain,Up!,2002,\"Country, pop, world music\",20,\\nSupertramp,Breakfast in America,1979,\"Progressive rock, art rock\",20,\\nTina Turner,Private Dancer,1984,\"Pop, rock, R&B\",20,\\nTracy Chapman,Tracy Chapman,1988,Folk rock,20,\\nUsher,Confessions,2004,R&B,20,\\nVarious artists,Flashdance: Original Soundtrack from the Motion Picture,1983,Soundtrack,20,\\nWhitney Houston,Whitney,1987,\"Pop, R&B\",20,\\nShakira,Laundry Service,2001,\"Pop, Rock\",20,\\n'"
      ]
     },
     "execution_count": 3,
     "metadata": {},
     "output_type": "execute_result"
    }
   ],
   "source": [
    "#通过文件对象的read函数一次性读取所有文件内容\n",
    "content = albums_file.read()\n",
    "content"
   ]
  },
  {
   "cell_type": "markdown",
   "metadata": {},
   "source": [
    "如果打印出来, `\\n`就会被翻译为新行: "
   ]
  },
  {
   "cell_type": "code",
   "execution_count": 4,
   "metadata": {},
   "outputs": [
    {
     "name": "stdout",
     "output_type": "stream",
     "text": [
      "Artist,Album,Released,Genre,\"Certified sales (millions)\",Claimed sales (millions)\n",
      "Michael Jackson,Thriller,1982,\"Pop, rock, R&B\",45.4,65\n",
      "AC/DC,Back in Black,1980,Hard rock,25.9,50\n",
      "Pink Floyd,The Dark Side of the Moon,1973,Progressive rock,22.7,45\n",
      "Whitney Houston / Various artists,The Bodyguard,1992,\"Soundtrack/R&B, soul, pop\",27.4,44\n",
      "Meat Loaf,Bat Out of Hell,1977,\"Hard rock, progressive rock\",20.6,43\n",
      "Eagles,Their Greatest Hits (1971–1975),1976,\"Rock, soft rock, folk rock\",32.2,42\n",
      "Bee Gees / Various artists,Saturday Night Fever,1977,Disco,19,40\n",
      "Fleetwood Mac,Rumours,1977,Soft rock,27.9,40\n",
      "Shania Twain,Come On Over,1997,\"Country, pop\",29.6,39\n",
      "Led Zeppelin,Led Zeppelin IV,1971,\"Hard rock, heavy metal\",29,37\n",
      "Michael Jackson,Bad,1987,\"Pop, funk, rock\",20.3,34\n",
      "Alanis Morissette,Jagged Little Pill,1995,Alternative rock,24.8,33\n",
      "Celine Dion,Falling into You,1996,\"Pop, Soft rock\",20.2,32\n",
      "The Beatles,Sgt. Pepper's Lonely Hearts Club Band,1967,Rock,13.1,32\n",
      "Eagles,Hotel California,1976,\"Rock, soft rock, folk rock\",21.5,32\n",
      "Mariah Carey,Music Box,1993,\"Pop, R&B, Rock\",19,32\n",
      "Michael Jackson,Dangerous,1991,\"Rock, Funk, Pop\",17.6,32\n",
      "Various artists,Dirty Dancing,1987,\"Pop, rock, R&B\",17.9,32\n",
      "Celine Dion,Let's Talk About Love,1997,\"Pop, Soft rock\",19.3,31\n",
      "The Beatles,1,2000,Rock,21.6,31\n",
      "Adele,21,2011,\"Pop, soul\",22.3,30\n",
      "The Beatles,Abbey Road,1969,Rock,14.4,30\n",
      "Bruce Springsteen,Born in the U.S.A.,1984,Rock,19.6,30\n",
      "Dire Straits,Brothers in Arms,1985,Rock,17.7,30\n",
      "James Horner,Titanic: Music from the Motion Picture,1997,Soundtrack,18.1,30\n",
      "Madonna,The Immaculate Collection,1990,\"Pop, Dance\",19.4,30\n",
      "Metallica,Metallica,1991,\"Thrash metal, heavy metal\",19.9,30\n",
      "Nirvana,Nevermind,1991,\"Grunge, alternative rock\",16.7,30\n",
      "Pink Floyd,The Wall,1979,Progressive rock,17.6,30\n",
      "Santana,Supernatural,1999,Rock,20.5,30\n",
      "Guns N' Roses,Appetite for Destruction,1987,\"Heavy metal, hard rock\",21.3,30\n",
      "ABBA,Gold: Greatest Hits,1992,Pop,29,\n",
      "Bon Jovi,Slippery When Wet,1986,Hard rock,28,\n",
      "Spice Girls,Spice,1996,Pop,28,\n",
      "Various artists,Grease: The Original Soundtrack from the Motion Picture,1978,Soundtrack,28,\n",
      "Britney Spears,...Baby One More Time,1999,Pop,28,\n",
      "Linkin Park,Hybrid Theory,2000,\"Nu metal, rap metal, alternative metal\",27,\n",
      "Bob Marley & The Wailers,Legend: The Best of Bob Marley & The Wailers,1984,Reggae,25,\n",
      "Carole King,Tapestry,1971,Pop,25,\n",
      "Madonna,Like a Virgin,1984,\"Pop, dance\",25,\n",
      "Madonna,True Blue,1986,Pop,25,\n",
      "Mariah Carey,Daydream,1995,\"Pop, R&B\",25,\n",
      "Norah Jones,Come Away with Me,2002,Jazz,25,\n",
      "Phil Collins,No Jacket Required,1985,\"Pop, Rock\",25,\n",
      "Queen,Greatest Hits,1981,Rock,25,\n",
      "Simon & Garfunkel,Bridge over Troubled Water,1970,Folk rock,25,\n",
      "U2,The Joshua Tree,1987,Rock,25,\n",
      "Whitney Houston,Whitney Houston,1985,\"Pop, R&B\",25,\n",
      "Backstreet Boys,Backstreet's Back / Backstreet Boys,1997,Pop,24,\n",
      "Backstreet Boys,Millennium,1999,Pop,24,\n",
      "Ace of Base,Happy Nation/The Sign,1993,Pop,23,\n",
      "TLC,CrazySexyCool,1994,\"R&B, hip hop\",23,\n",
      "Cyndi Lauper,She's So Unusual,1983,\"New wave, pop rock, synthpop\",22,\n",
      "Oasis,(What's the Story) Morning Glory?,1995,\"Britpop, rock\",22,\n",
      "Bon Jovi,Cross Road,1994,Hard rock,21,\n",
      "Eminem,The Marshall Mathers LP,2000,\"Rap, hip-hop\",21,\n",
      "Adele,25,2015,\"Soul, pop, R&B\",20,\n",
      "Avril Lavigne,Let Go,2002,\"Pop rock, alternative rock, post-grunge\",20,\n",
      "Boston,Boston,1976,Hard rock,20,\n",
      "Britney Spears,Oops!... I Did It Again,2000,Pop,20,\n",
      "Eric Clapton,Unplugged,1992,\"Acoustic blues, folk rock\",20,\n",
      "Def Leppard,Hysteria,1987,\"Pop, Hard rock\",20,\n",
      "George Michael,Faith,1987,\"Pop, R&B\",20,\n",
      "Green Day,Dookie,1994,\"Pop punk, punk rock, alternative rock\",20,\n",
      "Lionel Richie,Can't Slow Down,1983,\"Pop, R&B, soul\",20,\n",
      "Michael Jackson,\"HIStory: Past, Present and Future, Book I\",1995,\"Pop, rock, R&B\",20,\n",
      "Michael Jackson,Off the Wall,1979,\"Soul, disco, R&B\",20,\n",
      "Prince & the Revolution,Purple Rain,1984,\"Pop, rock, R&B\",20,\n",
      "Shania Twain,The Woman in Me,1995,\"Country, pop\",20,\n",
      "Shania Twain,Up!,2002,\"Country, pop, world music\",20,\n",
      "Supertramp,Breakfast in America,1979,\"Progressive rock, art rock\",20,\n",
      "Tina Turner,Private Dancer,1984,\"Pop, rock, R&B\",20,\n",
      "Tracy Chapman,Tracy Chapman,1988,Folk rock,20,\n",
      "Usher,Confessions,2004,R&B,20,\n",
      "Various artists,Flashdance: Original Soundtrack from the Motion Picture,1983,Soundtrack,20,\n",
      "Whitney Houston,Whitney,1987,\"Pop, R&B\",20,\n",
      "Shakira,Laundry Service,2001,\"Pop, Rock\",20,\n",
      "\n"
     ]
    }
   ],
   "source": [
    "print(content)"
   ]
  },
  {
   "cell_type": "markdown",
   "metadata": {},
   "source": [
    "在读取文件之后，我们必须再次手动关闭它以释放操作系统资源:"
   ]
  },
  {
   "cell_type": "code",
   "execution_count": 5,
   "metadata": {},
   "outputs": [],
   "source": [
    "albums_file.close()"
   ]
  },
  {
   "cell_type": "markdown",
   "metadata": {},
   "source": [
    "或者，我们可以分别读取每一行:"
   ]
  },
  {
   "cell_type": "code",
   "execution_count": 6,
   "metadata": {},
   "outputs": [
    {
     "name": "stdout",
     "output_type": "stream",
     "text": [
      "Artist,Album,Released,Genre,\"Certified sales (millions)\",Claimed sales (millions)\n",
      "\n"
     ]
    }
   ],
   "source": [
    "albums_file = open('hit_albums.csv', 'r',encoding='utf-8')\n",
    "line1 = albums_file.readline();\n",
    "print(line1)"
   ]
  },
  {
   "cell_type": "markdown",
   "metadata": {},
   "source": [
    "我们现在能用[`split()`](https://docs.python.org/3/library/stdtypes.html#str.split) 基于逗号拆分字符串，来创建一个简单的CSV解析器:"
   ]
  },
  {
   "cell_type": "code",
   "execution_count": 7,
   "metadata": {},
   "outputs": [
    {
     "data": {
      "text/plain": [
       "['Artist',\n",
       " 'Album',\n",
       " 'Released',\n",
       " 'Genre',\n",
       " '\"Certified sales (millions)\"',\n",
       " 'Claimed sales (millions)\\n']"
      ]
     },
     "execution_count": 7,
     "metadata": {},
     "output_type": "execute_result"
    }
   ],
   "source": [
    "#字符串的split函数，可以指定分隔符拆分字符串\n",
    "line1.split(\",\")"
   ]
  },
  {
   "cell_type": "markdown",
   "metadata": {},
   "source": [
    "我们可以循环读取文件内容到数组中:"
   ]
  },
  {
   "cell_type": "code",
   "execution_count": 8,
   "metadata": {},
   "outputs": [
    {
     "data": {
      "text/plain": [
       "[['Michael Jackson',\n",
       "  'Thriller',\n",
       "  '1982',\n",
       "  '\"Pop',\n",
       "  ' rock',\n",
       "  ' R&B\"',\n",
       "  '45.4',\n",
       "  '65\\n'],\n",
       " ['AC/DC', 'Back in Black', '1980', 'Hard rock', '25.9', '50\\n'],\n",
       " ['Pink Floyd',\n",
       "  'The Dark Side of the Moon',\n",
       "  '1973',\n",
       "  'Progressive rock',\n",
       "  '22.7',\n",
       "  '45\\n'],\n",
       " ['Whitney Houston / Various artists',\n",
       "  'The Bodyguard',\n",
       "  '1992',\n",
       "  '\"Soundtrack/R&B',\n",
       "  ' soul',\n",
       "  ' pop\"',\n",
       "  '27.4',\n",
       "  '44\\n'],\n",
       " ['Meat Loaf',\n",
       "  'Bat Out of Hell',\n",
       "  '1977',\n",
       "  '\"Hard rock',\n",
       "  ' progressive rock\"',\n",
       "  '20.6',\n",
       "  '43\\n'],\n",
       " ['Eagles',\n",
       "  'Their Greatest Hits (1971–1975)',\n",
       "  '1976',\n",
       "  '\"Rock',\n",
       "  ' soft rock',\n",
       "  ' folk rock\"',\n",
       "  '32.2',\n",
       "  '42\\n'],\n",
       " ['Bee Gees / Various artists',\n",
       "  'Saturday Night Fever',\n",
       "  '1977',\n",
       "  'Disco',\n",
       "  '19',\n",
       "  '40\\n'],\n",
       " ['Fleetwood Mac', 'Rumours', '1977', 'Soft rock', '27.9', '40\\n'],\n",
       " ['Shania Twain', 'Come On Over', '1997', '\"Country', ' pop\"', '29.6', '39\\n'],\n",
       " ['Led Zeppelin',\n",
       "  'Led Zeppelin IV',\n",
       "  '1971',\n",
       "  '\"Hard rock',\n",
       "  ' heavy metal\"',\n",
       "  '29',\n",
       "  '37\\n'],\n",
       " ['Michael Jackson', 'Bad', '1987', '\"Pop', ' funk', ' rock\"', '20.3', '34\\n'],\n",
       " ['Alanis Morissette',\n",
       "  'Jagged Little Pill',\n",
       "  '1995',\n",
       "  'Alternative rock',\n",
       "  '24.8',\n",
       "  '33\\n'],\n",
       " ['Celine Dion',\n",
       "  'Falling into You',\n",
       "  '1996',\n",
       "  '\"Pop',\n",
       "  ' Soft rock\"',\n",
       "  '20.2',\n",
       "  '32\\n'],\n",
       " ['The Beatles',\n",
       "  \"Sgt. Pepper's Lonely Hearts Club Band\",\n",
       "  '1967',\n",
       "  'Rock',\n",
       "  '13.1',\n",
       "  '32\\n'],\n",
       " ['Eagles',\n",
       "  'Hotel California',\n",
       "  '1976',\n",
       "  '\"Rock',\n",
       "  ' soft rock',\n",
       "  ' folk rock\"',\n",
       "  '21.5',\n",
       "  '32\\n'],\n",
       " ['Mariah Carey', 'Music Box', '1993', '\"Pop', ' R&B', ' Rock\"', '19', '32\\n'],\n",
       " ['Michael Jackson',\n",
       "  'Dangerous',\n",
       "  '1991',\n",
       "  '\"Rock',\n",
       "  ' Funk',\n",
       "  ' Pop\"',\n",
       "  '17.6',\n",
       "  '32\\n'],\n",
       " ['Various artists',\n",
       "  'Dirty Dancing',\n",
       "  '1987',\n",
       "  '\"Pop',\n",
       "  ' rock',\n",
       "  ' R&B\"',\n",
       "  '17.9',\n",
       "  '32\\n'],\n",
       " ['Celine Dion',\n",
       "  \"Let's Talk About Love\",\n",
       "  '1997',\n",
       "  '\"Pop',\n",
       "  ' Soft rock\"',\n",
       "  '19.3',\n",
       "  '31\\n'],\n",
       " ['The Beatles', '1', '2000', 'Rock', '21.6', '31\\n'],\n",
       " ['Adele', '21', '2011', '\"Pop', ' soul\"', '22.3', '30\\n'],\n",
       " ['The Beatles', 'Abbey Road', '1969', 'Rock', '14.4', '30\\n'],\n",
       " ['Bruce Springsteen', 'Born in the U.S.A.', '1984', 'Rock', '19.6', '30\\n'],\n",
       " ['Dire Straits', 'Brothers in Arms', '1985', 'Rock', '17.7', '30\\n'],\n",
       " ['James Horner',\n",
       "  'Titanic: Music from the Motion Picture',\n",
       "  '1997',\n",
       "  'Soundtrack',\n",
       "  '18.1',\n",
       "  '30\\n'],\n",
       " ['Madonna',\n",
       "  'The Immaculate Collection',\n",
       "  '1990',\n",
       "  '\"Pop',\n",
       "  ' Dance\"',\n",
       "  '19.4',\n",
       "  '30\\n'],\n",
       " ['Metallica',\n",
       "  'Metallica',\n",
       "  '1991',\n",
       "  '\"Thrash metal',\n",
       "  ' heavy metal\"',\n",
       "  '19.9',\n",
       "  '30\\n'],\n",
       " ['Nirvana',\n",
       "  'Nevermind',\n",
       "  '1991',\n",
       "  '\"Grunge',\n",
       "  ' alternative rock\"',\n",
       "  '16.7',\n",
       "  '30\\n'],\n",
       " ['Pink Floyd', 'The Wall', '1979', 'Progressive rock', '17.6', '30\\n'],\n",
       " ['Santana', 'Supernatural', '1999', 'Rock', '20.5', '30\\n'],\n",
       " [\"Guns N' Roses\",\n",
       "  'Appetite for Destruction',\n",
       "  '1987',\n",
       "  '\"Heavy metal',\n",
       "  ' hard rock\"',\n",
       "  '21.3',\n",
       "  '30\\n'],\n",
       " ['ABBA', 'Gold: Greatest Hits', '1992', 'Pop', '29', '\\n'],\n",
       " ['Bon Jovi', 'Slippery When Wet', '1986', 'Hard rock', '28', '\\n'],\n",
       " ['Spice Girls', 'Spice', '1996', 'Pop', '28', '\\n'],\n",
       " ['Various artists',\n",
       "  'Grease: The Original Soundtrack from the Motion Picture',\n",
       "  '1978',\n",
       "  'Soundtrack',\n",
       "  '28',\n",
       "  '\\n'],\n",
       " ['Britney Spears', '...Baby One More Time', '1999', 'Pop', '28', '\\n'],\n",
       " ['Linkin Park',\n",
       "  'Hybrid Theory',\n",
       "  '2000',\n",
       "  '\"Nu metal',\n",
       "  ' rap metal',\n",
       "  ' alternative metal\"',\n",
       "  '27',\n",
       "  '\\n'],\n",
       " ['Bob Marley & The Wailers',\n",
       "  'Legend: The Best of Bob Marley & The Wailers',\n",
       "  '1984',\n",
       "  'Reggae',\n",
       "  '25',\n",
       "  '\\n'],\n",
       " ['Carole King', 'Tapestry', '1971', 'Pop', '25', '\\n'],\n",
       " ['Madonna', 'Like a Virgin', '1984', '\"Pop', ' dance\"', '25', '\\n'],\n",
       " ['Madonna', 'True Blue', '1986', 'Pop', '25', '\\n'],\n",
       " ['Mariah Carey', 'Daydream', '1995', '\"Pop', ' R&B\"', '25', '\\n'],\n",
       " ['Norah Jones', 'Come Away with Me', '2002', 'Jazz', '25', '\\n'],\n",
       " ['Phil Collins', 'No Jacket Required', '1985', '\"Pop', ' Rock\"', '25', '\\n'],\n",
       " ['Queen', 'Greatest Hits', '1981', 'Rock', '25', '\\n'],\n",
       " ['Simon & Garfunkel',\n",
       "  'Bridge over Troubled Water',\n",
       "  '1970',\n",
       "  'Folk rock',\n",
       "  '25',\n",
       "  '\\n'],\n",
       " ['U2', 'The Joshua Tree', '1987', 'Rock', '25', '\\n'],\n",
       " ['Whitney Houston', 'Whitney Houston', '1985', '\"Pop', ' R&B\"', '25', '\\n'],\n",
       " ['Backstreet Boys',\n",
       "  \"Backstreet's Back / Backstreet Boys\",\n",
       "  '1997',\n",
       "  'Pop',\n",
       "  '24',\n",
       "  '\\n'],\n",
       " ['Backstreet Boys', 'Millennium', '1999', 'Pop', '24', '\\n'],\n",
       " ['Ace of Base', 'Happy Nation/The Sign', '1993', 'Pop', '23', '\\n'],\n",
       " ['TLC', 'CrazySexyCool', '1994', '\"R&B', ' hip hop\"', '23', '\\n'],\n",
       " ['Cyndi Lauper',\n",
       "  \"She's So Unusual\",\n",
       "  '1983',\n",
       "  '\"New wave',\n",
       "  ' pop rock',\n",
       "  ' synthpop\"',\n",
       "  '22',\n",
       "  '\\n'],\n",
       " ['Oasis',\n",
       "  \"(What's the Story) Morning Glory?\",\n",
       "  '1995',\n",
       "  '\"Britpop',\n",
       "  ' rock\"',\n",
       "  '22',\n",
       "  '\\n'],\n",
       " ['Bon Jovi', 'Cross Road', '1994', 'Hard rock', '21', '\\n'],\n",
       " ['Eminem',\n",
       "  'The Marshall Mathers LP',\n",
       "  '2000',\n",
       "  '\"Rap',\n",
       "  ' hip-hop\"',\n",
       "  '21',\n",
       "  '\\n'],\n",
       " ['Adele', '25', '2015', '\"Soul', ' pop', ' R&B\"', '20', '\\n'],\n",
       " ['Avril Lavigne',\n",
       "  'Let Go',\n",
       "  '2002',\n",
       "  '\"Pop rock',\n",
       "  ' alternative rock',\n",
       "  ' post-grunge\"',\n",
       "  '20',\n",
       "  '\\n'],\n",
       " ['Boston', 'Boston', '1976', 'Hard rock', '20', '\\n'],\n",
       " ['Britney Spears', 'Oops!... I Did It Again', '2000', 'Pop', '20', '\\n'],\n",
       " ['Eric Clapton',\n",
       "  'Unplugged',\n",
       "  '1992',\n",
       "  '\"Acoustic blues',\n",
       "  ' folk rock\"',\n",
       "  '20',\n",
       "  '\\n'],\n",
       " ['Def Leppard', 'Hysteria', '1987', '\"Pop', ' Hard rock\"', '20', '\\n'],\n",
       " ['George Michael', 'Faith', '1987', '\"Pop', ' R&B\"', '20', '\\n'],\n",
       " ['Green Day',\n",
       "  'Dookie',\n",
       "  '1994',\n",
       "  '\"Pop punk',\n",
       "  ' punk rock',\n",
       "  ' alternative rock\"',\n",
       "  '20',\n",
       "  '\\n'],\n",
       " ['Lionel Richie',\n",
       "  \"Can't Slow Down\",\n",
       "  '1983',\n",
       "  '\"Pop',\n",
       "  ' R&B',\n",
       "  ' soul\"',\n",
       "  '20',\n",
       "  '\\n'],\n",
       " ['Michael Jackson',\n",
       "  '\"HIStory: Past',\n",
       "  ' Present and Future',\n",
       "  ' Book I\"',\n",
       "  '1995',\n",
       "  '\"Pop',\n",
       "  ' rock',\n",
       "  ' R&B\"',\n",
       "  '20',\n",
       "  '\\n'],\n",
       " ['Michael Jackson',\n",
       "  'Off the Wall',\n",
       "  '1979',\n",
       "  '\"Soul',\n",
       "  ' disco',\n",
       "  ' R&B\"',\n",
       "  '20',\n",
       "  '\\n'],\n",
       " ['Prince & the Revolution',\n",
       "  'Purple Rain',\n",
       "  '1984',\n",
       "  '\"Pop',\n",
       "  ' rock',\n",
       "  ' R&B\"',\n",
       "  '20',\n",
       "  '\\n'],\n",
       " ['Shania Twain', 'The Woman in Me', '1995', '\"Country', ' pop\"', '20', '\\n'],\n",
       " ['Shania Twain',\n",
       "  'Up!',\n",
       "  '2002',\n",
       "  '\"Country',\n",
       "  ' pop',\n",
       "  ' world music\"',\n",
       "  '20',\n",
       "  '\\n'],\n",
       " ['Supertramp',\n",
       "  'Breakfast in America',\n",
       "  '1979',\n",
       "  '\"Progressive rock',\n",
       "  ' art rock\"',\n",
       "  '20',\n",
       "  '\\n'],\n",
       " ['Tina Turner',\n",
       "  'Private Dancer',\n",
       "  '1984',\n",
       "  '\"Pop',\n",
       "  ' rock',\n",
       "  ' R&B\"',\n",
       "  '20',\n",
       "  '\\n'],\n",
       " ['Tracy Chapman', 'Tracy Chapman', '1988', 'Folk rock', '20', '\\n'],\n",
       " ['Usher', 'Confessions', '2004', 'R&B', '20', '\\n'],\n",
       " ['Various artists',\n",
       "  'Flashdance: Original Soundtrack from the Motion Picture',\n",
       "  '1983',\n",
       "  'Soundtrack',\n",
       "  '20',\n",
       "  '\\n'],\n",
       " ['Whitney Houston', 'Whitney', '1987', '\"Pop', ' R&B\"', '20', '\\n'],\n",
       " ['Shakira', 'Laundry Service', '2001', '\"Pop', ' Rock\"', '20', '\\n']]"
      ]
     },
     "execution_count": 8,
     "metadata": {},
     "output_type": "execute_result"
    }
   ],
   "source": [
    "data = []\n",
    "for line in albums_file:\n",
    "    data.append(line.split(\",\"))\n",
    "    \n",
    "# let's not forget to close the file:\n",
    "albums_file.close()\n",
    "data"
   ]
  },
  {
   "cell_type": "code",
   "execution_count": 9,
   "metadata": {},
   "outputs": [
    {
     "data": {
      "text/plain": [
       "'Thriller'"
      ]
     },
     "execution_count": 9,
     "metadata": {},
     "output_type": "execute_result"
    }
   ],
   "source": [
    "#读取单个行与单元\n",
    "data[0][1]"
   ]
  },
  {
   "cell_type": "code",
   "execution_count": 34,
   "metadata": {},
   "outputs": [
    {
     "data": {
      "text/plain": [
       "['Michael Jackson',\n",
       " 'Thriller',\n",
       " '1982',\n",
       " '\"Pop',\n",
       " ' rock',\n",
       " ' R&B\"',\n",
       " '45.4',\n",
       " '65\\n']"
      ]
     },
     "execution_count": 34,
     "metadata": {},
     "output_type": "execute_result"
    }
   ],
   "source": [
    "data[0]"
   ]
  },
  {
   "cell_type": "markdown",
   "metadata": {},
   "source": [
    "正如我们所看到的，这并没有恰当地处理我们对\"Pop, rock, R&B\"的双引号式转义。此外，数字仍然被视为字符串，换行符也被附加到最后一个单元格。\n",
    "我们当然可以改进解析器来处理这些问题，但幸运的是，现有的解析CSV文件的方法使这一点变得更容易.\n",
    "\n",
    "### 写入\n",
    "\n",
    "我们可以使用\"w\"标识打开文件写入操作g.这里我们也使用[`with`](https://docs.python.org/3/reference/compound_stmts.html#the-with-statement) 关键字, 即使出现问题，它也会为我们关闭文件:"
   ]
  },
  {
   "cell_type": "code",
   "execution_count": 10,
   "metadata": {},
   "outputs": [],
   "source": [
    "with open('my_file.txt', 'w') as new_file:\n",
    "    new_file.write(\"Hello World\\nAre you still spinning?\\n\")"
   ]
  },
  {
   "cell_type": "markdown",
   "metadata": {},
   "source": [
    "## 练习 1: 读写数据\n",
    "\n",
    "文件 [grades.csv](grades.csv) 是有名字和字母级别的文件:\n",
    "\n",
    "```\n",
    "Alice; A\n",
    "Bob; B\n",
    "Robert; A\n",
    "Richard; C\n",
    "```\n",
    "\n",
    "读文件到数组，添加一个GPA到学生的行(A=4,B=3,C=2,D=1). \n",
    "\n",
    "提示: 函数 [strip()](https://docs.python.org/3/library/stdtypes.html#str.strip) 从字符串中删除尾随的空白或换行.\n",
    "\n",
    "写这个文件到新文件`grades_gpa.csv`"
   ]
  },
  {
   "cell_type": "code",
   "execution_count": 13,
   "metadata": {},
   "outputs": [],
   "source": [
    "gpas = {\"A\":4, \"B\":3, \"C\":2, \"D\":1}\n",
    "\n",
    "data = []\n",
    "# 在这里继续，补充后续操作代码"
   ]
  },
  {
   "cell_type": "markdown",
   "metadata": {},
   "source": [
    "## 2. 使用CSV库读写CSV文件\n",
    "\n",
    "参考：https://baike.baidu.com/item/CSV/10739?fr=aladdin\n",
    "\n",
    "逗号分隔值（Comma-Separated Values，CSV，有时也称为字符分隔值，因为分隔字符也可以不是逗号），其文件以纯文本形式存储表格数据（数字和文本）。纯文本意味着该文件是一个字符序列，不含必须像二进制数字那样被解读的数据。CSV文件由任意数目的记录组成，记录间以某种换行符分隔；每条记录由字段组成，字段间的分隔符是其它字符或字符串，最常见的是逗号或制表符。通常，所有记录都有完全相同的字段序列。\n",
    "\n",
    "“CSV”并不是一种单一的、定义明确的格式（尽管RFC 4180有一个被通常使用的定义）。因此在实践中，术语“CSV”泛指具有以下特征的任何文件：\n",
    "    纯文本，使用某个字符集，比如ASCII、Unicode、EBCDIC或GB2312；\n",
    "    由记录组成（典型的是每行一条记录）；\n",
    "    每条记录被分隔符分隔为字段（典型分隔符有逗号、分号或制表符；有时分隔符可以包括可选的空格）；\n",
    "    每条记录都有同样的字段序列。\n",
    "\n",
    "### 规则\n",
    "1 开头是不留空，以行为单位。\n",
    "2 可含或不含列名，含列名则居文件第一行。\n",
    "3 一行数据不跨行，无空行。\n",
    "4 以半角逗号（即，）作分隔符，列为空也要表达其存在。\n",
    "5 列内容如存在半角引号（即\"），替换成半角双引号（\"\"）转义，即用半角引号（即\"\"）将该字段值包含起来。\n",
    "6 文件读写时引号，逗号操作规则互逆。\n",
    "7 内码格式不限，可为 ASCII、Unicode 或者其他。\n",
    "8 不支持数字\n",
    "9 不支持特殊字符"
   ]
  },
  {
   "cell_type": "markdown",
   "metadata": {},
   "source": [
    "我们可以使用CSV库来帮助读取数据。它接受一个“delimiter”和一个“quotechar”参数，后者对我们的双引号非常有用:"
   ]
  },
  {
   "cell_type": "code",
   "execution_count": 14,
   "metadata": {},
   "outputs": [
    {
     "name": "stdout",
     "output_type": "stream",
     "text": [
      "Row: ['Artist', 'Album', 'Released', 'Genre', 'Certified sales (millions)', 'Claimed sales (millions)']\n",
      "Row: ['Michael Jackson', 'Thriller', '1982', 'Pop, rock, R&B', '45.4', '65']\n",
      "Row: ['AC/DC', 'Back in Black', '1980', 'Hard rock', '25.9', '50']\n",
      "Row: ['Pink Floyd', 'The Dark Side of the Moon', '1973', 'Progressive rock', '22.7', '45']\n",
      "Row: ['Whitney Houston / Various artists', 'The Bodyguard', '1992', 'Soundtrack/R&B, soul, pop', '27.4', '44']\n",
      "Row: ['Meat Loaf', 'Bat Out of Hell', '1977', 'Hard rock, progressive rock', '20.6', '43']\n",
      "Row: ['Eagles', 'Their Greatest Hits (1971–1975)', '1976', 'Rock, soft rock, folk rock', '32.2', '42']\n",
      "Row: ['Bee Gees / Various artists', 'Saturday Night Fever', '1977', 'Disco', '19', '40']\n",
      "Row: ['Fleetwood Mac', 'Rumours', '1977', 'Soft rock', '27.9', '40']\n",
      "Row: ['Shania Twain', 'Come On Over', '1997', 'Country, pop', '29.6', '39']\n",
      "Row: ['Led Zeppelin', 'Led Zeppelin IV', '1971', 'Hard rock, heavy metal', '29', '37']\n",
      "Row: ['Michael Jackson', 'Bad', '1987', 'Pop, funk, rock', '20.3', '34']\n",
      "Row: ['Alanis Morissette', 'Jagged Little Pill', '1995', 'Alternative rock', '24.8', '33']\n",
      "Row: ['Celine Dion', 'Falling into You', '1996', 'Pop, Soft rock', '20.2', '32']\n",
      "Row: ['The Beatles', \"Sgt. Pepper's Lonely Hearts Club Band\", '1967', 'Rock', '13.1', '32']\n",
      "Row: ['Eagles', 'Hotel California', '1976', 'Rock, soft rock, folk rock', '21.5', '32']\n",
      "Row: ['Mariah Carey', 'Music Box', '1993', 'Pop, R&B, Rock', '19', '32']\n",
      "Row: ['Michael Jackson', 'Dangerous', '1991', 'Rock, Funk, Pop', '17.6', '32']\n",
      "Row: ['Various artists', 'Dirty Dancing', '1987', 'Pop, rock, R&B', '17.9', '32']\n",
      "Row: ['Celine Dion', \"Let's Talk About Love\", '1997', 'Pop, Soft rock', '19.3', '31']\n",
      "Row: ['The Beatles', '1', '2000', 'Rock', '21.6', '31']\n",
      "Row: ['Adele', '21', '2011', 'Pop, soul', '22.3', '30']\n",
      "Row: ['The Beatles', 'Abbey Road', '1969', 'Rock', '14.4', '30']\n",
      "Row: ['Bruce Springsteen', 'Born in the U.S.A.', '1984', 'Rock', '19.6', '30']\n",
      "Row: ['Dire Straits', 'Brothers in Arms', '1985', 'Rock', '17.7', '30']\n",
      "Row: ['James Horner', 'Titanic: Music from the Motion Picture', '1997', 'Soundtrack', '18.1', '30']\n",
      "Row: ['Madonna', 'The Immaculate Collection', '1990', 'Pop, Dance', '19.4', '30']\n",
      "Row: ['Metallica', 'Metallica', '1991', 'Thrash metal, heavy metal', '19.9', '30']\n",
      "Row: ['Nirvana', 'Nevermind', '1991', 'Grunge, alternative rock', '16.7', '30']\n",
      "Row: ['Pink Floyd', 'The Wall', '1979', 'Progressive rock', '17.6', '30']\n",
      "Row: ['Santana', 'Supernatural', '1999', 'Rock', '20.5', '30']\n",
      "Row: [\"Guns N' Roses\", 'Appetite for Destruction', '1987', 'Heavy metal, hard rock', '21.3', '30']\n",
      "Row: ['ABBA', 'Gold: Greatest Hits', '1992', 'Pop', '29', '']\n",
      "Row: ['Bon Jovi', 'Slippery When Wet', '1986', 'Hard rock', '28', '']\n",
      "Row: ['Spice Girls', 'Spice', '1996', 'Pop', '28', '']\n",
      "Row: ['Various artists', 'Grease: The Original Soundtrack from the Motion Picture', '1978', 'Soundtrack', '28', '']\n",
      "Row: ['Britney Spears', '...Baby One More Time', '1999', 'Pop', '28', '']\n",
      "Row: ['Linkin Park', 'Hybrid Theory', '2000', 'Nu metal, rap metal, alternative metal', '27', '']\n",
      "Row: ['Bob Marley & The Wailers', 'Legend: The Best of Bob Marley & The Wailers', '1984', 'Reggae', '25', '']\n",
      "Row: ['Carole King', 'Tapestry', '1971', 'Pop', '25', '']\n",
      "Row: ['Madonna', 'Like a Virgin', '1984', 'Pop, dance', '25', '']\n",
      "Row: ['Madonna', 'True Blue', '1986', 'Pop', '25', '']\n",
      "Row: ['Mariah Carey', 'Daydream', '1995', 'Pop, R&B', '25', '']\n",
      "Row: ['Norah Jones', 'Come Away with Me', '2002', 'Jazz', '25', '']\n",
      "Row: ['Phil Collins', 'No Jacket Required', '1985', 'Pop, Rock', '25', '']\n",
      "Row: ['Queen', 'Greatest Hits', '1981', 'Rock', '25', '']\n",
      "Row: ['Simon & Garfunkel', 'Bridge over Troubled Water', '1970', 'Folk rock', '25', '']\n",
      "Row: ['U2', 'The Joshua Tree', '1987', 'Rock', '25', '']\n",
      "Row: ['Whitney Houston', 'Whitney Houston', '1985', 'Pop, R&B', '25', '']\n",
      "Row: ['Backstreet Boys', \"Backstreet's Back / Backstreet Boys\", '1997', 'Pop', '24', '']\n",
      "Row: ['Backstreet Boys', 'Millennium', '1999', 'Pop', '24', '']\n",
      "Row: ['Ace of Base', 'Happy Nation/The Sign', '1993', 'Pop', '23', '']\n",
      "Row: ['TLC', 'CrazySexyCool', '1994', 'R&B, hip hop', '23', '']\n",
      "Row: ['Cyndi Lauper', \"She's So Unusual\", '1983', 'New wave, pop rock, synthpop', '22', '']\n",
      "Row: ['Oasis', \"(What's the Story) Morning Glory?\", '1995', 'Britpop, rock', '22', '']\n",
      "Row: ['Bon Jovi', 'Cross Road', '1994', 'Hard rock', '21', '']\n",
      "Row: ['Eminem', 'The Marshall Mathers LP', '2000', 'Rap, hip-hop', '21', '']\n",
      "Row: ['Adele', '25', '2015', 'Soul, pop, R&B', '20', '']\n",
      "Row: ['Avril Lavigne', 'Let Go', '2002', 'Pop rock, alternative rock, post-grunge', '20', '']\n",
      "Row: ['Boston', 'Boston', '1976', 'Hard rock', '20', '']\n",
      "Row: ['Britney Spears', 'Oops!... I Did It Again', '2000', 'Pop', '20', '']\n",
      "Row: ['Eric Clapton', 'Unplugged', '1992', 'Acoustic blues, folk rock', '20', '']\n",
      "Row: ['Def Leppard', 'Hysteria', '1987', 'Pop, Hard rock', '20', '']\n",
      "Row: ['George Michael', 'Faith', '1987', 'Pop, R&B', '20', '']\n",
      "Row: ['Green Day', 'Dookie', '1994', 'Pop punk, punk rock, alternative rock', '20', '']\n",
      "Row: ['Lionel Richie', \"Can't Slow Down\", '1983', 'Pop, R&B, soul', '20', '']\n",
      "Row: ['Michael Jackson', 'HIStory: Past, Present and Future, Book I', '1995', 'Pop, rock, R&B', '20', '']\n",
      "Row: ['Michael Jackson', 'Off the Wall', '1979', 'Soul, disco, R&B', '20', '']\n",
      "Row: ['Prince & the Revolution', 'Purple Rain', '1984', 'Pop, rock, R&B', '20', '']\n",
      "Row: ['Shania Twain', 'The Woman in Me', '1995', 'Country, pop', '20', '']\n",
      "Row: ['Shania Twain', 'Up!', '2002', 'Country, pop, world music', '20', '']\n",
      "Row: ['Supertramp', 'Breakfast in America', '1979', 'Progressive rock, art rock', '20', '']\n",
      "Row: ['Tina Turner', 'Private Dancer', '1984', 'Pop, rock, R&B', '20', '']\n",
      "Row: ['Tracy Chapman', 'Tracy Chapman', '1988', 'Folk rock', '20', '']\n",
      "Row: ['Usher', 'Confessions', '2004', 'R&B', '20', '']\n",
      "Row: ['Various artists', 'Flashdance: Original Soundtrack from the Motion Picture', '1983', 'Soundtrack', '20', '']\n",
      "Row: ['Whitney Houston', 'Whitney', '1987', 'Pop, R&B', '20', '']\n",
      "Row: ['Shakira', 'Laundry Service', '2001', 'Pop, Rock', '20', '']\n",
      "\n",
      "['Artist', 'Album', 'Released', 'Genre', 'Certified sales (millions)', 'Claimed sales (millions)']\n",
      "\n",
      "[['Michael Jackson', 'Thriller', '1982', 'Pop, rock, R&B', '45.4', '65'], ['AC/DC', 'Back in Black', '1980', 'Hard rock', '25.9', '50'], ['Pink Floyd', 'The Dark Side of the Moon', '1973', 'Progressive rock', '22.7', '45'], ['Whitney Houston / Various artists', 'The Bodyguard', '1992', 'Soundtrack/R&B, soul, pop', '27.4', '44'], ['Meat Loaf', 'Bat Out of Hell', '1977', 'Hard rock, progressive rock', '20.6', '43'], ['Eagles', 'Their Greatest Hits (1971–1975)', '1976', 'Rock, soft rock, folk rock', '32.2', '42'], ['Bee Gees / Various artists', 'Saturday Night Fever', '1977', 'Disco', '19', '40'], ['Fleetwood Mac', 'Rumours', '1977', 'Soft rock', '27.9', '40'], ['Shania Twain', 'Come On Over', '1997', 'Country, pop', '29.6', '39'], ['Led Zeppelin', 'Led Zeppelin IV', '1971', 'Hard rock, heavy metal', '29', '37'], ['Michael Jackson', 'Bad', '1987', 'Pop, funk, rock', '20.3', '34'], ['Alanis Morissette', 'Jagged Little Pill', '1995', 'Alternative rock', '24.8', '33'], ['Celine Dion', 'Falling into You', '1996', 'Pop, Soft rock', '20.2', '32'], ['The Beatles', \"Sgt. Pepper's Lonely Hearts Club Band\", '1967', 'Rock', '13.1', '32'], ['Eagles', 'Hotel California', '1976', 'Rock, soft rock, folk rock', '21.5', '32'], ['Mariah Carey', 'Music Box', '1993', 'Pop, R&B, Rock', '19', '32'], ['Michael Jackson', 'Dangerous', '1991', 'Rock, Funk, Pop', '17.6', '32'], ['Various artists', 'Dirty Dancing', '1987', 'Pop, rock, R&B', '17.9', '32'], ['Celine Dion', \"Let's Talk About Love\", '1997', 'Pop, Soft rock', '19.3', '31'], ['The Beatles', '1', '2000', 'Rock', '21.6', '31'], ['Adele', '21', '2011', 'Pop, soul', '22.3', '30'], ['The Beatles', 'Abbey Road', '1969', 'Rock', '14.4', '30'], ['Bruce Springsteen', 'Born in the U.S.A.', '1984', 'Rock', '19.6', '30'], ['Dire Straits', 'Brothers in Arms', '1985', 'Rock', '17.7', '30'], ['James Horner', 'Titanic: Music from the Motion Picture', '1997', 'Soundtrack', '18.1', '30'], ['Madonna', 'The Immaculate Collection', '1990', 'Pop, Dance', '19.4', '30'], ['Metallica', 'Metallica', '1991', 'Thrash metal, heavy metal', '19.9', '30'], ['Nirvana', 'Nevermind', '1991', 'Grunge, alternative rock', '16.7', '30'], ['Pink Floyd', 'The Wall', '1979', 'Progressive rock', '17.6', '30'], ['Santana', 'Supernatural', '1999', 'Rock', '20.5', '30'], [\"Guns N' Roses\", 'Appetite for Destruction', '1987', 'Heavy metal, hard rock', '21.3', '30'], ['ABBA', 'Gold: Greatest Hits', '1992', 'Pop', '29', ''], ['Bon Jovi', 'Slippery When Wet', '1986', 'Hard rock', '28', ''], ['Spice Girls', 'Spice', '1996', 'Pop', '28', ''], ['Various artists', 'Grease: The Original Soundtrack from the Motion Picture', '1978', 'Soundtrack', '28', ''], ['Britney Spears', '...Baby One More Time', '1999', 'Pop', '28', ''], ['Linkin Park', 'Hybrid Theory', '2000', 'Nu metal, rap metal, alternative metal', '27', ''], ['Bob Marley & The Wailers', 'Legend: The Best of Bob Marley & The Wailers', '1984', 'Reggae', '25', ''], ['Carole King', 'Tapestry', '1971', 'Pop', '25', ''], ['Madonna', 'Like a Virgin', '1984', 'Pop, dance', '25', ''], ['Madonna', 'True Blue', '1986', 'Pop', '25', ''], ['Mariah Carey', 'Daydream', '1995', 'Pop, R&B', '25', ''], ['Norah Jones', 'Come Away with Me', '2002', 'Jazz', '25', ''], ['Phil Collins', 'No Jacket Required', '1985', 'Pop, Rock', '25', ''], ['Queen', 'Greatest Hits', '1981', 'Rock', '25', ''], ['Simon & Garfunkel', 'Bridge over Troubled Water', '1970', 'Folk rock', '25', ''], ['U2', 'The Joshua Tree', '1987', 'Rock', '25', ''], ['Whitney Houston', 'Whitney Houston', '1985', 'Pop, R&B', '25', ''], ['Backstreet Boys', \"Backstreet's Back / Backstreet Boys\", '1997', 'Pop', '24', ''], ['Backstreet Boys', 'Millennium', '1999', 'Pop', '24', ''], ['Ace of Base', 'Happy Nation/The Sign', '1993', 'Pop', '23', ''], ['TLC', 'CrazySexyCool', '1994', 'R&B, hip hop', '23', ''], ['Cyndi Lauper', \"She's So Unusual\", '1983', 'New wave, pop rock, synthpop', '22', ''], ['Oasis', \"(What's the Story) Morning Glory?\", '1995', 'Britpop, rock', '22', ''], ['Bon Jovi', 'Cross Road', '1994', 'Hard rock', '21', ''], ['Eminem', 'The Marshall Mathers LP', '2000', 'Rap, hip-hop', '21', ''], ['Adele', '25', '2015', 'Soul, pop, R&B', '20', ''], ['Avril Lavigne', 'Let Go', '2002', 'Pop rock, alternative rock, post-grunge', '20', ''], ['Boston', 'Boston', '1976', 'Hard rock', '20', ''], ['Britney Spears', 'Oops!... I Did It Again', '2000', 'Pop', '20', ''], ['Eric Clapton', 'Unplugged', '1992', 'Acoustic blues, folk rock', '20', ''], ['Def Leppard', 'Hysteria', '1987', 'Pop, Hard rock', '20', ''], ['George Michael', 'Faith', '1987', 'Pop, R&B', '20', ''], ['Green Day', 'Dookie', '1994', 'Pop punk, punk rock, alternative rock', '20', ''], ['Lionel Richie', \"Can't Slow Down\", '1983', 'Pop, R&B, soul', '20', ''], ['Michael Jackson', 'HIStory: Past, Present and Future, Book I', '1995', 'Pop, rock, R&B', '20', ''], ['Michael Jackson', 'Off the Wall', '1979', 'Soul, disco, R&B', '20', ''], ['Prince & the Revolution', 'Purple Rain', '1984', 'Pop, rock, R&B', '20', ''], ['Shania Twain', 'The Woman in Me', '1995', 'Country, pop', '20', ''], ['Shania Twain', 'Up!', '2002', 'Country, pop, world music', '20', ''], ['Supertramp', 'Breakfast in America', '1979', 'Progressive rock, art rock', '20', ''], ['Tina Turner', 'Private Dancer', '1984', 'Pop, rock, R&B', '20', ''], ['Tracy Chapman', 'Tracy Chapman', '1988', 'Folk rock', '20', ''], ['Usher', 'Confessions', '2004', 'R&B', '20', ''], ['Various artists', 'Flashdance: Original Soundtrack from the Motion Picture', '1983', 'Soundtrack', '20', ''], ['Whitney Houston', 'Whitney', '1987', 'Pop, R&B', '20', ''], ['Shakira', 'Laundry Service', '2001', 'Pop, Rock', '20', '']]\n"
     ]
    }
   ],
   "source": [
    "# 导入csv库\n",
    "import csv\n",
    "\n",
    "# 初始化顶级数组\n",
    "data_values = []\n",
    "\n",
    "# 打开文件并把行数据作为数组追加到data_values中.如果出现乱码，需要在open函数中设置encoding参数\n",
    "with open('hit_albums.csv',encoding=\"utf-8\") as csvfile:\n",
    "    # 请注意，通常我们可以互换使用'和\"\n",
    "    # 对于quotechar，我们使用'以便我们可以使用\"而不用转义\n",
    "    filereader = csv.reader(csvfile, delimiter=',', quotechar='\"')\n",
    "    # 这里的行是个数组\n",
    "    for row in filereader:\n",
    "        print(\"Row: \" + str(row))\n",
    "        data_values.append(row)\n",
    "\n",
    "# 保存头数据（header，对应列名）到单独的数组中\n",
    "header = data_values.pop(0)\n",
    "   \n",
    "print()    \n",
    "print(header)\n",
    "print()\n",
    "print(data_values)"
   ]
  },
  {
   "cell_type": "markdown",
   "metadata": {},
   "source": [
    "要对这个表的数值维进行计算，我们还需要将字符串转换为数字。这里最后一列`Claimed sales (millions)`不是每一行都有值，因此转换会抛出`ValueError` 异常. [Exceptions](https://docs.python.org/3/reference/compound_stmts.html#try)是能够捕获并抛出的错误状态:"
   ]
  },
  {
   "cell_type": "code",
   "execution_count": 15,
   "metadata": {},
   "outputs": [
    {
     "data": {
      "text/plain": [
       "[['Michael Jackson', 'Thriller', 1982, 'Pop, rock, R&B', 45.4, 65.0],\n",
       " ['AC/DC', 'Back in Black', 1980, 'Hard rock', 25.9, 50.0],\n",
       " ['Pink Floyd',\n",
       "  'The Dark Side of the Moon',\n",
       "  1973,\n",
       "  'Progressive rock',\n",
       "  22.7,\n",
       "  45.0],\n",
       " ['Whitney Houston / Various artists',\n",
       "  'The Bodyguard',\n",
       "  1992,\n",
       "  'Soundtrack/R&B, soul, pop',\n",
       "  27.4,\n",
       "  44.0],\n",
       " ['Meat Loaf',\n",
       "  'Bat Out of Hell',\n",
       "  1977,\n",
       "  'Hard rock, progressive rock',\n",
       "  20.6,\n",
       "  43.0],\n",
       " ['Eagles',\n",
       "  'Their Greatest Hits (1971–1975)',\n",
       "  1976,\n",
       "  'Rock, soft rock, folk rock',\n",
       "  32.2,\n",
       "  42.0],\n",
       " ['Bee Gees / Various artists',\n",
       "  'Saturday Night Fever',\n",
       "  1977,\n",
       "  'Disco',\n",
       "  19.0,\n",
       "  40.0],\n",
       " ['Fleetwood Mac', 'Rumours', 1977, 'Soft rock', 27.9, 40.0],\n",
       " ['Shania Twain', 'Come On Over', 1997, 'Country, pop', 29.6, 39.0],\n",
       " ['Led Zeppelin',\n",
       "  'Led Zeppelin IV',\n",
       "  1971,\n",
       "  'Hard rock, heavy metal',\n",
       "  29.0,\n",
       "  37.0],\n",
       " ['Michael Jackson', 'Bad', 1987, 'Pop, funk, rock', 20.3, 34.0],\n",
       " ['Alanis Morissette',\n",
       "  'Jagged Little Pill',\n",
       "  1995,\n",
       "  'Alternative rock',\n",
       "  24.8,\n",
       "  33.0],\n",
       " ['Celine Dion', 'Falling into You', 1996, 'Pop, Soft rock', 20.2, 32.0],\n",
       " ['The Beatles',\n",
       "  \"Sgt. Pepper's Lonely Hearts Club Band\",\n",
       "  1967,\n",
       "  'Rock',\n",
       "  13.1,\n",
       "  32.0],\n",
       " ['Eagles',\n",
       "  'Hotel California',\n",
       "  1976,\n",
       "  'Rock, soft rock, folk rock',\n",
       "  21.5,\n",
       "  32.0],\n",
       " ['Mariah Carey', 'Music Box', 1993, 'Pop, R&B, Rock', 19.0, 32.0],\n",
       " ['Michael Jackson', 'Dangerous', 1991, 'Rock, Funk, Pop', 17.6, 32.0],\n",
       " ['Various artists', 'Dirty Dancing', 1987, 'Pop, rock, R&B', 17.9, 32.0],\n",
       " ['Celine Dion', \"Let's Talk About Love\", 1997, 'Pop, Soft rock', 19.3, 31.0],\n",
       " ['The Beatles', '1', 2000, 'Rock', 21.6, 31.0],\n",
       " ['Adele', '21', 2011, 'Pop, soul', 22.3, 30.0],\n",
       " ['The Beatles', 'Abbey Road', 1969, 'Rock', 14.4, 30.0],\n",
       " ['Bruce Springsteen', 'Born in the U.S.A.', 1984, 'Rock', 19.6, 30.0],\n",
       " ['Dire Straits', 'Brothers in Arms', 1985, 'Rock', 17.7, 30.0],\n",
       " ['James Horner',\n",
       "  'Titanic: Music from the Motion Picture',\n",
       "  1997,\n",
       "  'Soundtrack',\n",
       "  18.1,\n",
       "  30.0],\n",
       " ['Madonna', 'The Immaculate Collection', 1990, 'Pop, Dance', 19.4, 30.0],\n",
       " ['Metallica', 'Metallica', 1991, 'Thrash metal, heavy metal', 19.9, 30.0],\n",
       " ['Nirvana', 'Nevermind', 1991, 'Grunge, alternative rock', 16.7, 30.0],\n",
       " ['Pink Floyd', 'The Wall', 1979, 'Progressive rock', 17.6, 30.0],\n",
       " ['Santana', 'Supernatural', 1999, 'Rock', 20.5, 30.0],\n",
       " [\"Guns N' Roses\",\n",
       "  'Appetite for Destruction',\n",
       "  1987,\n",
       "  'Heavy metal, hard rock',\n",
       "  21.3,\n",
       "  30.0],\n",
       " ['ABBA', 'Gold: Greatest Hits', 1992, 'Pop', 29.0, None],\n",
       " ['Bon Jovi', 'Slippery When Wet', 1986, 'Hard rock', 28.0, None],\n",
       " ['Spice Girls', 'Spice', 1996, 'Pop', 28.0, None],\n",
       " ['Various artists',\n",
       "  'Grease: The Original Soundtrack from the Motion Picture',\n",
       "  1978,\n",
       "  'Soundtrack',\n",
       "  28.0,\n",
       "  None],\n",
       " ['Britney Spears', '...Baby One More Time', 1999, 'Pop', 28.0, None],\n",
       " ['Linkin Park',\n",
       "  'Hybrid Theory',\n",
       "  2000,\n",
       "  'Nu metal, rap metal, alternative metal',\n",
       "  27.0,\n",
       "  None],\n",
       " ['Bob Marley & The Wailers',\n",
       "  'Legend: The Best of Bob Marley & The Wailers',\n",
       "  1984,\n",
       "  'Reggae',\n",
       "  25.0,\n",
       "  None],\n",
       " ['Carole King', 'Tapestry', 1971, 'Pop', 25.0, None],\n",
       " ['Madonna', 'Like a Virgin', 1984, 'Pop, dance', 25.0, None],\n",
       " ['Madonna', 'True Blue', 1986, 'Pop', 25.0, None],\n",
       " ['Mariah Carey', 'Daydream', 1995, 'Pop, R&B', 25.0, None],\n",
       " ['Norah Jones', 'Come Away with Me', 2002, 'Jazz', 25.0, None],\n",
       " ['Phil Collins', 'No Jacket Required', 1985, 'Pop, Rock', 25.0, None],\n",
       " ['Queen', 'Greatest Hits', 1981, 'Rock', 25.0, None],\n",
       " ['Simon & Garfunkel',\n",
       "  'Bridge over Troubled Water',\n",
       "  1970,\n",
       "  'Folk rock',\n",
       "  25.0,\n",
       "  None],\n",
       " ['U2', 'The Joshua Tree', 1987, 'Rock', 25.0, None],\n",
       " ['Whitney Houston', 'Whitney Houston', 1985, 'Pop, R&B', 25.0, None],\n",
       " ['Backstreet Boys',\n",
       "  \"Backstreet's Back / Backstreet Boys\",\n",
       "  1997,\n",
       "  'Pop',\n",
       "  24.0,\n",
       "  None],\n",
       " ['Backstreet Boys', 'Millennium', 1999, 'Pop', 24.0, None],\n",
       " ['Ace of Base', 'Happy Nation/The Sign', 1993, 'Pop', 23.0, None],\n",
       " ['TLC', 'CrazySexyCool', 1994, 'R&B, hip hop', 23.0, None],\n",
       " ['Cyndi Lauper',\n",
       "  \"She's So Unusual\",\n",
       "  1983,\n",
       "  'New wave, pop rock, synthpop',\n",
       "  22.0,\n",
       "  None],\n",
       " ['Oasis',\n",
       "  \"(What's the Story) Morning Glory?\",\n",
       "  1995,\n",
       "  'Britpop, rock',\n",
       "  22.0,\n",
       "  None],\n",
       " ['Bon Jovi', 'Cross Road', 1994, 'Hard rock', 21.0, None],\n",
       " ['Eminem', 'The Marshall Mathers LP', 2000, 'Rap, hip-hop', 21.0, None],\n",
       " ['Adele', '25', 2015, 'Soul, pop, R&B', 20.0, None],\n",
       " ['Avril Lavigne',\n",
       "  'Let Go',\n",
       "  2002,\n",
       "  'Pop rock, alternative rock, post-grunge',\n",
       "  20.0,\n",
       "  None],\n",
       " ['Boston', 'Boston', 1976, 'Hard rock', 20.0, None],\n",
       " ['Britney Spears', 'Oops!... I Did It Again', 2000, 'Pop', 20.0, None],\n",
       " ['Eric Clapton', 'Unplugged', 1992, 'Acoustic blues, folk rock', 20.0, None],\n",
       " ['Def Leppard', 'Hysteria', 1987, 'Pop, Hard rock', 20.0, None],\n",
       " ['George Michael', 'Faith', 1987, 'Pop, R&B', 20.0, None],\n",
       " ['Green Day',\n",
       "  'Dookie',\n",
       "  1994,\n",
       "  'Pop punk, punk rock, alternative rock',\n",
       "  20.0,\n",
       "  None],\n",
       " ['Lionel Richie', \"Can't Slow Down\", 1983, 'Pop, R&B, soul', 20.0, None],\n",
       " ['Michael Jackson',\n",
       "  'HIStory: Past, Present and Future, Book I',\n",
       "  1995,\n",
       "  'Pop, rock, R&B',\n",
       "  20.0,\n",
       "  None],\n",
       " ['Michael Jackson', 'Off the Wall', 1979, 'Soul, disco, R&B', 20.0, None],\n",
       " ['Prince & the Revolution',\n",
       "  'Purple Rain',\n",
       "  1984,\n",
       "  'Pop, rock, R&B',\n",
       "  20.0,\n",
       "  None],\n",
       " ['Shania Twain', 'The Woman in Me', 1995, 'Country, pop', 20.0, None],\n",
       " ['Shania Twain', 'Up!', 2002, 'Country, pop, world music', 20.0, None],\n",
       " ['Supertramp',\n",
       "  'Breakfast in America',\n",
       "  1979,\n",
       "  'Progressive rock, art rock',\n",
       "  20.0,\n",
       "  None],\n",
       " ['Tina Turner', 'Private Dancer', 1984, 'Pop, rock, R&B', 20.0, None],\n",
       " ['Tracy Chapman', 'Tracy Chapman', 1988, 'Folk rock', 20.0, None],\n",
       " ['Usher', 'Confessions', 2004, 'R&B', 20.0, None],\n",
       " ['Various artists',\n",
       "  'Flashdance: Original Soundtrack from the Motion Picture',\n",
       "  1983,\n",
       "  'Soundtrack',\n",
       "  20.0,\n",
       "  None],\n",
       " ['Whitney Houston', 'Whitney', 1987, 'Pop, R&B', 20.0, None],\n",
       " ['Shakira', 'Laundry Service', 2001, 'Pop, Rock', 20.0, None]]"
      ]
     },
     "execution_count": 15,
     "metadata": {},
     "output_type": "execute_result"
    }
   ],
   "source": [
    "for row in data_values: \n",
    "    row[2] = int(row[2])\n",
    "    row[4] = float(row[4])\n",
    "    # 需要尝试捕获异常，因为该列包含NaN值\n",
    "    try:\n",
    "        row[5] = float(row[5])\n",
    "    except ValueError: \n",
    "        row[5] = None\n",
    "    \n",
    "data_values"
   ]
  },
  {
   "cell_type": "markdown",
   "metadata": {},
   "source": [
    "所以，这里我们有一个矩阵，我们可以利用它。实际上，我们可能想要以稍微不同的方式构造数据—我们不想把每一行当作一个数组，我们想要把每个维(列)当作一个数组，因为这样可以使列齐次，并且便于计算平均值，等等. "
   ]
  },
  {
   "cell_type": "markdown",
   "metadata": {},
   "source": [
    "## 使用CSV库写入CSV文件"
   ]
  },
  {
   "cell_type": "code",
   "execution_count": 35,
   "metadata": {},
   "outputs": [],
   "source": [
    "import csv\n",
    "with open('test.csv', 'w') as f:\n",
    "    writer = csv.writer(f)\n",
    "    # 写入表头，表头是单行数据\n",
    "    writer.writerow(['name', 'age', 'sex'])\n",
    "    data = [\n",
    "        ('huangyuan', 20, 'male'),\n",
    "        ('zhanglan', 22, 'female')\n",
    "    ]\n",
    "    # 写入这些多行数据\n",
    "    writer.writerows(data)"
   ]
  },
  {
   "cell_type": "markdown",
   "metadata": {},
   "source": [
    "## 3. 使用Pandas读写CSV"
   ]
  },
  {
   "cell_type": "code",
   "execution_count": 18,
   "metadata": {
    "scrolled": false
   },
   "outputs": [
    {
     "data": {
      "text/html": [
       "<div>\n",
       "<style scoped>\n",
       "    .dataframe tbody tr th:only-of-type {\n",
       "        vertical-align: middle;\n",
       "    }\n",
       "\n",
       "    .dataframe tbody tr th {\n",
       "        vertical-align: top;\n",
       "    }\n",
       "\n",
       "    .dataframe thead th {\n",
       "        text-align: right;\n",
       "    }\n",
       "</style>\n",
       "<table border=\"1\" class=\"dataframe\">\n",
       "  <thead>\n",
       "    <tr style=\"text-align: right;\">\n",
       "      <th></th>\n",
       "      <th>Artist</th>\n",
       "      <th>Album</th>\n",
       "      <th>Released</th>\n",
       "      <th>Genre</th>\n",
       "      <th>Certified sales (millions)</th>\n",
       "      <th>Claimed sales (millions)</th>\n",
       "    </tr>\n",
       "  </thead>\n",
       "  <tbody>\n",
       "    <tr>\n",
       "      <td>0</td>\n",
       "      <td>Michael Jackson</td>\n",
       "      <td>Thriller</td>\n",
       "      <td>1982</td>\n",
       "      <td>Pop, rock, R&amp;B</td>\n",
       "      <td>45.4</td>\n",
       "      <td>65.0</td>\n",
       "    </tr>\n",
       "    <tr>\n",
       "      <td>1</td>\n",
       "      <td>AC/DC</td>\n",
       "      <td>Back in Black</td>\n",
       "      <td>1980</td>\n",
       "      <td>Hard rock</td>\n",
       "      <td>25.9</td>\n",
       "      <td>50.0</td>\n",
       "    </tr>\n",
       "    <tr>\n",
       "      <td>2</td>\n",
       "      <td>Pink Floyd</td>\n",
       "      <td>The Dark Side of the Moon</td>\n",
       "      <td>1973</td>\n",
       "      <td>Progressive rock</td>\n",
       "      <td>22.7</td>\n",
       "      <td>45.0</td>\n",
       "    </tr>\n",
       "    <tr>\n",
       "      <td>3</td>\n",
       "      <td>Whitney Houston / Various artists</td>\n",
       "      <td>The Bodyguard</td>\n",
       "      <td>1992</td>\n",
       "      <td>Soundtrack/R&amp;B, soul, pop</td>\n",
       "      <td>27.4</td>\n",
       "      <td>44.0</td>\n",
       "    </tr>\n",
       "    <tr>\n",
       "      <td>4</td>\n",
       "      <td>Meat Loaf</td>\n",
       "      <td>Bat Out of Hell</td>\n",
       "      <td>1977</td>\n",
       "      <td>Hard rock, progressive rock</td>\n",
       "      <td>20.6</td>\n",
       "      <td>43.0</td>\n",
       "    </tr>\n",
       "  </tbody>\n",
       "</table>\n",
       "</div>"
      ],
      "text/plain": [
       "                              Artist                      Album  Released  \\\n",
       "0                    Michael Jackson                   Thriller      1982   \n",
       "1                              AC/DC              Back in Black      1980   \n",
       "2                         Pink Floyd  The Dark Side of the Moon      1973   \n",
       "3  Whitney Houston / Various artists              The Bodyguard      1992   \n",
       "4                          Meat Loaf            Bat Out of Hell      1977   \n",
       "\n",
       "                         Genre  Certified sales (millions)  \\\n",
       "0               Pop, rock, R&B                        45.4   \n",
       "1                    Hard rock                        25.9   \n",
       "2             Progressive rock                        22.7   \n",
       "3    Soundtrack/R&B, soul, pop                        27.4   \n",
       "4  Hard rock, progressive rock                        20.6   \n",
       "\n",
       "   Claimed sales (millions)  \n",
       "0                      65.0  \n",
       "1                      50.0  \n",
       "2                      45.0  \n",
       "3                      44.0  \n",
       "4                      43.0  "
      ]
     },
     "execution_count": 18,
     "metadata": {},
     "output_type": "execute_result"
    }
   ],
   "source": [
    "#Pandas的read_csv函数。Pandas从数据源读取数据的函数，基本都是以read_开头\n",
    "import pandas as pd\n",
    "hit_albums = pd.read_csv(\"hit_albums.csv\")\n",
    "hit_albums.head()   #缺省查看头5行"
   ]
  },
  {
   "cell_type": "code",
   "execution_count": 38,
   "metadata": {},
   "outputs": [
    {
     "data": {
      "text/html": [
       "<div>\n",
       "<style scoped>\n",
       "    .dataframe tbody tr th:only-of-type {\n",
       "        vertical-align: middle;\n",
       "    }\n",
       "\n",
       "    .dataframe tbody tr th {\n",
       "        vertical-align: top;\n",
       "    }\n",
       "\n",
       "    .dataframe thead th {\n",
       "        text-align: right;\n",
       "    }\n",
       "</style>\n",
       "<table border=\"1\" class=\"dataframe\">\n",
       "  <thead>\n",
       "    <tr style=\"text-align: right;\">\n",
       "      <th></th>\n",
       "      <th>Artist</th>\n",
       "      <th>Album</th>\n",
       "      <th>Released</th>\n",
       "      <th>Genre</th>\n",
       "      <th>Certified sales (millions)</th>\n",
       "      <th>Claimed sales (millions)</th>\n",
       "    </tr>\n",
       "  </thead>\n",
       "  <tbody>\n",
       "    <tr>\n",
       "      <td>0</td>\n",
       "      <td>Michael Jackson</td>\n",
       "      <td>Thriller</td>\n",
       "      <td>1982</td>\n",
       "      <td>Pop, rock, R&amp;B</td>\n",
       "      <td>45.4</td>\n",
       "      <td>65.0</td>\n",
       "    </tr>\n",
       "    <tr>\n",
       "      <td>1</td>\n",
       "      <td>AC/DC</td>\n",
       "      <td>Back in Black</td>\n",
       "      <td>1980</td>\n",
       "      <td>Hard rock</td>\n",
       "      <td>25.9</td>\n",
       "      <td>50.0</td>\n",
       "    </tr>\n",
       "    <tr>\n",
       "      <td>2</td>\n",
       "      <td>Pink Floyd</td>\n",
       "      <td>The Dark Side of the Moon</td>\n",
       "      <td>1973</td>\n",
       "      <td>Progressive rock</td>\n",
       "      <td>22.7</td>\n",
       "      <td>45.0</td>\n",
       "    </tr>\n",
       "    <tr>\n",
       "      <td>3</td>\n",
       "      <td>Whitney Houston / Various artists</td>\n",
       "      <td>The Bodyguard</td>\n",
       "      <td>1992</td>\n",
       "      <td>Soundtrack/R&amp;B, soul, pop</td>\n",
       "      <td>27.4</td>\n",
       "      <td>44.0</td>\n",
       "    </tr>\n",
       "    <tr>\n",
       "      <td>4</td>\n",
       "      <td>Meat Loaf</td>\n",
       "      <td>Bat Out of Hell</td>\n",
       "      <td>1977</td>\n",
       "      <td>Hard rock, progressive rock</td>\n",
       "      <td>20.6</td>\n",
       "      <td>43.0</td>\n",
       "    </tr>\n",
       "  </tbody>\n",
       "</table>\n",
       "</div>"
      ],
      "text/plain": [
       "                              Artist                      Album  Released  \\\n",
       "0                    Michael Jackson                   Thriller      1982   \n",
       "1                              AC/DC              Back in Black      1980   \n",
       "2                         Pink Floyd  The Dark Side of the Moon      1973   \n",
       "3  Whitney Houston / Various artists              The Bodyguard      1992   \n",
       "4                          Meat Loaf            Bat Out of Hell      1977   \n",
       "\n",
       "                         Genre  Certified sales (millions)  \\\n",
       "0               Pop, rock, R&B                        45.4   \n",
       "1                    Hard rock                        25.9   \n",
       "2             Progressive rock                        22.7   \n",
       "3    Soundtrack/R&B, soul, pop                        27.4   \n",
       "4  Hard rock, progressive rock                        20.6   \n",
       "\n",
       "   Claimed sales (millions)  \n",
       "0                      65.0  \n",
       "1                      50.0  \n",
       "2                      45.0  \n",
       "3                      44.0  \n",
       "4                      43.0  "
      ]
     },
     "execution_count": 38,
     "metadata": {},
     "output_type": "execute_result"
    }
   ],
   "source": [
    "#还可以使用read_table函数，读取空格或分隔符分隔的数据，效果与read_csv函数一样\n",
    "hit_albums_table=pd.read_table('hit_albums.csv', sep=',')\n",
    "hit_albums_table.head()"
   ]
  },
  {
   "cell_type": "markdown",
   "metadata": {},
   "source": [
    "Pandas提供了一种异常强大的方法['read_csv()'](http://pandas.pydata.org/pandas-docs/stable/generated/pandas.read_csv.html)  - 也可以参考[这里](http://pandas.pydata.org/pandas-docs/stable/io.html) 获取更多的I/O操作. \n",
    "\n",
    "您可以向该方法传递许多参数，如delimiter分隔符、quote-chars引号字符等，但在我们的示例中，默认参数是有效的。\n",
    "我们还刚刚创建了我们的第一个数据框!接下来让我们详细了解一下数据框。 "
   ]
  },
  {
   "cell_type": "code",
   "execution_count": 50,
   "metadata": {},
   "outputs": [],
   "source": [
    "#反之，还可以使用to_开头的函数，将文件DataFrame数据写入文件\n",
    "hit_albums.to_csv(\"dfout-test1.csv\")   #带有索引\n",
    "hit_albums.to_csv(\"dfout-test2.csv\",index=None)   #不带索引\n",
    "hit_albums.to_csv(\"dfout-test3.csv\",index=None,header=False)  #不带索引,不带列名头"
   ]
  },
  {
   "cell_type": "markdown",
   "metadata": {},
   "source": [
    "## 如果读取文件太大，需要考虑分块读取及显示部分那内容\n",
    "如：\n",
    "pd.options.display.max_rows = 10\n",
    "read_csv函数设置一次读取数量的参数，如nrows限定读取行数；chunksize分批次处理文件，每次处理多少数据"
   ]
  },
  {
   "cell_type": "code",
   "execution_count": 48,
   "metadata": {
    "scrolled": false
   },
   "outputs": [
    {
     "name": "stdout",
     "output_type": "stream",
     "text": [
      "                              Artist                            Album  \\\n",
      "0                    Michael Jackson                         Thriller   \n",
      "1                              AC/DC                    Back in Black   \n",
      "2                         Pink Floyd        The Dark Side of the Moon   \n",
      "3  Whitney Houston / Various artists                    The Bodyguard   \n",
      "4                          Meat Loaf                  Bat Out of Hell   \n",
      "5                             Eagles  Their Greatest Hits (1971–1975)   \n",
      "\n",
      "   Released                        Genre  Certified sales (millions)  \\\n",
      "0      1982               Pop, rock, R&B                        45.4   \n",
      "1      1980                    Hard rock                        25.9   \n",
      "2      1973             Progressive rock                        22.7   \n",
      "3      1992    Soundtrack/R&B, soul, pop                        27.4   \n",
      "4      1977  Hard rock, progressive rock                        20.6   \n",
      "5      1976   Rock, soft rock, folk rock                        32.2   \n",
      "\n",
      "   Claimed sales (millions)  \n",
      "0                        65  \n",
      "1                        50  \n",
      "2                        45  \n",
      "3                        44  \n",
      "4                        43  \n",
      "5                        42  \n",
      "  Artist,Album,Released,Genre,\"Certified sales (millions)\",Claimed sales (millions)\n",
      "0  Michael Jackson,Thriller,1982,\"Pop, rock, R&B\"...                               \n",
      "1         AC/DC,Back in Black,1980,Hard rock,25.9,50                               \n",
      "2  Pink Floyd,The Dark Side of the Moon,1973,Prog...                               \n",
      "  Artist,Album,Released,Genre,\"Certified sales (millions)\",Claimed sales (millions)\n",
      "3  Whitney Houston / Various artists,The Bodyguar...                               \n",
      "4  Meat Loaf,Bat Out of Hell,1977,\"Hard rock, pro...                               \n",
      "5  Eagles,Their Greatest Hits (1971–1975),1976,\"R...                               \n",
      "  Artist,Album,Released,Genre,\"Certified sales (millions)\",Claimed sales (millions)\n",
      "6  Bee Gees / Various artists,Saturday Night Feve...                               \n",
      "7       Fleetwood Mac,Rumours,1977,Soft rock,27.9,40                               \n",
      "8  Shania Twain,Come On Over,1997,\"Country, pop\",...                               \n",
      "   Artist,Album,Released,Genre,\"Certified sales (millions)\",Claimed sales (millions)\n",
      "9   Led Zeppelin,Led Zeppelin IV,1971,\"Hard rock, ...                               \n",
      "10  Michael Jackson,Bad,1987,\"Pop, funk, rock\",20....                               \n",
      "11  Alanis Morissette,Jagged Little Pill,1995,Alte...                               \n",
      "   Artist,Album,Released,Genre,\"Certified sales (millions)\",Claimed sales (millions)\n",
      "12  Celine Dion,Falling into You,1996,\"Pop, Soft r...                               \n",
      "13  The Beatles,Sgt. Pepper's Lonely Hearts Club B...                               \n",
      "14  Eagles,Hotel California,1976,\"Rock, soft rock,...                               \n"
     ]
    }
   ],
   "source": [
    "pd.options.display.max_rows = 20\n",
    "hit_albums = pd.read_csv(\"hit_albums.csv\",nrows=6)\n",
    "print(hit_albums)\n",
    "#有chunksize，返回的就是TextFileReader对象,需要循环处理每批次返回的数据\n",
    "hit_albums_table=pd.read_table('hit_albums.csv', chunksize=3) \n",
    "#hit_albums_table=pd.read_table('hit_albums.csv', sep=',',chunksize=3) \n",
    "for index,data in enumerate(hit_albums_table):\n",
    "    if index<5:\n",
    "        print(data)"
   ]
  },
  {
   "cell_type": "markdown",
   "metadata": {},
   "source": [
    "# 4. 读写JSON数据\n",
    "\n",
    "JSON(JavaScript Object Notation) 是一种轻量级的数据交换格式。JSON采用完全独立于语言的文本格式，这些特性使JSON成为理想的数据交换语言。易于人阅读和编写，同时也易于机器解析和生成。\n",
    "1.基础结构\n",
    "JSON建构于两种结构：\n",
    "\n",
    "“名称/值”对的集合（A collection of name/value pairs）。不同的语言中，它被理解为对象（object），记录（record），结构（struct），字典（dictionary），哈希表（hash table），有键列表（keyed list），或者关联数组 （associative array）。\n",
    "值的有序列表（An ordered list of values）。在大部分语言中，它被理解为数组（array）。\n",
    "\n",
    "2.基础示例\n",
    "简单地说，JSON 可以将 JavaScript 对象中表示的一组数据转换为字符串，然后就可以在函数之间轻松地传递这个字符串，或者在异步应用程序中将字符串从 Web 客户机传递给服务器端程序。这个字符串看起来有点儿古怪，但是 JavaScript 很容易解释它，而且 JSON 可以表示比\"名称 / 值对\"更复杂的结构。例如，可以表示数组和复杂的对象，而不仅仅是键和值的简单列表。\n",
    "表示名称 / 值对\n",
    "按照最简单的形式，可以用下面这样的 JSON 表示 \"名称 / 值对\" ：{ \"firstName\": \"Brett\" }\n",
    "\n",
    "这个示例非常基本，而且实际上比等效的纯文本 \"名称 / 值对\" 占用更多的空间：firstName=Brett\n",
    "\n",
    "但是，当将多个\"名称 / 值对\"串在一起时，JSON 就会体现出它的价值了。首先，可以创建包含多个\"名称 / 值对\"的 记录，比如：\n",
    "{ \"firstName\": \"Brett\", \"lastName\":\"McLaughlin\", \"email\": \"aaaa\" }\n",
    "从语法方面来看，这与\"名称 / 值对\"相比并没有很大的优势，但是在这种情况下 JSON 更容易使用，而且可读性更好。例如，它明确地表示以上三个值都是同一记录的一部分；花括号使这些值有了某种联系。\n",
    "表示数组\n",
    "当需要表示一组值时，JSON 不但能够提高可读性，而且可以减少复杂性。例如，假设您希望表示一个人名列表。在 XML 中，需要许多开始标记和结束标记；如果使用典型的 名称 / 值 对（就像在本系列前面文章中看到的那种名称 / 值对），那么必须建立一种专有的数据格式，或者将键名称修改为 person1-firstName这样的形式。\n",
    "\n",
    "如果使用 JSON，就只需将多个带花括号的记录分组在一起：\n",
    "\n",
    "{ \"people\": [\n",
    "\n",
    "    { \"firstName\": \"Brett\", \"lastName\":\"McLaughlin\", \"email\": \"aaaa\" },\n",
    "\n",
    "    { \"firstName\": \"Jason\", \"lastName\":\"Hunter\", \"email\": \"bbbb\"},\n",
    "\n",
    "    { \"firstName\": \"Elliotte\", \"lastName\":\"Harold\", \"email\": \"cccc\" }\n",
    "\n",
    "    ]}\n",
    "可以使用相同的语法表示多个值（每个值包含多个记录）,在不同的主条目之间，记录中实际的名称 / 值对可以不一样。JSON 是完全动态的，允许在 JSON 结构的中间改变表示数据的方式。例如：\n",
    "\n",
    "{ \"programmers\": [\n",
    "\n",
    "    { \"firstName\": \"Brett\", \"lastName\":\"McLaughlin\", \"email\": \"aaaa\" },\n",
    "\n",
    "    { \"firstName\": \"Jason\", \"lastName\":\"Hunter\", \"email\": \"bbbb\" },\n",
    "\n",
    "    { \"firstName\": \"Elliotte\", \"lastName\":\"Harold\", \"email\": \"cccc\" }\n",
    "\n",
    "    ],\n",
    "\n",
    "    \"authors\": [\n",
    "\n",
    "    { \"firstName\": \"Isaac\", \"lastName\": \"Asimov\", \"genre\": \"science fiction\" },\n",
    "\n",
    "    { \"firstName\": \"Tad\", \"lastName\": \"Williams\", \"genre\": \"fantasy\" },\n",
    "\n",
    "    { \"firstName\": \"Frank\", \"lastName\": \"Peretti\", \"genre\": \"christian fiction\" }\n",
    "\n",
    "    ],\n",
    "\n",
    "    \"musicians\": [\n",
    "\n",
    "    { \"firstName\": \"Eric\", \"lastName\": \"Clapton\", \"instrument\": \"guitar\" },\n",
    "\n",
    "    { \"firstName\": \"Sergei\", \"lastName\": \"Rachmaninoff\", \"instrument\": \"piano\" }\n",
    "\n",
    "    ] }\n",
    "    "
   ]
  },
  {
   "cell_type": "markdown",
   "metadata": {},
   "source": [
    "使用json模块操作json数据"
   ]
  },
  {
   "cell_type": "code",
   "execution_count": 51,
   "metadata": {},
   "outputs": [],
   "source": [
    "#注意观察JSON格式：JavaScriptObjectNotation，可嵌套的名称/值对序列\n",
    "#对于较长的字符串，需要使用\"\"\"\"\"\"\n",
    "obj = \"\"\"\n",
    "{\"name\": \"Wes\",\n",
    " \"places_lived\": [\"United States\", \"Spain\", \"Germany\"],\n",
    " \"pet\": null,\n",
    " \"siblings\": [{\"name\": \"Scott\", \"age\": 30, \"pets\": [\"Zeus\", \"Zuko\"]},\n",
    "              {\"name\": \"Katie\", \"age\": 38,\n",
    "               \"pets\": [\"Sixes\", \"Stache\", \"Cisco\"]}]\n",
    "}\n",
    "\"\"\""
   ]
  },
  {
   "cell_type": "code",
   "execution_count": 52,
   "metadata": {},
   "outputs": [
    {
     "data": {
      "text/plain": [
       "{'name': 'Wes',\n",
       " 'places_lived': ['United States', 'Spain', 'Germany'],\n",
       " 'pet': None,\n",
       " 'siblings': [{'name': 'Scott', 'age': 30, 'pets': ['Zeus', 'Zuko']},\n",
       "  {'name': 'Katie', 'age': 38, 'pets': ['Sixes', 'Stache', 'Cisco']}]}"
      ]
     },
     "execution_count": 52,
     "metadata": {},
     "output_type": "execute_result"
    }
   ],
   "source": [
    "import json\n",
    "result = json.loads(obj)\n",
    "result"
   ]
  },
  {
   "cell_type": "code",
   "execution_count": 59,
   "metadata": {},
   "outputs": [
    {
     "name": "stdout",
     "output_type": "stream",
     "text": [
      "{\"name\": \"Wes\", \"places_lived\": [\"United States\", \"Spain\", \"Germany\"], \"pet\": null, \"siblings\": [{\"name\": \"Scott\", \"age\": 30, \"pets\": [\"Zeus\", \"Zuko\"]}, {\"name\": \"Katie\", \"age\": 38, \"pets\": [\"Sixes\", \"Stache\", \"Cisco\"]}]}\n"
     ]
    }
   ],
   "source": [
    "#将json对象序列化\n",
    "asjson = json.dumps(result)\n",
    "print(asjson)"
   ]
  },
  {
   "cell_type": "markdown",
   "metadata": {},
   "source": [
    "使用Pandas操作JSON数据"
   ]
  },
  {
   "cell_type": "code",
   "execution_count": 64,
   "metadata": {},
   "outputs": [
    {
     "data": {
      "text/html": [
       "<div>\n",
       "<style scoped>\n",
       "    .dataframe tbody tr th:only-of-type {\n",
       "        vertical-align: middle;\n",
       "    }\n",
       "\n",
       "    .dataframe tbody tr th {\n",
       "        vertical-align: top;\n",
       "    }\n",
       "\n",
       "    .dataframe thead th {\n",
       "        text-align: right;\n",
       "    }\n",
       "</style>\n",
       "<table border=\"1\" class=\"dataframe\">\n",
       "  <thead>\n",
       "    <tr style=\"text-align: right;\">\n",
       "      <th></th>\n",
       "      <th>a</th>\n",
       "      <th>b</th>\n",
       "      <th>c</th>\n",
       "    </tr>\n",
       "  </thead>\n",
       "  <tbody>\n",
       "    <tr>\n",
       "      <td>0</td>\n",
       "      <td>1</td>\n",
       "      <td>2</td>\n",
       "      <td>3</td>\n",
       "    </tr>\n",
       "    <tr>\n",
       "      <td>1</td>\n",
       "      <td>4</td>\n",
       "      <td>5</td>\n",
       "      <td>6</td>\n",
       "    </tr>\n",
       "    <tr>\n",
       "      <td>2</td>\n",
       "      <td>7</td>\n",
       "      <td>8</td>\n",
       "      <td>9</td>\n",
       "    </tr>\n",
       "  </tbody>\n",
       "</table>\n",
       "</div>"
      ],
      "text/plain": [
       "   a  b  c\n",
       "0  1  2  3\n",
       "1  4  5  6\n",
       "2  7  8  9"
      ]
     },
     "execution_count": 64,
     "metadata": {},
     "output_type": "execute_result"
    }
   ],
   "source": [
    "import pandas as pd\n",
    "data = pd.read_json(\"Sample.json\")\n",
    "data"
   ]
  },
  {
   "cell_type": "code",
   "execution_count": 65,
   "metadata": {},
   "outputs": [
    {
     "name": "stdout",
     "output_type": "stream",
     "text": [
      "{\"a\":{\"0\":1,\"1\":4,\"2\":7},\"b\":{\"0\":2,\"1\":5,\"2\":8},\"c\":{\"0\":3,\"1\":6,\"2\":9}}\n",
      "[{\"a\":1,\"b\":2,\"c\":3},{\"a\":4,\"b\":5,\"c\":6},{\"a\":7,\"b\":8,\"c\":9}]\n"
     ]
    }
   ],
   "source": [
    "#将DataFrame数据输出为json格式\n",
    "print(data.to_json())  #索引形式\n",
    "print(\"记录形式：\",data.to_json(orient='records'))  #记录形式"
   ]
  },
  {
   "cell_type": "code",
   "execution_count": null,
   "metadata": {},
   "outputs": [],
   "source": []
  },
  {
   "cell_type": "markdown",
   "metadata": {},
   "source": [
    "# 5. 读写XML 与 HTML\n",
    "一.XML介绍-参考：https://blog.csdn.net/vipers_/article/details/89679536\n",
    "\n",
    "1、概述：\n",
    "\n",
    "    xml:即可扩展标记语言，xml是互联网数据传输的重要工具，它可以跨越互联网任何的平台，不受编程语言和操作系统的限制，可以说它是一个拥有互联网最高级别通行证的数据携带者。xml是当前处理结构化文档信息中相当给力的技术，xml有助于在服务器之间穿梭结构化数据，这使得开发人员更加得心应手的控制数据的存储和传输。\n",
    "\n",
    "Xml用于标记电子文件使其具有结构性的标记语言，可以用来标记数据、定义数据类型，是一种允许用户对自己的标记语言进行定义的源语言。Xml是标准通用标记语言（SGML）的子集，非常适合Web传输。XML提供统一的方法来描述和交换独立于应用程序或供应商的结构化数据。\n",
    "\n",
    "2、xml的特点及作用:\n",
    "\n",
    "特点：\n",
    "\n",
    "v xml与操作系统、编程语言的开发平台都无关；\n",
    "\n",
    "v 实现不同系统之间的数据交互。\n",
    "\n",
    "作用：\n",
    "\n",
    "v 配置应用程序和网站；\n",
    "\n",
    "v 数据交互；\n",
    "\n",
    "v Ajax基石。\n",
    "\n",
    "在配置文件里边所有的配置文件都是以XMl的格式来编写的。\n",
    "\n",
    "跨平台进行数据交互，它可以跨操作系统，也可以跨编程语言的平台。\n",
    "\n",
    "Ajax是现在目前比较流行的一个网络交互的技术。Ajax里面最后一个x实际上就是xml的缩写。Xml（Extensible Markup Language）是可扩展标记语言\n",
    "\n",
    "一个xml文档必须要有第一行的声明和它的文档元素的描述信息就可以了。\n",
    "\n",
    "3、xml声明\n",
    "\n",
    "例子：\n",
    "\n",
    "注：xml声明一般是xml文档的第一行；xml声明由以下几个部分组成：\n",
    "\n",
    "4、根元素\n",
    "\n",
    "它是xml文档里面唯一的；它的开始是放在最前面，结束是放在最后面。\n",
    "\n",
    "5、元素：\n",
    "\n",
    "(1) 所有的xml元素都必须有结束标签；\n",
    "\n",
    "(2) xml标签对大小写敏感；\n",
    "\n",
    "(3)  xml必须正确地嵌套；\n",
    "\n",
    "（4）元素的命名规则：\n",
    "\n",
    "名称中可以包含字母、数字或者其他的字符；\n",
    "\n",
    "名称不能以数字或者标点符号开始；\n",
    "\n",
    "名称中不能包含空格。\n",
    "\n",
    "（5）空元素\n",
    "\n",
    "6、属性\n",
    "\n",
    "（1）语法\n",
    "\n",
    "<元素名 属性名=“属性值”/>\n",
    "\n",
    "例：<Student ID=“S100”>\n",
    "\n",
    "       <Name>Tom</Name>\n",
    "\n",
    "</Student>\n",
    "\n",
    "(2)注意：\n",
    "\n",
    "属性值用双引号包裹；一个元素可以有多个属性，它的基本格式为：\n",
    "\n",
    "<元素名 属性名=“属性值” 属性名=“属性值”>;\n",
    "\n",
    "属性值中不能够直接包含<.”,&。\n",
    "\n",
    "7、实体：\n",
    "\n",
    "在xml中，一些字符拥有特殊的意义。如果把字符“<”放在xml元素中，会发生错误，这是因为解析器会把它当作新元素的开始，这样会产生xml错误：\n",
    "\n",
    "为了避免这个错误，请用实体引用来代替“<”字符：\n",
    "\n",
    "xml中5个预定义实体\n",
    "\n",
    "8、注释\n",
    "\n",
    "注:注释内容中不要出现”--”;不要把注释放在标签中间；注释不能嵌套。\n",
    "\n",
    "9、总结：\n",
    "\n",
    "（1）xml描述的是文档的内容与语义，而不是文档应当如何显示；\n",
    "\n",
    "（2）格式正规（well formed）的xml文档\n",
    "\n",
    "遵循如下规则的xml文档称为格式正规的xml文档：\n",
    "\n",
    "v 必须有xml声明语句；\n",
    "\n",
    "v 必须有且仅有一个根元素；\n",
    "\n",
    "v 标签大小写敏感；\n",
    "\n",
    "v 属性值用双引号；\n",
    "\n",
    "v 标签成对；\n",
    "\n",
    "v 空标签关闭；\n",
    "\n",
    "v 元素正确嵌套。\n",
    "\n",
    "(3)有效的（valid）xml文档。首先xml文档是个格式正规的xml文档，然后又需要满足DTD的要求，这样的xml文档称为有效的xml文档；\n",
    "\n",
    "10、解析器\n",
    "\n",
    "11、命名空间\n",
    "\n",
    "11.1、xml命名空间（xml Namespaces）\n",
    "\n",
    "（1）xml命名空间提供避免元素命名冲突的方法。\n",
    "\n",
    "（2）在xml中，元素名称是由开发者定义的，当两个不同的文档使用相同的元素名时，就会发生命名冲突。\n",
    "\n",
    "11.2、xml命名空间示例\n",
    "\n",
    "（1）使用前缀示例\n",
    "\n",
    "与仅仅使用前缀不同，我们为标签添加了一个xmlns属性，这样就为前缀赋予了一个与某个命名空间相关联的限定名称\n",
    "\n",
    "二. HTML简介\n",
    "\n",
    "1、HTML基本文档格式—\n",
    "\n",
    "参考：https://blog.csdn.net/xtyzmnchen/article/details/87917907\n",
    "\n",
    "2、HTML 标签关系\n",
    "\n",
    "嵌套关系：父子\n",
    "\n",
    "并列关系：兄弟姐妹\n",
    "\n",
    "3、 HTML 标签分类\n",
    "\n",
    "双标记 <标记名></标记名>\n",
    "\n",
    "单标记 <标记名/> \n",
    "\n",
    "三. Python工具：需要安装lxml模块\n",
    "\n",
    "conda install lxml\n",
    "\n",
    "pip install beautifulsoup4 html5lib"
   ]
  },
  {
   "cell_type": "code",
   "execution_count": 66,
   "metadata": {
    "scrolled": true
   },
   "outputs": [
    {
     "data": {
      "text/html": [
       "<div>\n",
       "<style scoped>\n",
       "    .dataframe tbody tr th:only-of-type {\n",
       "        vertical-align: middle;\n",
       "    }\n",
       "\n",
       "    .dataframe tbody tr th {\n",
       "        vertical-align: top;\n",
       "    }\n",
       "\n",
       "    .dataframe thead th {\n",
       "        text-align: right;\n",
       "    }\n",
       "</style>\n",
       "<table border=\"1\" class=\"dataframe\">\n",
       "  <thead>\n",
       "    <tr style=\"text-align: right;\">\n",
       "      <th></th>\n",
       "      <th>Bank Name</th>\n",
       "      <th>City</th>\n",
       "      <th>ST</th>\n",
       "      <th>CERT</th>\n",
       "      <th>Acquiring Institution</th>\n",
       "      <th>Closing Date</th>\n",
       "      <th>Updated Date</th>\n",
       "    </tr>\n",
       "  </thead>\n",
       "  <tbody>\n",
       "    <tr>\n",
       "      <td>0</td>\n",
       "      <td>Allied Bank</td>\n",
       "      <td>Mulberry</td>\n",
       "      <td>AR</td>\n",
       "      <td>91</td>\n",
       "      <td>Today's Bank</td>\n",
       "      <td>September 23, 2016</td>\n",
       "      <td>November 17, 2016</td>\n",
       "    </tr>\n",
       "    <tr>\n",
       "      <td>1</td>\n",
       "      <td>The Woodbury Banking Company</td>\n",
       "      <td>Woodbury</td>\n",
       "      <td>GA</td>\n",
       "      <td>11297</td>\n",
       "      <td>United Bank</td>\n",
       "      <td>August 19, 2016</td>\n",
       "      <td>November 17, 2016</td>\n",
       "    </tr>\n",
       "    <tr>\n",
       "      <td>2</td>\n",
       "      <td>First CornerStone Bank</td>\n",
       "      <td>King of Prussia</td>\n",
       "      <td>PA</td>\n",
       "      <td>35312</td>\n",
       "      <td>First-Citizens Bank &amp; Trust Company</td>\n",
       "      <td>May 6, 2016</td>\n",
       "      <td>September 6, 2016</td>\n",
       "    </tr>\n",
       "    <tr>\n",
       "      <td>3</td>\n",
       "      <td>Trust Company Bank</td>\n",
       "      <td>Memphis</td>\n",
       "      <td>TN</td>\n",
       "      <td>9956</td>\n",
       "      <td>The Bank of Fayette County</td>\n",
       "      <td>April 29, 2016</td>\n",
       "      <td>September 6, 2016</td>\n",
       "    </tr>\n",
       "    <tr>\n",
       "      <td>4</td>\n",
       "      <td>North Milwaukee State Bank</td>\n",
       "      <td>Milwaukee</td>\n",
       "      <td>WI</td>\n",
       "      <td>20364</td>\n",
       "      <td>First-Citizens Bank &amp; Trust Company</td>\n",
       "      <td>March 11, 2016</td>\n",
       "      <td>June 16, 2016</td>\n",
       "    </tr>\n",
       "  </tbody>\n",
       "</table>\n",
       "</div>"
      ],
      "text/plain": [
       "                      Bank Name             City  ST   CERT  \\\n",
       "0                   Allied Bank         Mulberry  AR     91   \n",
       "1  The Woodbury Banking Company         Woodbury  GA  11297   \n",
       "2        First CornerStone Bank  King of Prussia  PA  35312   \n",
       "3            Trust Company Bank          Memphis  TN   9956   \n",
       "4    North Milwaukee State Bank        Milwaukee  WI  20364   \n",
       "\n",
       "                 Acquiring Institution        Closing Date       Updated Date  \n",
       "0                         Today's Bank  September 23, 2016  November 17, 2016  \n",
       "1                          United Bank     August 19, 2016  November 17, 2016  \n",
       "2  First-Citizens Bank & Trust Company         May 6, 2016  September 6, 2016  \n",
       "3           The Bank of Fayette County      April 29, 2016  September 6, 2016  \n",
       "4  First-Citizens Bank & Trust Company      March 11, 2016      June 16, 2016  "
      ]
     },
     "execution_count": 66,
     "metadata": {},
     "output_type": "execute_result"
    }
   ],
   "source": [
    "#爬虫有关工具不在本章说明，仅介绍pandas对应工具\n",
    "tables = pd.read_html('fdic_failed_bank_list.html')\n",
    "len(tables)\n",
    "failures = tables[0]\n",
    "failures.head()"
   ]
  },
  {
   "cell_type": "markdown",
   "metadata": {},
   "source": [
    "使用lxml.objectify解析XML"
   ]
  },
  {
   "cell_type": "markdown",
   "metadata": {},
   "source": [
    "下面是XML格式数据，双击单元即可看到源文件格式"
   ]
  },
  {
   "cell_type": "markdown",
   "metadata": {},
   "source": [
    "<INDICATOR>\n",
    "  <INDICATOR_SEQ>373889</INDICATOR_SEQ>\n",
    "  <PARENT_SEQ></PARENT_SEQ>\n",
    "  <AGENCY_NAME>Metro-North Railroad</AGENCY_NAME>\n",
    "  <INDICATOR_NAME>Escalator Availability</INDICATOR_NAME>\n",
    "  <DESCRIPTION>Percent of the time that escalators are operational\n",
    "  systemwide. The availability rate is based on physical observations performed\n",
    "  the morning of regular business days only. This is a new indicator the agency\n",
    "  began reporting in 2009.</DESCRIPTION>\n",
    "  <PERIOD_YEAR>2011</PERIOD_YEAR>\n",
    "  <PERIOD_MONTH>12</PERIOD_MONTH>\n",
    "  <CATEGORY>Service Indicators</CATEGORY>\n",
    "  <FREQUENCY>M</FREQUENCY>\n",
    "  <DESIRED_CHANGE>U</DESIRED_CHANGE>\n",
    "  <INDICATOR_UNIT>%</INDICATOR_UNIT>\n",
    "  <DECIMAL_PLACES>1</DECIMAL_PLACES>\n",
    "  <YTD_TARGET>97.00</YTD_TARGET>\n",
    "  <YTD_ACTUAL></YTD_ACTUAL>\n",
    "  <MONTHLY_TARGET>97.00</MONTHLY_TARGET>\n",
    "  <MONTHLY_ACTUAL></MONTHLY_ACTUAL>\n",
    "</INDICATOR>"
   ]
  },
  {
   "cell_type": "code",
   "execution_count": 73,
   "metadata": {},
   "outputs": [
    {
     "name": "stdout",
     "output_type": "stream",
     "text": [
      "<lxml.etree._ElementTree object at 0x00000222097425C8>\n",
      "<class 'lxml.objectify.ObjectifiedElement'>\n"
     ]
    }
   ],
   "source": [
    "from lxml import objectify\n",
    "\n",
    "path = 'Performance_MNR.xml'\n",
    "parsed = objectify.parse(open(path))\n",
    "print(parsed)\n",
    "root = parsed.getroot()  #返回的是文档对象模型DOM数据结构\n",
    "print(type(root))"
   ]
  },
  {
   "cell_type": "code",
   "execution_count": 70,
   "metadata": {},
   "outputs": [],
   "source": [
    "data = []\n",
    "\n",
    "skip_fields = ['PARENT_SEQ', 'INDICATOR_SEQ',\n",
    "               'DESIRED_CHANGE', 'DECIMAL_PLACES']\n",
    "#注意：\n",
    "for elt in root.INDICATOR:\n",
    "    el_data = {}  #以字典形式存储每行记录数据\n",
    "    for child in elt.getchildren():\n",
    "        if child.tag in skip_fields:\n",
    "            continue\n",
    "        el_data[child.tag] = child.pyval\n",
    "    data.append(el_data)   #多行记录以列表形式存储"
   ]
  },
  {
   "cell_type": "code",
   "execution_count": 74,
   "metadata": {},
   "outputs": [
    {
     "data": {
      "text/html": [
       "<div>\n",
       "<style scoped>\n",
       "    .dataframe tbody tr th:only-of-type {\n",
       "        vertical-align: middle;\n",
       "    }\n",
       "\n",
       "    .dataframe tbody tr th {\n",
       "        vertical-align: top;\n",
       "    }\n",
       "\n",
       "    .dataframe thead th {\n",
       "        text-align: right;\n",
       "    }\n",
       "</style>\n",
       "<table border=\"1\" class=\"dataframe\">\n",
       "  <thead>\n",
       "    <tr style=\"text-align: right;\">\n",
       "      <th></th>\n",
       "      <th>AGENCY_NAME</th>\n",
       "      <th>INDICATOR_NAME</th>\n",
       "      <th>DESCRIPTION</th>\n",
       "      <th>PERIOD_YEAR</th>\n",
       "      <th>PERIOD_MONTH</th>\n",
       "      <th>CATEGORY</th>\n",
       "      <th>FREQUENCY</th>\n",
       "      <th>INDICATOR_UNIT</th>\n",
       "      <th>YTD_TARGET</th>\n",
       "      <th>YTD_ACTUAL</th>\n",
       "      <th>MONTHLY_TARGET</th>\n",
       "      <th>MONTHLY_ACTUAL</th>\n",
       "    </tr>\n",
       "  </thead>\n",
       "  <tbody>\n",
       "    <tr>\n",
       "      <td>0</td>\n",
       "      <td>Metro-North Railroad</td>\n",
       "      <td>On-Time Performance (West of Hudson)</td>\n",
       "      <td>Percent of commuter trains that arrive at thei...</td>\n",
       "      <td>2008</td>\n",
       "      <td>1</td>\n",
       "      <td>Service Indicators</td>\n",
       "      <td>M</td>\n",
       "      <td>%</td>\n",
       "      <td>95</td>\n",
       "      <td>96.9</td>\n",
       "      <td>95</td>\n",
       "      <td>96.9</td>\n",
       "    </tr>\n",
       "    <tr>\n",
       "      <td>1</td>\n",
       "      <td>Metro-North Railroad</td>\n",
       "      <td>On-Time Performance (West of Hudson)</td>\n",
       "      <td>Percent of commuter trains that arrive at thei...</td>\n",
       "      <td>2008</td>\n",
       "      <td>2</td>\n",
       "      <td>Service Indicators</td>\n",
       "      <td>M</td>\n",
       "      <td>%</td>\n",
       "      <td>95</td>\n",
       "      <td>96</td>\n",
       "      <td>95</td>\n",
       "      <td>95</td>\n",
       "    </tr>\n",
       "    <tr>\n",
       "      <td>2</td>\n",
       "      <td>Metro-North Railroad</td>\n",
       "      <td>On-Time Performance (West of Hudson)</td>\n",
       "      <td>Percent of commuter trains that arrive at thei...</td>\n",
       "      <td>2008</td>\n",
       "      <td>3</td>\n",
       "      <td>Service Indicators</td>\n",
       "      <td>M</td>\n",
       "      <td>%</td>\n",
       "      <td>95</td>\n",
       "      <td>96.3</td>\n",
       "      <td>95</td>\n",
       "      <td>96.9</td>\n",
       "    </tr>\n",
       "    <tr>\n",
       "      <td>3</td>\n",
       "      <td>Metro-North Railroad</td>\n",
       "      <td>On-Time Performance (West of Hudson)</td>\n",
       "      <td>Percent of commuter trains that arrive at thei...</td>\n",
       "      <td>2008</td>\n",
       "      <td>4</td>\n",
       "      <td>Service Indicators</td>\n",
       "      <td>M</td>\n",
       "      <td>%</td>\n",
       "      <td>95</td>\n",
       "      <td>96.8</td>\n",
       "      <td>95</td>\n",
       "      <td>98.3</td>\n",
       "    </tr>\n",
       "    <tr>\n",
       "      <td>4</td>\n",
       "      <td>Metro-North Railroad</td>\n",
       "      <td>On-Time Performance (West of Hudson)</td>\n",
       "      <td>Percent of commuter trains that arrive at thei...</td>\n",
       "      <td>2008</td>\n",
       "      <td>5</td>\n",
       "      <td>Service Indicators</td>\n",
       "      <td>M</td>\n",
       "      <td>%</td>\n",
       "      <td>95</td>\n",
       "      <td>96.6</td>\n",
       "      <td>95</td>\n",
       "      <td>95.8</td>\n",
       "    </tr>\n",
       "  </tbody>\n",
       "</table>\n",
       "</div>"
      ],
      "text/plain": [
       "            AGENCY_NAME                        INDICATOR_NAME  \\\n",
       "0  Metro-North Railroad  On-Time Performance (West of Hudson)   \n",
       "1  Metro-North Railroad  On-Time Performance (West of Hudson)   \n",
       "2  Metro-North Railroad  On-Time Performance (West of Hudson)   \n",
       "3  Metro-North Railroad  On-Time Performance (West of Hudson)   \n",
       "4  Metro-North Railroad  On-Time Performance (West of Hudson)   \n",
       "\n",
       "                                         DESCRIPTION  PERIOD_YEAR  \\\n",
       "0  Percent of commuter trains that arrive at thei...         2008   \n",
       "1  Percent of commuter trains that arrive at thei...         2008   \n",
       "2  Percent of commuter trains that arrive at thei...         2008   \n",
       "3  Percent of commuter trains that arrive at thei...         2008   \n",
       "4  Percent of commuter trains that arrive at thei...         2008   \n",
       "\n",
       "   PERIOD_MONTH            CATEGORY FREQUENCY INDICATOR_UNIT YTD_TARGET  \\\n",
       "0             1  Service Indicators         M              %         95   \n",
       "1             2  Service Indicators         M              %         95   \n",
       "2             3  Service Indicators         M              %         95   \n",
       "3             4  Service Indicators         M              %         95   \n",
       "4             5  Service Indicators         M              %         95   \n",
       "\n",
       "  YTD_ACTUAL MONTHLY_TARGET MONTHLY_ACTUAL  \n",
       "0       96.9             95           96.9  \n",
       "1         96             95             95  \n",
       "2       96.3             95           96.9  \n",
       "3       96.8             95           98.3  \n",
       "4       96.6             95           95.8  "
      ]
     },
     "execution_count": 74,
     "metadata": {},
     "output_type": "execute_result"
    }
   ],
   "source": [
    "perf = pd.DataFrame(data)\n",
    "perf.head()"
   ]
  },
  {
   "cell_type": "code",
   "execution_count": 76,
   "metadata": {},
   "outputs": [],
   "source": [
    "from io import StringIO\n",
    "tag = '<a href=\"http://www.google.com\">Google</a>'\n",
    "root = objectify.parse(StringIO(tag)).getroot()"
   ]
  },
  {
   "cell_type": "code",
   "execution_count": 78,
   "metadata": {},
   "outputs": [
    {
     "name": "stdout",
     "output_type": "stream",
     "text": [
      "root: Google\n"
     ]
    },
    {
     "data": {
      "text/plain": [
       "'Google'"
      ]
     },
     "execution_count": 78,
     "metadata": {},
     "output_type": "execute_result"
    }
   ],
   "source": [
    "print(\"root:\",root)\n",
    "root.get('href')\n",
    "root.text"
   ]
  },
  {
   "cell_type": "markdown",
   "metadata": {},
   "source": [
    "# 三、二进制及其他文件格式"
   ]
  },
  {
   "cell_type": "markdown",
   "metadata": {},
   "source": [
    "# 6. 读写二进制数据格式\n",
    "这里主要了解Python对象的序列化和反序列化.参考：https://www.cnblogs.com/soulgou123/p/9829378.html\n",
    "\n",
    "1、什么是序列化与反序列化？\n",
    "#我们把对象（或变量）从内存变成可存储或可传输的过程称之为序列化，在python中被称为pickle；\n",
    "\n",
    "#自定义的类的实例如何保存在一个文件中？如何从文件中读取数据，并让他们在内存中再次恢复成自己对应的类的实例？\n",
    "\n",
    "#按照某种规则，把内存中的数据保存到文件中，文件是一个字节序列，所以必须要把内存数据转换成为字节序列，输出到文件，这就是序列化；反之，从文件的字节恢复到内存，就是反序列化；\n",
    "\n",
    "2、为什么要序列化？\n",
    "#持久化保持状态；\n",
    "\n",
    "#跨平台的数据交互；\n",
    "\n",
    "3、pickle\n",
    "#pickle模块是python专用的持久化模块，可以持久化包括自定义类在内的各种数据；只能在python程序之间进行数据交换；\n",
    "\n",
    "#方法：\n",
    "\n",
    "dumps 　　将对象序列化成bytes对象；\n",
    "dump 　　 对象序列化到文件对象，就是存入文件；\n",
    "loads　　  从bytes对象反序列化；\n",
    "load　　    对象反序列化，从文件读取数据；\n",
    "#注意：在使用dump()序列化时候，打开文件必须要以wb模式，使用load()反序列化，打开文件必须以rb模式；"
   ]
  },
  {
   "cell_type": "code",
   "execution_count": 94,
   "metadata": {},
   "outputs": [
    {
     "name": "stdout",
     "output_type": "stream",
     "text": [
      "                              Artist                            Album  \\\n",
      "0                    Michael Jackson                         Thriller   \n",
      "1                              AC/DC                    Back in Black   \n",
      "2                         Pink Floyd        The Dark Side of the Moon   \n",
      "3  Whitney Houston / Various artists                    The Bodyguard   \n",
      "4                          Meat Loaf                  Bat Out of Hell   \n",
      "5                             Eagles  Their Greatest Hits (1971–1975)   \n",
      "\n",
      "   Released                        Genre  Certified sales (millions)  \\\n",
      "0      1982               Pop, rock, R&B                        45.4   \n",
      "1      1980                    Hard rock                        25.9   \n",
      "2      1973             Progressive rock                        22.7   \n",
      "3      1992    Soundtrack/R&B, soul, pop                        27.4   \n",
      "4      1977  Hard rock, progressive rock                        20.6   \n",
      "5      1976   Rock, soft rock, folk rock                        32.2   \n",
      "\n",
      "   Claimed sales (millions)  \n",
      "0                        65  \n",
      "1                        50  \n",
      "2                        45  \n",
      "3                        44  \n",
      "4                        43  \n",
      "5                        42  \n"
     ]
    }
   ],
   "source": [
    "#Pandas的DataFrame对象的序列化和反序列化\n",
    "frame = pd.read_csv(\"hit_albums.csv\", nrows=6)\n",
    "print(frame)\n",
    "#DataFrame对象持久化到二进制文件\n",
    "frame.to_pickle('frame_pickle')"
   ]
  },
  {
   "cell_type": "code",
   "execution_count": 95,
   "metadata": {},
   "outputs": [
    {
     "data": {
      "text/html": [
       "<div>\n",
       "<style scoped>\n",
       "    .dataframe tbody tr th:only-of-type {\n",
       "        vertical-align: middle;\n",
       "    }\n",
       "\n",
       "    .dataframe tbody tr th {\n",
       "        vertical-align: top;\n",
       "    }\n",
       "\n",
       "    .dataframe thead th {\n",
       "        text-align: right;\n",
       "    }\n",
       "</style>\n",
       "<table border=\"1\" class=\"dataframe\">\n",
       "  <thead>\n",
       "    <tr style=\"text-align: right;\">\n",
       "      <th></th>\n",
       "      <th>Artist</th>\n",
       "      <th>Album</th>\n",
       "      <th>Released</th>\n",
       "      <th>Genre</th>\n",
       "      <th>Certified sales (millions)</th>\n",
       "      <th>Claimed sales (millions)</th>\n",
       "    </tr>\n",
       "  </thead>\n",
       "  <tbody>\n",
       "    <tr>\n",
       "      <td>0</td>\n",
       "      <td>Michael Jackson</td>\n",
       "      <td>Thriller</td>\n",
       "      <td>1982</td>\n",
       "      <td>Pop, rock, R&amp;B</td>\n",
       "      <td>45.4</td>\n",
       "      <td>65</td>\n",
       "    </tr>\n",
       "    <tr>\n",
       "      <td>1</td>\n",
       "      <td>AC/DC</td>\n",
       "      <td>Back in Black</td>\n",
       "      <td>1980</td>\n",
       "      <td>Hard rock</td>\n",
       "      <td>25.9</td>\n",
       "      <td>50</td>\n",
       "    </tr>\n",
       "    <tr>\n",
       "      <td>2</td>\n",
       "      <td>Pink Floyd</td>\n",
       "      <td>The Dark Side of the Moon</td>\n",
       "      <td>1973</td>\n",
       "      <td>Progressive rock</td>\n",
       "      <td>22.7</td>\n",
       "      <td>45</td>\n",
       "    </tr>\n",
       "    <tr>\n",
       "      <td>3</td>\n",
       "      <td>Whitney Houston / Various artists</td>\n",
       "      <td>The Bodyguard</td>\n",
       "      <td>1992</td>\n",
       "      <td>Soundtrack/R&amp;B, soul, pop</td>\n",
       "      <td>27.4</td>\n",
       "      <td>44</td>\n",
       "    </tr>\n",
       "    <tr>\n",
       "      <td>4</td>\n",
       "      <td>Meat Loaf</td>\n",
       "      <td>Bat Out of Hell</td>\n",
       "      <td>1977</td>\n",
       "      <td>Hard rock, progressive rock</td>\n",
       "      <td>20.6</td>\n",
       "      <td>43</td>\n",
       "    </tr>\n",
       "    <tr>\n",
       "      <td>5</td>\n",
       "      <td>Eagles</td>\n",
       "      <td>Their Greatest Hits (1971–1975)</td>\n",
       "      <td>1976</td>\n",
       "      <td>Rock, soft rock, folk rock</td>\n",
       "      <td>32.2</td>\n",
       "      <td>42</td>\n",
       "    </tr>\n",
       "  </tbody>\n",
       "</table>\n",
       "</div>"
      ],
      "text/plain": [
       "                              Artist                            Album  \\\n",
       "0                    Michael Jackson                         Thriller   \n",
       "1                              AC/DC                    Back in Black   \n",
       "2                         Pink Floyd        The Dark Side of the Moon   \n",
       "3  Whitney Houston / Various artists                    The Bodyguard   \n",
       "4                          Meat Loaf                  Bat Out of Hell   \n",
       "5                             Eagles  Their Greatest Hits (1971–1975)   \n",
       "\n",
       "   Released                        Genre  Certified sales (millions)  \\\n",
       "0      1982               Pop, rock, R&B                        45.4   \n",
       "1      1980                    Hard rock                        25.9   \n",
       "2      1973             Progressive rock                        22.7   \n",
       "3      1992    Soundtrack/R&B, soul, pop                        27.4   \n",
       "4      1977  Hard rock, progressive rock                        20.6   \n",
       "5      1976   Rock, soft rock, folk rock                        32.2   \n",
       "\n",
       "   Claimed sales (millions)  \n",
       "0                        65  \n",
       "1                        50  \n",
       "2                        45  \n",
       "3                        44  \n",
       "4                        43  \n",
       "5                        42  "
      ]
     },
     "execution_count": 95,
     "metadata": {},
     "output_type": "execute_result"
    }
   ],
   "source": [
    "#从持久化二进制文件读取，返回DataFrame对象\n",
    "pd.read_pickle('frame_pickle')"
   ]
  },
  {
   "cell_type": "code",
   "execution_count": 97,
   "metadata": {},
   "outputs": [
    {
     "name": "stdout",
     "output_type": "stream",
     "text": [
      "                              Artist                            Album  \\\n",
      "0                    Michael Jackson                         Thriller   \n",
      "1                              AC/DC                    Back in Black   \n",
      "2                         Pink Floyd        The Dark Side of the Moon   \n",
      "3  Whitney Houston / Various artists                    The Bodyguard   \n",
      "4                          Meat Loaf                  Bat Out of Hell   \n",
      "5                             Eagles  Their Greatest Hits (1971–1975)   \n",
      "\n",
      "   Released                        Genre  Certified sales (millions)  \\\n",
      "0      1982               Pop, rock, R&B                        45.4   \n",
      "1      1980                    Hard rock                        25.9   \n",
      "2      1973             Progressive rock                        22.7   \n",
      "3      1992    Soundtrack/R&B, soul, pop                        27.4   \n",
      "4      1977  Hard rock, progressive rock                        20.6   \n",
      "5      1976   Rock, soft rock, folk rock                        32.2   \n",
      "\n",
      "   Claimed sales (millions)  \n",
      "0                        65  \n",
      "1                        50  \n",
      "2                        45  \n",
      "3                        44  \n",
      "4                        43  \n",
      "5                        42  \n"
     ]
    }
   ],
   "source": [
    "#pickle模块的序列化和反序列化\n",
    "import pickle\n",
    "df1=pickle.load(open('frame_pickle',\"rb\"))\n",
    "print(df1)\n",
    "pickle.dump(df1,open('frame_pickle2',\"wb\"))"
   ]
  },
  {
   "cell_type": "markdown",
   "metadata": {},
   "source": [
    "# 7.读写HDF5数据格式\n",
    "参考：https://blog.csdn.net/u013177494/article/details/72629199\n",
    "\n",
    "官网：https://www.hdfgroup.org/\n",
    "## 什么是HDF格式？\n",
    "1.HDF是包含多种信息的一个单文件，所有的信息放在同一个文件中。\n",
    "\n",
    "2.在HDF通过特定文件结构来存储多种不同信息。\n",
    "\n",
    "\n",
    "HDF 是用于存储和分发科学数据的一种自我描述、多对象文件格式。HDF 是由美国国家超级计算应用中心（NCSA）创建的，以满足不同群体的科学家在不同工程项目领域之需要。HDF 可以表示出科学数据存储和分布的许多必要条件。HDF 被设计为：\n",
    "\n",
    "自述性：对于一个HDF 文件里的每一个数据对象，有关于该数据的综合信息（元数据）。在没有任何外部信息的情况下，HDF 允许应用程序解释HDF文件的结构和内容。\n",
    "\n",
    "通用性：许多数据类型都可以被嵌入在一个HDF文件里。例如，通过使用合适的HDF 数据结构，符号、数字和图形数据可以同时存储在一个HDF 文件里。\n",
    "\n",
    "灵活性：HDF允许用户把相关的数据对象组合在一起，放到一个分层结构中，向数据对象添加描述和标签。它还允许用户把科学数据放到多个HDF 文件里。\n",
    "\n",
    "扩展性：HDF极易容纳将来新增加的数据模式，容易与其他标准格式兼容。\n",
    "\n",
    "跨平台性：HDF 是一个与平台无关的文件格式。HDF 文件无需任何转换就可以在不同平台上使用。\n",
    "\n",
    "3.HDF基本数据类型\n",
    "HDF 提供6 种基本数据类型：光栅图像（Raster Image），调色板（Palette ），科学数据集（Scientific Data Set），注解（Annotation），虚拟数据（Vdata）和虚拟组（Vgroup）。\n",
    "\n",
    "4.HDF文件格式\n",
    "最好的办法是把HDF 文件看成为一本多章节书。HDF 文件是“数据书”，其中每章都包含一个不同类型的数据内容。正如书籍用一个目录表列出它的章节一样，HDF文件用“data index”（数据索引）列出其数据内容\n",
    "HDF 文件结构包括一个file id（文件号）、至少一个 data descriptor （数据描述符）、没有或多个 data element（数据内容）数据内容。"
   ]
  },
  {
   "cell_type": "code",
   "execution_count": 99,
   "metadata": {},
   "outputs": [
    {
     "data": {
      "text/plain": [
       "<class 'pandas.io.pytables.HDFStore'>\n",
       "File path: mydata.h5"
      ]
     },
     "execution_count": 99,
     "metadata": {},
     "output_type": "execute_result"
    }
   ],
   "source": [
    "#HDF5即Hierarchy Data Format标准的version5 格式\n",
    "import pandas as pd\n",
    "import numpy as np\n",
    "frame = pd.DataFrame({'a': np.random.randn(100)})\n",
    "#创建HDF存储对象store\n",
    "store = pd.HDFStore('mydata.h5')\n",
    "store['obj1'] = frame\n",
    "store['obj1_col'] = frame['a']\n",
    "store"
   ]
  },
  {
   "cell_type": "code",
   "execution_count": 101,
   "metadata": {},
   "outputs": [
    {
     "data": {
      "text/html": [
       "<div>\n",
       "<style scoped>\n",
       "    .dataframe tbody tr th:only-of-type {\n",
       "        vertical-align: middle;\n",
       "    }\n",
       "\n",
       "    .dataframe tbody tr th {\n",
       "        vertical-align: top;\n",
       "    }\n",
       "\n",
       "    .dataframe thead th {\n",
       "        text-align: right;\n",
       "    }\n",
       "</style>\n",
       "<table border=\"1\" class=\"dataframe\">\n",
       "  <thead>\n",
       "    <tr style=\"text-align: right;\">\n",
       "      <th></th>\n",
       "      <th>a</th>\n",
       "    </tr>\n",
       "  </thead>\n",
       "  <tbody>\n",
       "    <tr>\n",
       "      <td>0</td>\n",
       "      <td>1.026020</td>\n",
       "    </tr>\n",
       "    <tr>\n",
       "      <td>1</td>\n",
       "      <td>0.323476</td>\n",
       "    </tr>\n",
       "    <tr>\n",
       "      <td>2</td>\n",
       "      <td>0.487712</td>\n",
       "    </tr>\n",
       "    <tr>\n",
       "      <td>3</td>\n",
       "      <td>-0.047118</td>\n",
       "    </tr>\n",
       "    <tr>\n",
       "      <td>4</td>\n",
       "      <td>0.445724</td>\n",
       "    </tr>\n",
       "  </tbody>\n",
       "</table>\n",
       "</div>"
      ],
      "text/plain": [
       "          a\n",
       "0  1.026020\n",
       "1  0.323476\n",
       "2  0.487712\n",
       "3 -0.047118\n",
       "4  0.445724"
      ]
     },
     "execution_count": 101,
     "metadata": {},
     "output_type": "execute_result"
    }
   ],
   "source": [
    "store['obj1'].head()"
   ]
  },
  {
   "cell_type": "code",
   "execution_count": 102,
   "metadata": {},
   "outputs": [
    {
     "data": {
      "text/html": [
       "<div>\n",
       "<style scoped>\n",
       "    .dataframe tbody tr th:only-of-type {\n",
       "        vertical-align: middle;\n",
       "    }\n",
       "\n",
       "    .dataframe tbody tr th {\n",
       "        vertical-align: top;\n",
       "    }\n",
       "\n",
       "    .dataframe thead th {\n",
       "        text-align: right;\n",
       "    }\n",
       "</style>\n",
       "<table border=\"1\" class=\"dataframe\">\n",
       "  <thead>\n",
       "    <tr style=\"text-align: right;\">\n",
       "      <th></th>\n",
       "      <th>a</th>\n",
       "    </tr>\n",
       "  </thead>\n",
       "  <tbody>\n",
       "    <tr>\n",
       "      <td>10</td>\n",
       "      <td>-0.490838</td>\n",
       "    </tr>\n",
       "    <tr>\n",
       "      <td>11</td>\n",
       "      <td>-0.737061</td>\n",
       "    </tr>\n",
       "    <tr>\n",
       "      <td>12</td>\n",
       "      <td>-0.654087</td>\n",
       "    </tr>\n",
       "    <tr>\n",
       "      <td>13</td>\n",
       "      <td>0.615824</td>\n",
       "    </tr>\n",
       "    <tr>\n",
       "      <td>14</td>\n",
       "      <td>0.058159</td>\n",
       "    </tr>\n",
       "    <tr>\n",
       "      <td>15</td>\n",
       "      <td>0.898758</td>\n",
       "    </tr>\n",
       "  </tbody>\n",
       "</table>\n",
       "</div>"
      ],
      "text/plain": [
       "           a\n",
       "10 -0.490838\n",
       "11 -0.737061\n",
       "12 -0.654087\n",
       "13  0.615824\n",
       "14  0.058159\n",
       "15  0.898758"
      ]
     },
     "execution_count": 102,
     "metadata": {},
     "output_type": "execute_result"
    }
   ],
   "source": [
    "#HDF存储对象操作与写入\n",
    "store.put('obj2', frame, format='table')\n",
    "aa=store.select('obj2', where=['index >= 10 and index <= 15'])\n",
    "store.close()\n",
    "aa"
   ]
  },
  {
   "cell_type": "code",
   "execution_count": 103,
   "metadata": {
    "scrolled": true
   },
   "outputs": [
    {
     "data": {
      "text/html": [
       "<div>\n",
       "<style scoped>\n",
       "    .dataframe tbody tr th:only-of-type {\n",
       "        vertical-align: middle;\n",
       "    }\n",
       "\n",
       "    .dataframe tbody tr th {\n",
       "        vertical-align: top;\n",
       "    }\n",
       "\n",
       "    .dataframe thead th {\n",
       "        text-align: right;\n",
       "    }\n",
       "</style>\n",
       "<table border=\"1\" class=\"dataframe\">\n",
       "  <thead>\n",
       "    <tr style=\"text-align: right;\">\n",
       "      <th></th>\n",
       "      <th>a</th>\n",
       "    </tr>\n",
       "  </thead>\n",
       "  <tbody>\n",
       "    <tr>\n",
       "      <td>0</td>\n",
       "      <td>1.026020</td>\n",
       "    </tr>\n",
       "    <tr>\n",
       "      <td>1</td>\n",
       "      <td>0.323476</td>\n",
       "    </tr>\n",
       "    <tr>\n",
       "      <td>2</td>\n",
       "      <td>0.487712</td>\n",
       "    </tr>\n",
       "    <tr>\n",
       "      <td>3</td>\n",
       "      <td>-0.047118</td>\n",
       "    </tr>\n",
       "    <tr>\n",
       "      <td>4</td>\n",
       "      <td>0.445724</td>\n",
       "    </tr>\n",
       "  </tbody>\n",
       "</table>\n",
       "</div>"
      ],
      "text/plain": [
       "          a\n",
       "0  1.026020\n",
       "1  0.323476\n",
       "2  0.487712\n",
       "3 -0.047118\n",
       "4  0.445724"
      ]
     },
     "execution_count": 103,
     "metadata": {},
     "output_type": "execute_result"
    }
   ],
   "source": [
    "#DataFrame对象的hdf格式文件的读写操作\n",
    "frame.to_hdf('mydata.h5', 'obj3', format='table')\n",
    "pd.read_hdf('mydata.h5', 'obj3', where=['index < 5'])"
   ]
  },
  {
   "cell_type": "code",
   "execution_count": 104,
   "metadata": {},
   "outputs": [],
   "source": [
    "#删除文件。或者调用操作系统命令形式：!del 或rm 命令\n",
    "import os\n",
    "os.remove('mydata.h5')"
   ]
  },
  {
   "cell_type": "markdown",
   "metadata": {},
   "source": [
    "# 8.读写微软Excel文件\n",
    "Excel格式不再介绍。读写时候需要注意编码格式encoding、表单号sheet、表头head.下面是对应Pandas的函数形式：\n",
    "\n",
    "1.to_excel(\n",
    "    excel_writer,\n",
    "    sheet_name='Sheet1',\n",
    "    na_rep='',\n",
    "    float_format=None,\n",
    "    columns=None,\n",
    "    header=True,\n",
    "    index=True,\n",
    "    index_label=None,\n",
    "    startrow=0,\n",
    "    startcol=0,\n",
    "    engine=None,\n",
    "    merge_cells=True,\n",
    "    encoding=None,\n",
    "    inf_rep='inf',\n",
    "    verbose=True,\n",
    "    freeze_panes=None,\n",
    ")\n",
    "\n",
    "2.read_excel(\n",
    "    io,\n",
    "    sheet_name=0,\n",
    "    header=0,\n",
    "    names=None,\n",
    "    index_col=None,\n",
    "    usecols=None,\n",
    "    squeeze=False,\n",
    "    dtype=None,\n",
    "    engine=None,\n",
    "    converters=None,\n",
    "    true_values=None,\n",
    "    false_values=None,\n",
    "    skiprows=None,\n",
    "    nrows=None,\n",
    "    na_values=None,\n",
    "    keep_default_na=True,\n",
    "    verbose=False,\n",
    "    parse_dates=False,\n",
    "    date_parser=None,\n",
    "    thousands=None,\n",
    "    comment=None,\n",
    "    skip_footer=0,\n",
    "    skipfooter=0,\n",
    "    convert_float=True,\n",
    "    mangle_dupe_cols=True,\n",
    "    **kwds,\n",
    ")\n"
   ]
  },
  {
   "cell_type": "code",
   "execution_count": 105,
   "metadata": {},
   "outputs": [
    {
     "data": {
      "text/html": [
       "<div>\n",
       "<style scoped>\n",
       "    .dataframe tbody tr th:only-of-type {\n",
       "        vertical-align: middle;\n",
       "    }\n",
       "\n",
       "    .dataframe tbody tr th {\n",
       "        vertical-align: top;\n",
       "    }\n",
       "\n",
       "    .dataframe thead th {\n",
       "        text-align: right;\n",
       "    }\n",
       "</style>\n",
       "<table border=\"1\" class=\"dataframe\">\n",
       "  <thead>\n",
       "    <tr style=\"text-align: right;\">\n",
       "      <th></th>\n",
       "      <th>身高</th>\n",
       "      <th>体重</th>\n",
       "    </tr>\n",
       "  </thead>\n",
       "  <tbody>\n",
       "    <tr>\n",
       "      <td>0</td>\n",
       "      <td>160</td>\n",
       "      <td>60</td>\n",
       "    </tr>\n",
       "    <tr>\n",
       "      <td>1</td>\n",
       "      <td>162</td>\n",
       "      <td>70</td>\n",
       "    </tr>\n",
       "    <tr>\n",
       "      <td>2</td>\n",
       "      <td>162</td>\n",
       "      <td>56</td>\n",
       "    </tr>\n",
       "    <tr>\n",
       "      <td>3</td>\n",
       "      <td>163</td>\n",
       "      <td>67</td>\n",
       "    </tr>\n",
       "    <tr>\n",
       "      <td>4</td>\n",
       "      <td>164</td>\n",
       "      <td>67</td>\n",
       "    </tr>\n",
       "    <tr>\n",
       "      <td>...</td>\n",
       "      <td>...</td>\n",
       "      <td>...</td>\n",
       "    </tr>\n",
       "    <tr>\n",
       "      <td>21</td>\n",
       "      <td>181</td>\n",
       "      <td>89</td>\n",
       "    </tr>\n",
       "    <tr>\n",
       "      <td>22</td>\n",
       "      <td>182</td>\n",
       "      <td>75</td>\n",
       "    </tr>\n",
       "    <tr>\n",
       "      <td>23</td>\n",
       "      <td>183</td>\n",
       "      <td>81</td>\n",
       "    </tr>\n",
       "    <tr>\n",
       "      <td>24</td>\n",
       "      <td>184</td>\n",
       "      <td>82</td>\n",
       "    </tr>\n",
       "    <tr>\n",
       "      <td>25</td>\n",
       "      <td>185</td>\n",
       "      <td>86</td>\n",
       "    </tr>\n",
       "  </tbody>\n",
       "</table>\n",
       "<p>26 rows × 2 columns</p>\n",
       "</div>"
      ],
      "text/plain": [
       "     身高  体重\n",
       "0   160  60\n",
       "1   162  70\n",
       "2   162  56\n",
       "3   163  67\n",
       "4   164  67\n",
       "..  ...  ..\n",
       "21  181  89\n",
       "22  182  75\n",
       "23  183  81\n",
       "24  184  82\n",
       "25  185  86\n",
       "\n",
       "[26 rows x 2 columns]"
      ]
     },
     "execution_count": 105,
     "metadata": {},
     "output_type": "execute_result"
    }
   ],
   "source": [
    "#一种读取Excel文件方法：生成ExcelFile对象，然后调用read_excel方法\n",
    "xlsx = pd.ExcelFile('9-1.xlsx')\n",
    "pd.read_excel(xlsx, 'Sheet1')"
   ]
  },
  {
   "cell_type": "code",
   "execution_count": 106,
   "metadata": {},
   "outputs": [
    {
     "data": {
      "text/html": [
       "<div>\n",
       "<style scoped>\n",
       "    .dataframe tbody tr th:only-of-type {\n",
       "        vertical-align: middle;\n",
       "    }\n",
       "\n",
       "    .dataframe tbody tr th {\n",
       "        vertical-align: top;\n",
       "    }\n",
       "\n",
       "    .dataframe thead th {\n",
       "        text-align: right;\n",
       "    }\n",
       "</style>\n",
       "<table border=\"1\" class=\"dataframe\">\n",
       "  <thead>\n",
       "    <tr style=\"text-align: right;\">\n",
       "      <th></th>\n",
       "      <th>身高</th>\n",
       "      <th>体重</th>\n",
       "    </tr>\n",
       "  </thead>\n",
       "  <tbody>\n",
       "    <tr>\n",
       "      <td>0</td>\n",
       "      <td>160</td>\n",
       "      <td>60</td>\n",
       "    </tr>\n",
       "    <tr>\n",
       "      <td>1</td>\n",
       "      <td>162</td>\n",
       "      <td>70</td>\n",
       "    </tr>\n",
       "    <tr>\n",
       "      <td>2</td>\n",
       "      <td>162</td>\n",
       "      <td>56</td>\n",
       "    </tr>\n",
       "    <tr>\n",
       "      <td>3</td>\n",
       "      <td>163</td>\n",
       "      <td>67</td>\n",
       "    </tr>\n",
       "    <tr>\n",
       "      <td>4</td>\n",
       "      <td>164</td>\n",
       "      <td>67</td>\n",
       "    </tr>\n",
       "  </tbody>\n",
       "</table>\n",
       "</div>"
      ],
      "text/plain": [
       "    身高  体重\n",
       "0  160  60\n",
       "1  162  70\n",
       "2  162  56\n",
       "3  163  67\n",
       "4  164  67"
      ]
     },
     "execution_count": 106,
     "metadata": {},
     "output_type": "execute_result"
    }
   ],
   "source": [
    "#直接将文件作为参数读取，如果有乱码或者指定表头所在的行号，可设置参数encoding,header\n",
    "df2 = pd.read_excel('9-1.xlsx', 'Sheet1')\n",
    "df2.head()"
   ]
  },
  {
   "cell_type": "code",
   "execution_count": 126,
   "metadata": {},
   "outputs": [],
   "source": [
    "#写入Excel文件，使用ExcelWriter作为文件操作对象\n",
    "writer = pd.ExcelWriter('9-1-bak.xlsx')\n",
    "frame.to_excel(writer, 'Sheet1')\n",
    "writer.save()\n",
    "writer.close()"
   ]
  },
  {
   "cell_type": "code",
   "execution_count": 116,
   "metadata": {},
   "outputs": [],
   "source": [
    "#使用不使用ExcelWriter作为文件操作对象，而直接调用DataFrame的to_excel函数，会覆盖原来的Excel文件，原有文件内容消失\n",
    "frame.to_excel('9-1-bak.xlsx','Sheet2')"
   ]
  },
  {
   "cell_type": "code",
   "execution_count": 127,
   "metadata": {
    "scrolled": true
   },
   "outputs": [
    {
     "data": {
      "text/plain": [
       "'\\n假如想要对已经存在的excel文件进行修改，可以使用开源工具包（anaconda已附带）openpyxl\\nimport pandas as pd\\nfrom openpyxl import load_workbook\\n \\nwriter = pd.ExcelWriter(\\'test.xlsx\\',engin=\\'openpyxl\\')\\nbook = load_workbook(writer.path)\\nwriter.book = book\\ndataframe.to_excel(excel_writer=writer,sheet_name=\"info5\")\\nwriter.save()\\nwriter.close()\\n'"
      ]
     },
     "execution_count": 127,
     "metadata": {},
     "output_type": "execute_result"
    }
   ],
   "source": [
    "#下面语句会在原来的Excel文件基础上，添加一个Sheet.注意mode : {'w', 'a'}, 缺省是'w'即重写，'a'指追加\n",
    "writer = pd.ExcelWriter('9-1-bak.xlsx',mode={'a'})\n",
    "#注意：这种方式可以在打开的Excel文件连续追加，但原始内容丢失\n",
    "frame.to_excel(excel_writer=writer,sheet_name='Sheet2')\n",
    "df2.to_excel(excel_writer=writer,sheet_name='Sheet3')\n",
    "writer.save()\n",
    "writer.close()\n",
    "\"\"\"\n",
    "假如想要对已经存在的excel文件进行修改，可以使用开源工具包（anaconda已附带）openpyxl\n",
    "import pandas as pd\n",
    "from openpyxl import load_workbook\n",
    " \n",
    "writer = pd.ExcelWriter('test.xlsx',engin='openpyxl')\n",
    "book = load_workbook(writer.path)\n",
    "writer.book = book\n",
    "dataframe.to_excel(excel_writer=writer,sheet_name=\"info5\")\n",
    "writer.save()\n",
    "writer.close()\n",
    "\"\"\""
   ]
  },
  {
   "cell_type": "code",
   "execution_count": 131,
   "metadata": {},
   "outputs": [],
   "source": [
    "pd.read_excel?\n"
   ]
  },
  {
   "cell_type": "markdown",
   "metadata": {},
   "source": [
    "# 9. 数据框Data Frames再复习\n",
    "\n",
    "数据框是面向列的数据结构，每列是个Pandas的系列Series.\n",
    "\n",
    "我们已经从文件中加载了一个数据框，但是为了完整起见，让我们在代码中创建一个: "
   ]
  },
  {
   "cell_type": "code",
   "execution_count": 19,
   "metadata": {},
   "outputs": [
    {
     "data": {
      "text/html": [
       "<div>\n",
       "<style scoped>\n",
       "    .dataframe tbody tr th:only-of-type {\n",
       "        vertical-align: middle;\n",
       "    }\n",
       "\n",
       "    .dataframe tbody tr th {\n",
       "        vertical-align: top;\n",
       "    }\n",
       "\n",
       "    .dataframe thead th {\n",
       "        text-align: right;\n",
       "    }\n",
       "</style>\n",
       "<table border=\"1\" class=\"dataframe\">\n",
       "  <thead>\n",
       "    <tr style=\"text-align: right;\">\n",
       "      <th></th>\n",
       "      <th>Name</th>\n",
       "      <th>No Members</th>\n",
       "      <th>No Albums</th>\n",
       "    </tr>\n",
       "  </thead>\n",
       "  <tbody>\n",
       "    <tr>\n",
       "      <td>0</td>\n",
       "      <td>Led Zeppelin</td>\n",
       "      <td>4</td>\n",
       "      <td>9</td>\n",
       "    </tr>\n",
       "    <tr>\n",
       "      <td>1</td>\n",
       "      <td>The Beatles</td>\n",
       "      <td>4</td>\n",
       "      <td>12</td>\n",
       "    </tr>\n",
       "    <tr>\n",
       "      <td>2</td>\n",
       "      <td>Rolling Stones</td>\n",
       "      <td>4</td>\n",
       "      <td>29</td>\n",
       "    </tr>\n",
       "    <tr>\n",
       "      <td>3</td>\n",
       "      <td>Radiohead</td>\n",
       "      <td>5</td>\n",
       "      <td>9</td>\n",
       "    </tr>\n",
       "  </tbody>\n",
       "</table>\n",
       "</div>"
      ],
      "text/plain": [
       "             Name  No Members  No Albums\n",
       "0    Led Zeppelin           4          9\n",
       "1     The Beatles           4         12\n",
       "2  Rolling Stones           4         29\n",
       "3       Radiohead           5          9"
      ]
     },
     "execution_count": 19,
     "metadata": {},
     "output_type": "execute_result"
    }
   ],
   "source": [
    "#从字典创建DataFrame，字典的key作为column名称，values作为列的数据\n",
    "bandInfo = pd.DataFrame({\n",
    "        \"Name\":[\"Led Zeppelin\", \"The Beatles\", \"Rolling Stones\", \"Radiohead\"],\n",
    "        \"No Members\":[4, 4, 4, 5],\n",
    "        \"No Albums\":[9, 12, 29 ,9]\n",
    "    })\n",
    "bandInfo\n"
   ]
  },
  {
   "cell_type": "markdown",
   "metadata": {},
   "source": [
    "就像一个系列series，一个数据框有一个索引index，它对应于这里的第一列。在本例中，索引是自动生成的，但是对于这个系列，我们可以为索引使用显式的值。\n",
    "我们可以访问数据框中的列，它返回一个系列series:"
   ]
  },
  {
   "cell_type": "code",
   "execution_count": 20,
   "metadata": {},
   "outputs": [
    {
     "data": {
      "text/plain": [
       "0      Led Zeppelin\n",
       "1       The Beatles\n",
       "2    Rolling Stones\n",
       "3         Radiohead\n",
       "Name: Name, dtype: object"
      ]
     },
     "execution_count": 20,
     "metadata": {},
     "output_type": "execute_result"
    }
   ],
   "source": [
    "bandInfo[\"Name\"]"
   ]
  },
  {
   "cell_type": "code",
   "execution_count": 21,
   "metadata": {},
   "outputs": [
    {
     "data": {
      "text/plain": [
       "pandas.core.series.Series"
      ]
     },
     "execution_count": 21,
     "metadata": {},
     "output_type": "execute_result"
    }
   ],
   "source": [
    "type(bandInfo[\"Name\"])"
   ]
  },
  {
   "cell_type": "markdown",
   "metadata": {},
   "source": [
    "显然，我们可以对这个column/series做所有我们学过的事情. "
   ]
  },
  {
   "cell_type": "markdown",
   "metadata": {},
   "source": [
    "前面的示例使用列创建数据框架。我们还可以从行创建一个数据帧。在本例中，这没有太大的意义，但是您可以找到来自数据源的数据，比如CSV文件，按照这个顺序. "
   ]
  },
  {
   "cell_type": "code",
   "execution_count": 22,
   "metadata": {},
   "outputs": [
    {
     "data": {
      "text/html": [
       "<div>\n",
       "<style scoped>\n",
       "    .dataframe tbody tr th:only-of-type {\n",
       "        vertical-align: middle;\n",
       "    }\n",
       "\n",
       "    .dataframe tbody tr th {\n",
       "        vertical-align: top;\n",
       "    }\n",
       "\n",
       "    .dataframe thead th {\n",
       "        text-align: right;\n",
       "    }\n",
       "</style>\n",
       "<table border=\"1\" class=\"dataframe\">\n",
       "  <thead>\n",
       "    <tr style=\"text-align: right;\">\n",
       "      <th></th>\n",
       "      <th>Name</th>\n",
       "      <th>No Albums</th>\n",
       "      <th>No Members</th>\n",
       "    </tr>\n",
       "  </thead>\n",
       "  <tbody>\n",
       "    <tr>\n",
       "      <td>0</td>\n",
       "      <td>Led Zeppelin</td>\n",
       "      <td>9</td>\n",
       "      <td>4</td>\n",
       "    </tr>\n",
       "    <tr>\n",
       "      <td>1</td>\n",
       "      <td>The Beatles</td>\n",
       "      <td>12</td>\n",
       "      <td>4</td>\n",
       "    </tr>\n",
       "    <tr>\n",
       "      <td>2</td>\n",
       "      <td>Rolling Stones</td>\n",
       "      <td>29</td>\n",
       "      <td>4</td>\n",
       "    </tr>\n",
       "    <tr>\n",
       "      <td>3</td>\n",
       "      <td>Radiohead</td>\n",
       "      <td>9</td>\n",
       "      <td>5</td>\n",
       "    </tr>\n",
       "  </tbody>\n",
       "</table>\n",
       "</div>"
      ],
      "text/plain": [
       "             Name  No Albums  No Members\n",
       "0    Led Zeppelin          9           4\n",
       "1     The Beatles         12           4\n",
       "2  Rolling Stones         29           4\n",
       "3       Radiohead          9           5"
      ]
     },
     "execution_count": 22,
     "metadata": {},
     "output_type": "execute_result"
    }
   ],
   "source": [
    "bandInfo2 = pd.DataFrame([\n",
    "        {\"Name\":\"Led Zeppelin\", \"No Albums\":9, \"No Members\":4},\n",
    "        {\"Name\":\"The Beatles\", \"No Albums\":12, \"No Members\":4},\n",
    "        {\"Name\":\"Rolling Stones\", \"No Albums\":29, \"No Members\":4},\n",
    "        {\"Name\":\"Radiohead\", \"No Albums\":9, \"No Members\":5},\n",
    "    ])\n",
    "bandInfo2"
   ]
  },
  {
   "cell_type": "markdown",
   "metadata": {},
   "source": [
    "虽然一个系列只有一个轴，但是dataframe有两个轴，一个用于行(index或'0'轴)，一个用于列(colun或'1'轴)。我们可以看看这些轴:"
   ]
  },
  {
   "cell_type": "code",
   "execution_count": 23,
   "metadata": {},
   "outputs": [
    {
     "data": {
      "text/plain": [
       "[RangeIndex(start=0, stop=4, step=1),\n",
       " Index(['Name', 'No Members', 'No Albums'], dtype='object')]"
      ]
     },
     "execution_count": 23,
     "metadata": {},
     "output_type": "execute_result"
    }
   ],
   "source": [
    "#查看轴信息，返回的分别是RangeIndex和Index对象\n",
    "bandInfo.axes"
   ]
  },
  {
   "cell_type": "code",
   "execution_count": 24,
   "metadata": {},
   "outputs": [
    {
     "data": {
      "text/plain": [
       "RangeIndex(start=0, stop=4, step=1)"
      ]
     },
     "execution_count": 24,
     "metadata": {},
     "output_type": "execute_result"
    }
   ],
   "source": [
    "# 通过返回的列表对象直接访问行轴和列轴\n",
    "bandInfo.axes[0]  #行轴"
   ]
  },
  {
   "cell_type": "code",
   "execution_count": 25,
   "metadata": {},
   "outputs": [
    {
     "data": {
      "text/plain": [
       "Index(['Name', 'No Members', 'No Albums'], dtype='object')"
      ]
     },
     "execution_count": 25,
     "metadata": {},
     "output_type": "execute_result"
    }
   ],
   "source": [
    "# 列轴\n",
    "bandInfo.axes[1]"
   ]
  },
  {
   "cell_type": "markdown",
   "metadata": {},
   "source": [
    "## 探索Data Frames\n",
    "\n",
    "您可能已经注意到，数据框是在Jupyter笔记本中的漂亮HTML表中呈现的。对于小的数据框，只显示所有的数据是有意义的，但是对于大的数据集，比如我们的“hit_albums”数据集，绘制70多行数据可能是令人讨厌的，而对于有数百或数千行的数据集可能是禁止的。默认情况下，数据框只打印有限数量的元素(请注意'…'上面' hit_albums '输出的第30行中，只打印前30行和后30行。\n",
    "在处理数据时，例如，在转换或加载数据集时，查看原始数据是很重要的，例如，检查转换是否正确完成。然而，通常只需要查看数据的一部分就足够了，例如，前几行和/或最后几行。我们可以使用'head()'和'tail()'函数做到:\n"
   ]
  },
  {
   "cell_type": "code",
   "execution_count": 26,
   "metadata": {},
   "outputs": [
    {
     "data": {
      "text/html": [
       "<div>\n",
       "<style scoped>\n",
       "    .dataframe tbody tr th:only-of-type {\n",
       "        vertical-align: middle;\n",
       "    }\n",
       "\n",
       "    .dataframe tbody tr th {\n",
       "        vertical-align: top;\n",
       "    }\n",
       "\n",
       "    .dataframe thead th {\n",
       "        text-align: right;\n",
       "    }\n",
       "</style>\n",
       "<table border=\"1\" class=\"dataframe\">\n",
       "  <thead>\n",
       "    <tr style=\"text-align: right;\">\n",
       "      <th></th>\n",
       "      <th>Artist</th>\n",
       "      <th>Album</th>\n",
       "      <th>Released</th>\n",
       "      <th>Genre</th>\n",
       "      <th>Certified sales (millions)</th>\n",
       "      <th>Claimed sales (millions)</th>\n",
       "    </tr>\n",
       "  </thead>\n",
       "  <tbody>\n",
       "    <tr>\n",
       "      <td>72</td>\n",
       "      <td>Tracy Chapman</td>\n",
       "      <td>Tracy Chapman</td>\n",
       "      <td>1988</td>\n",
       "      <td>Folk rock</td>\n",
       "      <td>20.0</td>\n",
       "      <td>NaN</td>\n",
       "    </tr>\n",
       "    <tr>\n",
       "      <td>73</td>\n",
       "      <td>Usher</td>\n",
       "      <td>Confessions</td>\n",
       "      <td>2004</td>\n",
       "      <td>R&amp;B</td>\n",
       "      <td>20.0</td>\n",
       "      <td>NaN</td>\n",
       "    </tr>\n",
       "    <tr>\n",
       "      <td>74</td>\n",
       "      <td>Various artists</td>\n",
       "      <td>Flashdance: Original Soundtrack from the Motio...</td>\n",
       "      <td>1983</td>\n",
       "      <td>Soundtrack</td>\n",
       "      <td>20.0</td>\n",
       "      <td>NaN</td>\n",
       "    </tr>\n",
       "    <tr>\n",
       "      <td>75</td>\n",
       "      <td>Whitney Houston</td>\n",
       "      <td>Whitney</td>\n",
       "      <td>1987</td>\n",
       "      <td>Pop, R&amp;B</td>\n",
       "      <td>20.0</td>\n",
       "      <td>NaN</td>\n",
       "    </tr>\n",
       "    <tr>\n",
       "      <td>76</td>\n",
       "      <td>Shakira</td>\n",
       "      <td>Laundry Service</td>\n",
       "      <td>2001</td>\n",
       "      <td>Pop, Rock</td>\n",
       "      <td>20.0</td>\n",
       "      <td>NaN</td>\n",
       "    </tr>\n",
       "  </tbody>\n",
       "</table>\n",
       "</div>"
      ],
      "text/plain": [
       "             Artist                                              Album  \\\n",
       "72    Tracy Chapman                                      Tracy Chapman   \n",
       "73            Usher                                        Confessions   \n",
       "74  Various artists  Flashdance: Original Soundtrack from the Motio...   \n",
       "75  Whitney Houston                                            Whitney   \n",
       "76          Shakira                                    Laundry Service   \n",
       "\n",
       "    Released       Genre  Certified sales (millions)  Claimed sales (millions)  \n",
       "72      1988   Folk rock                        20.0                       NaN  \n",
       "73      2004         R&B                        20.0                       NaN  \n",
       "74      1983  Soundtrack                        20.0                       NaN  \n",
       "75      1987    Pop, R&B                        20.0                       NaN  \n",
       "76      2001   Pop, Rock                        20.0                       NaN  "
      ]
     },
     "execution_count": 26,
     "metadata": {},
     "output_type": "execute_result"
    }
   ],
   "source": [
    "# 缺省显示倒数5行，参数也可以指定行数\n",
    "hit_albums.tail()"
   ]
  },
  {
   "cell_type": "code",
   "execution_count": 38,
   "metadata": {},
   "outputs": [
    {
     "data": {
      "text/plain": [
       "(77, 6)"
      ]
     },
     "execution_count": 38,
     "metadata": {},
     "output_type": "execute_result"
    }
   ],
   "source": [
    "#检查数据框的维度，返回的是个元组\n",
    "hit_albums.shape"
   ]
  },
  {
   "cell_type": "markdown",
   "metadata": {},
   "source": [
    "在这里，我们了解到我们的数据集有77行和6列。\n",
    "我们还可以使用info方法获得关于数据集的更多信息，这对于查看列的数据类型特别有帮助:"
   ]
  },
  {
   "cell_type": "code",
   "execution_count": 39,
   "metadata": {},
   "outputs": [
    {
     "name": "stdout",
     "output_type": "stream",
     "text": [
      "<class 'pandas.core.frame.DataFrame'>\n",
      "RangeIndex: 77 entries, 0 to 76\n",
      "Data columns (total 6 columns):\n",
      "Artist                        77 non-null object\n",
      "Album                         77 non-null object\n",
      "Released                      77 non-null int64\n",
      "Genre                         77 non-null object\n",
      "Certified sales (millions)    77 non-null float64\n",
      "Claimed sales (millions)      31 non-null float64\n",
      "dtypes: float64(2), int64(1), object(3)\n",
      "memory usage: 3.7+ KB\n"
     ]
    }
   ],
   "source": [
    "hit_albums.info()"
   ]
  },
  {
   "cell_type": "markdown",
   "metadata": {},
   "source": [
    "对于系列，我们可以得到数据集数值的粗略描述."
   ]
  },
  {
   "cell_type": "code",
   "execution_count": 27,
   "metadata": {},
   "outputs": [
    {
     "data": {
      "text/html": [
       "<div>\n",
       "<style scoped>\n",
       "    .dataframe tbody tr th:only-of-type {\n",
       "        vertical-align: middle;\n",
       "    }\n",
       "\n",
       "    .dataframe tbody tr th {\n",
       "        vertical-align: top;\n",
       "    }\n",
       "\n",
       "    .dataframe thead th {\n",
       "        text-align: right;\n",
       "    }\n",
       "</style>\n",
       "<table border=\"1\" class=\"dataframe\">\n",
       "  <thead>\n",
       "    <tr style=\"text-align: right;\">\n",
       "      <th></th>\n",
       "      <th>Released</th>\n",
       "      <th>Certified sales (millions)</th>\n",
       "      <th>Claimed sales (millions)</th>\n",
       "    </tr>\n",
       "  </thead>\n",
       "  <tbody>\n",
       "    <tr>\n",
       "      <td>count</td>\n",
       "      <td>77.000000</td>\n",
       "      <td>77.000000</td>\n",
       "      <td>31.000000</td>\n",
       "    </tr>\n",
       "    <tr>\n",
       "      <td>mean</td>\n",
       "      <td>1988.662338</td>\n",
       "      <td>22.409091</td>\n",
       "      <td>35.354839</td>\n",
       "    </tr>\n",
       "    <tr>\n",
       "      <td>std</td>\n",
       "      <td>9.949359</td>\n",
       "      <td>4.521620</td>\n",
       "      <td>7.855140</td>\n",
       "    </tr>\n",
       "    <tr>\n",
       "      <td>min</td>\n",
       "      <td>1967.000000</td>\n",
       "      <td>13.100000</td>\n",
       "      <td>30.000000</td>\n",
       "    </tr>\n",
       "    <tr>\n",
       "      <td>25%</td>\n",
       "      <td>1983.000000</td>\n",
       "      <td>20.000000</td>\n",
       "      <td>30.000000</td>\n",
       "    </tr>\n",
       "    <tr>\n",
       "      <td>50%</td>\n",
       "      <td>1987.000000</td>\n",
       "      <td>20.600000</td>\n",
       "      <td>32.000000</td>\n",
       "    </tr>\n",
       "    <tr>\n",
       "      <td>75%</td>\n",
       "      <td>1996.000000</td>\n",
       "      <td>25.000000</td>\n",
       "      <td>39.500000</td>\n",
       "    </tr>\n",
       "    <tr>\n",
       "      <td>max</td>\n",
       "      <td>2015.000000</td>\n",
       "      <td>45.400000</td>\n",
       "      <td>65.000000</td>\n",
       "    </tr>\n",
       "  </tbody>\n",
       "</table>\n",
       "</div>"
      ],
      "text/plain": [
       "          Released  Certified sales (millions)  Claimed sales (millions)\n",
       "count    77.000000                   77.000000                 31.000000\n",
       "mean   1988.662338                   22.409091                 35.354839\n",
       "std       9.949359                    4.521620                  7.855140\n",
       "min    1967.000000                   13.100000                 30.000000\n",
       "25%    1983.000000                   20.000000                 30.000000\n",
       "50%    1987.000000                   20.600000                 32.000000\n",
       "75%    1996.000000                   25.000000                 39.500000\n",
       "max    2015.000000                   45.400000                 65.000000"
      ]
     },
     "execution_count": 27,
     "metadata": {},
     "output_type": "execute_result"
    }
   ],
   "source": [
    "#有关数值型列的描述性统计\n",
    "hit_albums.describe()"
   ]
  },
  {
   "cell_type": "markdown",
   "metadata": {},
   "source": [
    "我们没有看到任何非数值类型的列的描述。但是，我们可以通过直接访问列来获得摘要:"
   ]
  },
  {
   "cell_type": "code",
   "execution_count": 28,
   "metadata": {},
   "outputs": [
    {
     "data": {
      "text/plain": [
       "count                  77\n",
       "unique                 56\n",
       "top       Michael Jackson\n",
       "freq                    5\n",
       "Name: Artist, dtype: object"
      ]
     },
     "execution_count": 28,
     "metadata": {},
     "output_type": "execute_result"
    }
   ],
   "source": [
    "hit_albums[\"Artist\"].describe()"
   ]
  },
  {
   "cell_type": "markdown",
   "metadata": {},
   "source": [
    "在这里，我们可以看到Michael Jackson（迈克尔·杰克逊）是名单上排名第一的艺术家，有五张专辑albums。名单中还有其他拥有多张专辑的艺人吗?我们可以使用value_counts()方法来回答这个问题:"
   ]
  },
  {
   "cell_type": "code",
   "execution_count": 29,
   "metadata": {},
   "outputs": [
    {
     "data": {
      "text/plain": [
       "Michael Jackson                      5\n",
       "The Beatles                          3\n",
       "Shania Twain                         3\n",
       "Various artists                      3\n",
       "Madonna                              3\n",
       "Bon Jovi                             2\n",
       "Britney Spears                       2\n",
       "Pink Floyd                           2\n",
       "Adele                                2\n",
       "Mariah Carey                         2\n",
       "Celine Dion                          2\n",
       "Eagles                               2\n",
       "Backstreet Boys                      2\n",
       "Whitney Houston                      2\n",
       "Phil Collins                         1\n",
       "ABBA                                 1\n",
       "Lionel Richie                        1\n",
       "James Horner                         1\n",
       "TLC                                  1\n",
       "Alanis Morissette                    1\n",
       "Nirvana                              1\n",
       "Cyndi Lauper                         1\n",
       "Led Zeppelin                         1\n",
       "Carole King                          1\n",
       "Eric Clapton                         1\n",
       "George Michael                       1\n",
       "Fleetwood Mac                        1\n",
       "U2                                   1\n",
       "Eminem                               1\n",
       "Boston                               1\n",
       "Green Day                            1\n",
       "Spice Girls                          1\n",
       "Avril Lavigne                        1\n",
       "Norah Jones                          1\n",
       "Linkin Park                          1\n",
       "Usher                                1\n",
       "Guns N' Roses                        1\n",
       "Bruce Springsteen                    1\n",
       "Prince & the Revolution              1\n",
       "Whitney Houston / Various artists    1\n",
       "Santana                              1\n",
       "Def Leppard                          1\n",
       "Bee Gees / Various artists           1\n",
       "Tina Turner                          1\n",
       "Shakira                              1\n",
       "Oasis                                1\n",
       "Metallica                            1\n",
       "Meat Loaf                            1\n",
       "Dire Straits                         1\n",
       "Supertramp                           1\n",
       "Ace of Base                          1\n",
       "Simon & Garfunkel                    1\n",
       "Tracy Chapman                        1\n",
       "AC/DC                                1\n",
       "Bob Marley & The Wailers             1\n",
       "Queen                                1\n",
       "Name: Artist, dtype: int64"
      ]
     },
     "execution_count": 29,
     "metadata": {},
     "output_type": "execute_result"
    }
   ],
   "source": [
    "hit_albums[\"Artist\"].value_counts()"
   ]
  },
  {
   "cell_type": "markdown",
   "metadata": {},
   "source": [
    "我们可以使用[`corr()`](http://pandas.pydata.org/pandas-docs/stable/generated/pandas.DataFrame.corr.html)方法查看数据框架中的数字列是否相关。默认情况下，这会计算列之间的Pearson相关性，不包括NaN值。不足为奇的是，我们发现certified sales和claimed sales之间有很强的相关性(0.81). "
   ]
  },
  {
   "cell_type": "code",
   "execution_count": 30,
   "metadata": {},
   "outputs": [
    {
     "data": {
      "text/html": [
       "<div>\n",
       "<style scoped>\n",
       "    .dataframe tbody tr th:only-of-type {\n",
       "        vertical-align: middle;\n",
       "    }\n",
       "\n",
       "    .dataframe tbody tr th {\n",
       "        vertical-align: top;\n",
       "    }\n",
       "\n",
       "    .dataframe thead th {\n",
       "        text-align: right;\n",
       "    }\n",
       "</style>\n",
       "<table border=\"1\" class=\"dataframe\">\n",
       "  <thead>\n",
       "    <tr style=\"text-align: right;\">\n",
       "      <th></th>\n",
       "      <th>Released</th>\n",
       "      <th>Certified sales (millions)</th>\n",
       "      <th>Claimed sales (millions)</th>\n",
       "    </tr>\n",
       "  </thead>\n",
       "  <tbody>\n",
       "    <tr>\n",
       "      <td>Released</td>\n",
       "      <td>1.000000</td>\n",
       "      <td>-0.052109</td>\n",
       "      <td>-0.320593</td>\n",
       "    </tr>\n",
       "    <tr>\n",
       "      <td>Certified sales (millions)</td>\n",
       "      <td>-0.052109</td>\n",
       "      <td>1.000000</td>\n",
       "      <td>0.810280</td>\n",
       "    </tr>\n",
       "    <tr>\n",
       "      <td>Claimed sales (millions)</td>\n",
       "      <td>-0.320593</td>\n",
       "      <td>0.810280</td>\n",
       "      <td>1.000000</td>\n",
       "    </tr>\n",
       "  </tbody>\n",
       "</table>\n",
       "</div>"
      ],
      "text/plain": [
       "                            Released  Certified sales (millions)  \\\n",
       "Released                    1.000000                   -0.052109   \n",
       "Certified sales (millions) -0.052109                    1.000000   \n",
       "Claimed sales (millions)   -0.320593                    0.810280   \n",
       "\n",
       "                            Claimed sales (millions)  \n",
       "Released                                   -0.320593  \n",
       "Certified sales (millions)                  0.810280  \n",
       "Claimed sales (millions)                    1.000000  "
      ]
     },
     "execution_count": 30,
     "metadata": {},
     "output_type": "execute_result"
    }
   ],
   "source": [
    "hit_albums.corr()"
   ]
  },
  {
   "cell_type": "code",
   "execution_count": 31,
   "metadata": {},
   "outputs": [
    {
     "data": {
      "text/html": [
       "<div>\n",
       "<style scoped>\n",
       "    .dataframe tbody tr th:only-of-type {\n",
       "        vertical-align: middle;\n",
       "    }\n",
       "\n",
       "    .dataframe tbody tr th {\n",
       "        vertical-align: top;\n",
       "    }\n",
       "\n",
       "    .dataframe thead th {\n",
       "        text-align: right;\n",
       "    }\n",
       "</style>\n",
       "<table border=\"1\" class=\"dataframe\">\n",
       "  <thead>\n",
       "    <tr style=\"text-align: right;\">\n",
       "      <th></th>\n",
       "      <th>0</th>\n",
       "      <th>1</th>\n",
       "      <th>2</th>\n",
       "      <th>3</th>\n",
       "      <th>4</th>\n",
       "      <th>5</th>\n",
       "      <th>6</th>\n",
       "      <th>7</th>\n",
       "      <th>8</th>\n",
       "      <th>9</th>\n",
       "      <th>...</th>\n",
       "      <th>67</th>\n",
       "      <th>68</th>\n",
       "      <th>69</th>\n",
       "      <th>70</th>\n",
       "      <th>71</th>\n",
       "      <th>72</th>\n",
       "      <th>73</th>\n",
       "      <th>74</th>\n",
       "      <th>75</th>\n",
       "      <th>76</th>\n",
       "    </tr>\n",
       "  </thead>\n",
       "  <tbody>\n",
       "    <tr>\n",
       "      <td>Artist</td>\n",
       "      <td>Michael Jackson</td>\n",
       "      <td>AC/DC</td>\n",
       "      <td>Pink Floyd</td>\n",
       "      <td>Whitney Houston / Various artists</td>\n",
       "      <td>Meat Loaf</td>\n",
       "      <td>Eagles</td>\n",
       "      <td>Bee Gees / Various artists</td>\n",
       "      <td>Fleetwood Mac</td>\n",
       "      <td>Shania Twain</td>\n",
       "      <td>Led Zeppelin</td>\n",
       "      <td>...</td>\n",
       "      <td>Prince &amp; the Revolution</td>\n",
       "      <td>Shania Twain</td>\n",
       "      <td>Shania Twain</td>\n",
       "      <td>Supertramp</td>\n",
       "      <td>Tina Turner</td>\n",
       "      <td>Tracy Chapman</td>\n",
       "      <td>Usher</td>\n",
       "      <td>Various artists</td>\n",
       "      <td>Whitney Houston</td>\n",
       "      <td>Shakira</td>\n",
       "    </tr>\n",
       "    <tr>\n",
       "      <td>Album</td>\n",
       "      <td>Thriller</td>\n",
       "      <td>Back in Black</td>\n",
       "      <td>The Dark Side of the Moon</td>\n",
       "      <td>The Bodyguard</td>\n",
       "      <td>Bat Out of Hell</td>\n",
       "      <td>Their Greatest Hits (1971–1975)</td>\n",
       "      <td>Saturday Night Fever</td>\n",
       "      <td>Rumours</td>\n",
       "      <td>Come On Over</td>\n",
       "      <td>Led Zeppelin IV</td>\n",
       "      <td>...</td>\n",
       "      <td>Purple Rain</td>\n",
       "      <td>The Woman in Me</td>\n",
       "      <td>Up!</td>\n",
       "      <td>Breakfast in America</td>\n",
       "      <td>Private Dancer</td>\n",
       "      <td>Tracy Chapman</td>\n",
       "      <td>Confessions</td>\n",
       "      <td>Flashdance: Original Soundtrack from the Motio...</td>\n",
       "      <td>Whitney</td>\n",
       "      <td>Laundry Service</td>\n",
       "    </tr>\n",
       "    <tr>\n",
       "      <td>Released</td>\n",
       "      <td>1982</td>\n",
       "      <td>1980</td>\n",
       "      <td>1973</td>\n",
       "      <td>1992</td>\n",
       "      <td>1977</td>\n",
       "      <td>1976</td>\n",
       "      <td>1977</td>\n",
       "      <td>1977</td>\n",
       "      <td>1997</td>\n",
       "      <td>1971</td>\n",
       "      <td>...</td>\n",
       "      <td>1984</td>\n",
       "      <td>1995</td>\n",
       "      <td>2002</td>\n",
       "      <td>1979</td>\n",
       "      <td>1984</td>\n",
       "      <td>1988</td>\n",
       "      <td>2004</td>\n",
       "      <td>1983</td>\n",
       "      <td>1987</td>\n",
       "      <td>2001</td>\n",
       "    </tr>\n",
       "    <tr>\n",
       "      <td>Genre</td>\n",
       "      <td>Pop, rock, R&amp;B</td>\n",
       "      <td>Hard rock</td>\n",
       "      <td>Progressive rock</td>\n",
       "      <td>Soundtrack/R&amp;B, soul, pop</td>\n",
       "      <td>Hard rock, progressive rock</td>\n",
       "      <td>Rock, soft rock, folk rock</td>\n",
       "      <td>Disco</td>\n",
       "      <td>Soft rock</td>\n",
       "      <td>Country, pop</td>\n",
       "      <td>Hard rock, heavy metal</td>\n",
       "      <td>...</td>\n",
       "      <td>Pop, rock, R&amp;B</td>\n",
       "      <td>Country, pop</td>\n",
       "      <td>Country, pop, world music</td>\n",
       "      <td>Progressive rock, art rock</td>\n",
       "      <td>Pop, rock, R&amp;B</td>\n",
       "      <td>Folk rock</td>\n",
       "      <td>R&amp;B</td>\n",
       "      <td>Soundtrack</td>\n",
       "      <td>Pop, R&amp;B</td>\n",
       "      <td>Pop, Rock</td>\n",
       "    </tr>\n",
       "    <tr>\n",
       "      <td>Certified sales (millions)</td>\n",
       "      <td>45.4</td>\n",
       "      <td>25.9</td>\n",
       "      <td>22.7</td>\n",
       "      <td>27.4</td>\n",
       "      <td>20.6</td>\n",
       "      <td>32.2</td>\n",
       "      <td>19</td>\n",
       "      <td>27.9</td>\n",
       "      <td>29.6</td>\n",
       "      <td>29</td>\n",
       "      <td>...</td>\n",
       "      <td>20</td>\n",
       "      <td>20</td>\n",
       "      <td>20</td>\n",
       "      <td>20</td>\n",
       "      <td>20</td>\n",
       "      <td>20</td>\n",
       "      <td>20</td>\n",
       "      <td>20</td>\n",
       "      <td>20</td>\n",
       "      <td>20</td>\n",
       "    </tr>\n",
       "    <tr>\n",
       "      <td>Claimed sales (millions)</td>\n",
       "      <td>65</td>\n",
       "      <td>50</td>\n",
       "      <td>45</td>\n",
       "      <td>44</td>\n",
       "      <td>43</td>\n",
       "      <td>42</td>\n",
       "      <td>40</td>\n",
       "      <td>40</td>\n",
       "      <td>39</td>\n",
       "      <td>37</td>\n",
       "      <td>...</td>\n",
       "      <td>NaN</td>\n",
       "      <td>NaN</td>\n",
       "      <td>NaN</td>\n",
       "      <td>NaN</td>\n",
       "      <td>NaN</td>\n",
       "      <td>NaN</td>\n",
       "      <td>NaN</td>\n",
       "      <td>NaN</td>\n",
       "      <td>NaN</td>\n",
       "      <td>NaN</td>\n",
       "    </tr>\n",
       "  </tbody>\n",
       "</table>\n",
       "<p>6 rows × 77 columns</p>\n",
       "</div>"
      ],
      "text/plain": [
       "                                         0              1   \\\n",
       "Artist                      Michael Jackson          AC/DC   \n",
       "Album                              Thriller  Back in Black   \n",
       "Released                               1982           1980   \n",
       "Genre                        Pop, rock, R&B      Hard rock   \n",
       "Certified sales (millions)             45.4           25.9   \n",
       "Claimed sales (millions)                 65             50   \n",
       "\n",
       "                                                   2   \\\n",
       "Artist                                     Pink Floyd   \n",
       "Album                       The Dark Side of the Moon   \n",
       "Released                                         1973   \n",
       "Genre                                Progressive rock   \n",
       "Certified sales (millions)                       22.7   \n",
       "Claimed sales (millions)                           45   \n",
       "\n",
       "                                                           3   \\\n",
       "Artist                      Whitney Houston / Various artists   \n",
       "Album                                           The Bodyguard   \n",
       "Released                                                 1992   \n",
       "Genre                               Soundtrack/R&B, soul, pop   \n",
       "Certified sales (millions)                               27.4   \n",
       "Claimed sales (millions)                                   44   \n",
       "\n",
       "                                                     4   \\\n",
       "Artist                                        Meat Loaf   \n",
       "Album                                   Bat Out of Hell   \n",
       "Released                                           1977   \n",
       "Genre                       Hard rock, progressive rock   \n",
       "Certified sales (millions)                         20.6   \n",
       "Claimed sales (millions)                             43   \n",
       "\n",
       "                                                         5   \\\n",
       "Artist                                               Eagles   \n",
       "Album                       Their Greatest Hits (1971–1975)   \n",
       "Released                                               1976   \n",
       "Genre                            Rock, soft rock, folk rock   \n",
       "Certified sales (millions)                             32.2   \n",
       "Claimed sales (millions)                                 42   \n",
       "\n",
       "                                                    6              7   \\\n",
       "Artist                      Bee Gees / Various artists  Fleetwood Mac   \n",
       "Album                             Saturday Night Fever        Rumours   \n",
       "Released                                          1977           1977   \n",
       "Genre                                            Disco      Soft rock   \n",
       "Certified sales (millions)                          19           27.9   \n",
       "Claimed sales (millions)                            40             40   \n",
       "\n",
       "                                      8                       9   ...  \\\n",
       "Artist                      Shania Twain            Led Zeppelin  ...   \n",
       "Album                       Come On Over         Led Zeppelin IV  ...   \n",
       "Released                            1997                    1971  ...   \n",
       "Genre                       Country, pop  Hard rock, heavy metal  ...   \n",
       "Certified sales (millions)          29.6                      29  ...   \n",
       "Claimed sales (millions)              39                      37  ...   \n",
       "\n",
       "                                                 67               68  \\\n",
       "Artist                      Prince & the Revolution     Shania Twain   \n",
       "Album                                   Purple Rain  The Woman in Me   \n",
       "Released                                       1984             1995   \n",
       "Genre                                Pop, rock, R&B     Country, pop   \n",
       "Certified sales (millions)                       20               20   \n",
       "Claimed sales (millions)                        NaN              NaN   \n",
       "\n",
       "                                                   69  \\\n",
       "Artist                                   Shania Twain   \n",
       "Album                                             Up!   \n",
       "Released                                         2002   \n",
       "Genre                       Country, pop, world music   \n",
       "Certified sales (millions)                         20   \n",
       "Claimed sales (millions)                          NaN   \n",
       "\n",
       "                                                    70              71  \\\n",
       "Artist                                      Supertramp     Tina Turner   \n",
       "Album                             Breakfast in America  Private Dancer   \n",
       "Released                                          1979            1984   \n",
       "Genre                       Progressive rock, art rock  Pop, rock, R&B   \n",
       "Certified sales (millions)                          20              20   \n",
       "Claimed sales (millions)                           NaN             NaN   \n",
       "\n",
       "                                       72           73  \\\n",
       "Artist                      Tracy Chapman        Usher   \n",
       "Album                       Tracy Chapman  Confessions   \n",
       "Released                             1988         2004   \n",
       "Genre                           Folk rock          R&B   \n",
       "Certified sales (millions)             20           20   \n",
       "Claimed sales (millions)              NaN          NaN   \n",
       "\n",
       "                                                                           74  \\\n",
       "Artist                                                        Various artists   \n",
       "Album                       Flashdance: Original Soundtrack from the Motio...   \n",
       "Released                                                                 1983   \n",
       "Genre                                                              Soundtrack   \n",
       "Certified sales (millions)                                                 20   \n",
       "Claimed sales (millions)                                                  NaN   \n",
       "\n",
       "                                         75               76  \n",
       "Artist                      Whitney Houston          Shakira  \n",
       "Album                               Whitney  Laundry Service  \n",
       "Released                               1987             2001  \n",
       "Genre                              Pop, R&B        Pop, Rock  \n",
       "Certified sales (millions)               20               20  \n",
       "Claimed sales (millions)                NaN              NaN  \n",
       "\n",
       "[6 rows x 77 columns]"
      ]
     },
     "execution_count": 31,
     "metadata": {},
     "output_type": "execute_result"
    }
   ],
   "source": [
    "#可以转置矩阵，行列转换\n",
    "hit_albums.T"
   ]
  },
  {
   "cell_type": "markdown",
   "metadata": {},
   "source": [
    "### 分组Data Frames\n",
    "通常，我们希望聚合数据。例如，考虑到热门专辑（hit-albums）数据集，我们可能想要询问该列表中每个艺术家总共卖出了多少张专辑。我们可以使用group-by方法来进行这些聚合。"
   ]
  },
  {
   "cell_type": "markdown",
   "metadata": {},
   "source": [
    "我们可以指定一个列来分组，例如，“Artist”。我们可以查看创建的组:"
   ]
  },
  {
   "cell_type": "code",
   "execution_count": 32,
   "metadata": {},
   "outputs": [
    {
     "data": {
      "text/plain": [
       "{'ABBA': Int64Index([31], dtype='int64'),\n",
       " 'AC/DC': Int64Index([1], dtype='int64'),\n",
       " 'Ace of Base': Int64Index([50], dtype='int64'),\n",
       " 'Adele': Int64Index([20, 56], dtype='int64'),\n",
       " 'Alanis Morissette': Int64Index([11], dtype='int64'),\n",
       " 'Avril Lavigne': Int64Index([57], dtype='int64'),\n",
       " 'Backstreet Boys': Int64Index([48, 49], dtype='int64'),\n",
       " 'Bee Gees / Various artists': Int64Index([6], dtype='int64'),\n",
       " 'Bob Marley & The Wailers': Int64Index([37], dtype='int64'),\n",
       " 'Bon Jovi': Int64Index([32, 54], dtype='int64'),\n",
       " 'Boston': Int64Index([58], dtype='int64'),\n",
       " 'Britney Spears': Int64Index([35, 59], dtype='int64'),\n",
       " 'Bruce Springsteen': Int64Index([22], dtype='int64'),\n",
       " 'Carole King': Int64Index([38], dtype='int64'),\n",
       " 'Celine Dion': Int64Index([12, 18], dtype='int64'),\n",
       " 'Cyndi Lauper': Int64Index([52], dtype='int64'),\n",
       " 'Def Leppard': Int64Index([61], dtype='int64'),\n",
       " 'Dire Straits': Int64Index([23], dtype='int64'),\n",
       " 'Eagles': Int64Index([5, 14], dtype='int64'),\n",
       " 'Eminem': Int64Index([55], dtype='int64'),\n",
       " 'Eric Clapton': Int64Index([60], dtype='int64'),\n",
       " 'Fleetwood Mac': Int64Index([7], dtype='int64'),\n",
       " 'George Michael': Int64Index([62], dtype='int64'),\n",
       " 'Green Day': Int64Index([63], dtype='int64'),\n",
       " \"Guns N' Roses\": Int64Index([30], dtype='int64'),\n",
       " 'James Horner': Int64Index([24], dtype='int64'),\n",
       " 'Led Zeppelin': Int64Index([9], dtype='int64'),\n",
       " 'Linkin Park': Int64Index([36], dtype='int64'),\n",
       " 'Lionel Richie': Int64Index([64], dtype='int64'),\n",
       " 'Madonna': Int64Index([25, 39, 40], dtype='int64'),\n",
       " 'Mariah Carey': Int64Index([15, 41], dtype='int64'),\n",
       " 'Meat Loaf': Int64Index([4], dtype='int64'),\n",
       " 'Metallica': Int64Index([26], dtype='int64'),\n",
       " 'Michael Jackson': Int64Index([0, 10, 16, 65, 66], dtype='int64'),\n",
       " 'Nirvana': Int64Index([27], dtype='int64'),\n",
       " 'Norah Jones': Int64Index([42], dtype='int64'),\n",
       " 'Oasis': Int64Index([53], dtype='int64'),\n",
       " 'Phil Collins': Int64Index([43], dtype='int64'),\n",
       " 'Pink Floyd': Int64Index([2, 28], dtype='int64'),\n",
       " 'Prince & the Revolution': Int64Index([67], dtype='int64'),\n",
       " 'Queen': Int64Index([44], dtype='int64'),\n",
       " 'Santana': Int64Index([29], dtype='int64'),\n",
       " 'Shakira': Int64Index([76], dtype='int64'),\n",
       " 'Shania Twain': Int64Index([8, 68, 69], dtype='int64'),\n",
       " 'Simon & Garfunkel': Int64Index([45], dtype='int64'),\n",
       " 'Spice Girls': Int64Index([33], dtype='int64'),\n",
       " 'Supertramp': Int64Index([70], dtype='int64'),\n",
       " 'TLC': Int64Index([51], dtype='int64'),\n",
       " 'The Beatles': Int64Index([13, 19, 21], dtype='int64'),\n",
       " 'Tina Turner': Int64Index([71], dtype='int64'),\n",
       " 'Tracy Chapman': Int64Index([72], dtype='int64'),\n",
       " 'U2': Int64Index([46], dtype='int64'),\n",
       " 'Usher': Int64Index([73], dtype='int64'),\n",
       " 'Various artists': Int64Index([17, 34, 74], dtype='int64'),\n",
       " 'Whitney Houston': Int64Index([47, 75], dtype='int64'),\n",
       " 'Whitney Houston / Various artists': Int64Index([3], dtype='int64')}"
      ]
     },
     "execution_count": 32,
     "metadata": {},
     "output_type": "execute_result"
    }
   ],
   "source": [
    "grouped = hit_albums.groupby(\"Artist\")\n",
    "grouped.groups"
   ]
  },
  {
   "cell_type": "markdown",
   "metadata": {},
   "source": [
    "注意，键映射到一组索引。例如，在索引中可以找到Michael Jackson（迈克尔·杰克逊）的专辑 [0, 10, 16, 65, 66].\n",
    "\n",
    "一旦我们创建了这些组，我们就可以指定如何处理它。一个非常通用的解决方案是' agg() '函数，我们可以传递一个函数来处理数据:"
   ]
  },
  {
   "cell_type": "code",
   "execution_count": 33,
   "metadata": {},
   "outputs": [
    {
     "data": {
      "text/html": [
       "<div>\n",
       "<style scoped>\n",
       "    .dataframe tbody tr th:only-of-type {\n",
       "        vertical-align: middle;\n",
       "    }\n",
       "\n",
       "    .dataframe tbody tr th {\n",
       "        vertical-align: top;\n",
       "    }\n",
       "\n",
       "    .dataframe thead th {\n",
       "        text-align: right;\n",
       "    }\n",
       "</style>\n",
       "<table border=\"1\" class=\"dataframe\">\n",
       "  <thead>\n",
       "    <tr style=\"text-align: right;\">\n",
       "      <th></th>\n",
       "      <th>Released</th>\n",
       "      <th>Certified sales (millions)</th>\n",
       "      <th>Claimed sales (millions)</th>\n",
       "    </tr>\n",
       "    <tr>\n",
       "      <th>Artist</th>\n",
       "      <th></th>\n",
       "      <th></th>\n",
       "      <th></th>\n",
       "    </tr>\n",
       "  </thead>\n",
       "  <tbody>\n",
       "    <tr>\n",
       "      <td>ABBA</td>\n",
       "      <td>1992</td>\n",
       "      <td>29.0</td>\n",
       "      <td>0.0</td>\n",
       "    </tr>\n",
       "    <tr>\n",
       "      <td>AC/DC</td>\n",
       "      <td>1980</td>\n",
       "      <td>25.9</td>\n",
       "      <td>50.0</td>\n",
       "    </tr>\n",
       "    <tr>\n",
       "      <td>Ace of Base</td>\n",
       "      <td>1993</td>\n",
       "      <td>23.0</td>\n",
       "      <td>0.0</td>\n",
       "    </tr>\n",
       "    <tr>\n",
       "      <td>Adele</td>\n",
       "      <td>4026</td>\n",
       "      <td>42.3</td>\n",
       "      <td>30.0</td>\n",
       "    </tr>\n",
       "    <tr>\n",
       "      <td>Alanis Morissette</td>\n",
       "      <td>1995</td>\n",
       "      <td>24.8</td>\n",
       "      <td>33.0</td>\n",
       "    </tr>\n",
       "  </tbody>\n",
       "</table>\n",
       "</div>"
      ],
      "text/plain": [
       "                   Released  Certified sales (millions)  \\\n",
       "Artist                                                    \n",
       "ABBA                   1992                        29.0   \n",
       "AC/DC                  1980                        25.9   \n",
       "Ace of Base            1993                        23.0   \n",
       "Adele                  4026                        42.3   \n",
       "Alanis Morissette      1995                        24.8   \n",
       "\n",
       "                   Claimed sales (millions)  \n",
       "Artist                                       \n",
       "ABBA                                    0.0  \n",
       "AC/DC                                  50.0  \n",
       "Ace of Base                             0.0  \n",
       "Adele                                  30.0  \n",
       "Alanis Morissette                      33.0  "
      ]
     },
     "execution_count": 33,
     "metadata": {},
     "output_type": "execute_result"
    }
   ],
   "source": [
    "#这里我们将sum函数传递给组，该函数计算列表的和\n",
    "grouped.agg(sum).head()"
   ]
  },
  {
   "cell_type": "markdown",
   "metadata": {},
   "source": [
    "We can see here that we've summed up all columns. However, note that NaN plus some number is still NaN. So let's work with a slice of the dataframe instead. \n"
   ]
  },
  {
   "cell_type": "markdown",
   "metadata": {},
   "source": [
    "我们可以看到我们已经把所有列加起来了。但是，注意，NaN加上一些数字仍然是NaN。因此，让我们使用一个dataframe片段来代替。这是一个内置函数定义的聚合，我们仍然创建和，但也乘以一百万。我们使用一个 [lambda 表达式](https://docs.python.org/3/tutorial/controlflow.html#lambda-expressions) 来定义一个函数:"
   ]
  },
  {
   "cell_type": "code",
   "execution_count": 53,
   "metadata": {},
   "outputs": [
    {
     "data": {
      "text/html": [
       "<div>\n",
       "<style>\n",
       "    .dataframe thead tr:only-child th {\n",
       "        text-align: right;\n",
       "    }\n",
       "\n",
       "    .dataframe thead th {\n",
       "        text-align: left;\n",
       "    }\n",
       "\n",
       "    .dataframe tbody tr th {\n",
       "        vertical-align: top;\n",
       "    }\n",
       "</style>\n",
       "<table border=\"1\" class=\"dataframe\">\n",
       "  <thead>\n",
       "    <tr style=\"text-align: right;\">\n",
       "      <th></th>\n",
       "      <th>Certified sales (millions)</th>\n",
       "      <th>Claimed sales (millions)</th>\n",
       "    </tr>\n",
       "    <tr>\n",
       "      <th>Artist</th>\n",
       "      <th></th>\n",
       "      <th></th>\n",
       "    </tr>\n",
       "  </thead>\n",
       "  <tbody>\n",
       "    <tr>\n",
       "      <th>ABBA</th>\n",
       "      <td>29000000.0</td>\n",
       "      <td>NaN</td>\n",
       "    </tr>\n",
       "    <tr>\n",
       "      <th>AC/DC</th>\n",
       "      <td>25900000.0</td>\n",
       "      <td>50000000.0</td>\n",
       "    </tr>\n",
       "    <tr>\n",
       "      <th>Ace of Base</th>\n",
       "      <td>23000000.0</td>\n",
       "      <td>NaN</td>\n",
       "    </tr>\n",
       "    <tr>\n",
       "      <th>Adele</th>\n",
       "      <td>42300000.0</td>\n",
       "      <td>NaN</td>\n",
       "    </tr>\n",
       "    <tr>\n",
       "      <th>Alanis Morissette</th>\n",
       "      <td>24800000.0</td>\n",
       "      <td>33000000.0</td>\n",
       "    </tr>\n",
       "  </tbody>\n",
       "</table>\n",
       "</div>"
      ],
      "text/plain": [
       "                   Certified sales (millions)  Claimed sales (millions)\n",
       "Artist                                                                 \n",
       "ABBA                               29000000.0                       NaN\n",
       "AC/DC                              25900000.0                50000000.0\n",
       "Ace of Base                        23000000.0                       NaN\n",
       "Adele                              42300000.0                       NaN\n",
       "Alanis Morissette                  24800000.0                33000000.0"
      ]
     },
     "execution_count": 53,
     "metadata": {},
     "output_type": "execute_result"
    }
   ],
   "source": [
    "grouped.agg(lambda rows : sum([cell * 1000000 for cell in rows])).head()"
   ]
  },
  {
   "cell_type": "markdown",
   "metadata": {},
   "source": [
    "Lambda表达式只是定义函数的另一种方式，而不需要为其指定名称。它们只对单个语句有效。\n",
    "这是一个简单的lambda表达式，它返回一个函数，我们将该函数赋值给变量add:"
   ]
  },
  {
   "cell_type": "code",
   "execution_count": 54,
   "metadata": {
    "collapsed": true
   },
   "outputs": [],
   "source": [
    "add = lambda a, b : a+b"
   ]
  },
  {
   "cell_type": "code",
   "execution_count": 55,
   "metadata": {},
   "outputs": [
    {
     "data": {
      "text/plain": [
       "5"
      ]
     },
     "execution_count": 55,
     "metadata": {},
     "output_type": "execute_result"
    }
   ],
   "source": [
    "add(2, 3)"
   ]
  },
  {
   "cell_type": "markdown",
   "metadata": {},
   "source": [
    "Pandas也有两个内置函数来代替通用的agg方法。例如，我们可以调用'sum()':"
   ]
  },
  {
   "cell_type": "code",
   "execution_count": 34,
   "metadata": {},
   "outputs": [
    {
     "data": {
      "text/html": [
       "<div>\n",
       "<style scoped>\n",
       "    .dataframe tbody tr th:only-of-type {\n",
       "        vertical-align: middle;\n",
       "    }\n",
       "\n",
       "    .dataframe tbody tr th {\n",
       "        vertical-align: top;\n",
       "    }\n",
       "\n",
       "    .dataframe thead th {\n",
       "        text-align: right;\n",
       "    }\n",
       "</style>\n",
       "<table border=\"1\" class=\"dataframe\">\n",
       "  <thead>\n",
       "    <tr style=\"text-align: right;\">\n",
       "      <th></th>\n",
       "      <th>Certified sales (millions)</th>\n",
       "    </tr>\n",
       "    <tr>\n",
       "      <th>Artist</th>\n",
       "      <th></th>\n",
       "    </tr>\n",
       "  </thead>\n",
       "  <tbody>\n",
       "    <tr>\n",
       "      <td>ABBA</td>\n",
       "      <td>29.0</td>\n",
       "    </tr>\n",
       "    <tr>\n",
       "      <td>AC/DC</td>\n",
       "      <td>25.9</td>\n",
       "    </tr>\n",
       "    <tr>\n",
       "      <td>Ace of Base</td>\n",
       "      <td>23.0</td>\n",
       "    </tr>\n",
       "    <tr>\n",
       "      <td>Adele</td>\n",
       "      <td>42.3</td>\n",
       "    </tr>\n",
       "    <tr>\n",
       "      <td>Alanis Morissette</td>\n",
       "      <td>24.8</td>\n",
       "    </tr>\n",
       "  </tbody>\n",
       "</table>\n",
       "</div>"
      ],
      "text/plain": [
       "                   Certified sales (millions)\n",
       "Artist                                       \n",
       "ABBA                                     29.0\n",
       "AC/DC                                    25.9\n",
       "Ace of Base                              23.0\n",
       "Adele                                    42.3\n",
       "Alanis Morissette                        24.8"
      ]
     },
     "execution_count": 34,
     "metadata": {},
     "output_type": "execute_result"
    }
   ],
   "source": [
    "# 首先，创建数据集的新片段\n",
    "artists_sales = hit_albums[[\"Artist\",\"Certified sales (millions)\"]]\n",
    "# 然后根据Artist进行分组，将值求和\n",
    "aggregated = artists_sales.groupby(\"Artist\").sum()\n",
    "aggregated.head()"
   ]
  },
  {
   "cell_type": "code",
   "execution_count": 57,
   "metadata": {},
   "outputs": [
    {
     "data": {
      "text/html": [
       "<div>\n",
       "<style>\n",
       "    .dataframe thead tr:only-child th {\n",
       "        text-align: right;\n",
       "    }\n",
       "\n",
       "    .dataframe thead th {\n",
       "        text-align: left;\n",
       "    }\n",
       "\n",
       "    .dataframe tbody tr th {\n",
       "        vertical-align: top;\n",
       "    }\n",
       "</style>\n",
       "<table border=\"1\" class=\"dataframe\">\n",
       "  <thead>\n",
       "    <tr style=\"text-align: right;\">\n",
       "      <th></th>\n",
       "      <th>Certified sales (millions)</th>\n",
       "    </tr>\n",
       "    <tr>\n",
       "      <th>Artist</th>\n",
       "      <th></th>\n",
       "    </tr>\n",
       "  </thead>\n",
       "  <tbody>\n",
       "    <tr>\n",
       "      <th>Michael Jackson</th>\n",
       "      <td>123.3</td>\n",
       "    </tr>\n",
       "    <tr>\n",
       "      <th>Shania Twain</th>\n",
       "      <td>69.6</td>\n",
       "    </tr>\n",
       "    <tr>\n",
       "      <th>Madonna</th>\n",
       "      <td>69.4</td>\n",
       "    </tr>\n",
       "    <tr>\n",
       "      <th>Various artists</th>\n",
       "      <td>65.9</td>\n",
       "    </tr>\n",
       "    <tr>\n",
       "      <th>Eagles</th>\n",
       "      <td>53.7</td>\n",
       "    </tr>\n",
       "  </tbody>\n",
       "</table>\n",
       "</div>"
      ],
      "text/plain": [
       "                 Certified sales (millions)\n",
       "Artist                                     \n",
       "Michael Jackson                       123.3\n",
       "Shania Twain                           69.6\n",
       "Madonna                                69.4\n",
       "Various artists                        65.9\n",
       "Eagles                                 53.7"
      ]
     },
     "execution_count": 57,
     "metadata": {},
     "output_type": "execute_result"
    }
   ],
   "source": [
    "#排序，获得好看的结果\n",
    "aggregated.sort_values(\"Certified sales (millions)\", ascending=False).head()"
   ]
  }
 ],
 "metadata": {
  "anaconda-cloud": {},
  "kernelspec": {
   "display_name": "Python 3",
   "language": "python",
   "name": "python3"
  },
  "language_info": {
   "codemirror_mode": {
    "name": "ipython",
    "version": 3
   },
   "file_extension": ".py",
   "mimetype": "text/x-python",
   "name": "python",
   "nbconvert_exporter": "python",
   "pygments_lexer": "ipython3",
   "version": "3.7.4"
  },
  "nbpresent": {
   "slides": {
    "19a6495f-8346-4b23-a98a-c7115941e8f0": {
     "id": "19a6495f-8346-4b23-a98a-c7115941e8f0",
     "prev": null,
     "regions": {
      "d6523b36-7204-4001-8a6c-37c431b18d26": {
       "attrs": {
        "height": 1,
        "width": 1,
        "x": 0,
        "y": 0
       },
       "id": "d6523b36-7204-4001-8a6c-37c431b18d26"
      }
     }
    }
   },
   "themes": {}
  }
 },
 "nbformat": 4,
 "nbformat_minor": 1
}
