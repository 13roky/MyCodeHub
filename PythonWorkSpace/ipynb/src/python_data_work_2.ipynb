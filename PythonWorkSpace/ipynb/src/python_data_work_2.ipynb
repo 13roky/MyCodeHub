{
 "metadata": {
  "language_info": {
   "codemirror_mode": {
    "name": "ipython",
    "version": 3
   },
   "file_extension": ".py",
   "mimetype": "text/x-python",
   "name": "python",
   "nbconvert_exporter": "python",
   "pygments_lexer": "ipython3",
   "version": "3.8.5"
  },
  "orig_nbformat": 2,
  "kernelspec": {
   "name": "python3",
   "language": "python",
   "display_name": "Python 3"
  }
 },
 "nbformat": 4,
 "nbformat_minor": 2,
 "cells": [
  {
   "cell_type": "code",
   "execution_count": null,
   "metadata": {},
   "outputs": [],
   "source": [
    "######################\n",
    "#  @作者 张博强\n",
    "#  @学号 32019070233\n",
    "#####################"
   ]
  },
  {
   "cell_type": "code",
   "execution_count": 19,
   "metadata": {},
   "outputs": [
    {
     "output_type": "execute_result",
     "data": {
      "text/plain": [
       "array([[ 38,  47,  54,  87,  41],\n",
       "       [ 55,  50,  98,  85,  12],\n",
       "       [ 29,  16,  63,  90,   8],\n",
       "       [ 22,  49,  40,  68,   9],\n",
       "       [ 15,  92,  24,  67,  76],\n",
       "       [ 51,  69,  77,   4,  79],\n",
       "       [  4,   9,  53,  20,  94],\n",
       "       [ 90,  20,  44,  24,  18],\n",
       "       [ 32,   8,  82,  16,   7],\n",
       "       [ 18,  37,  22,  55,  20],\n",
       "       [ 33,  49,   2,  12,  52],\n",
       "       [ 26,  52,  81,  98, 100],\n",
       "       [ 41,  34,  58,  29,  49],\n",
       "       [ 75,  27,  82,  63,  36],\n",
       "       [ 88,  49,  44,  60,  72],\n",
       "       [ 70,  89,  81,  24,  45],\n",
       "       [100,  51,  98,  87,  60],\n",
       "       [ 95,   3,  63,  95,  24],\n",
       "       [ 62,  89,   0,  50,  17],\n",
       "       [ 71,  36,  63,  60,  85]])"
      ]
     },
     "metadata": {},
     "execution_count": 19
    }
   ],
   "source": [
    "import numpy as np\n",
    "\n",
    "randomNum = np.random.randint(0,101,size=(20,5))\n",
    "\n",
    "randomNum\n"
   ]
  },
  {
   "cell_type": "code",
   "execution_count": 23,
   "metadata": {},
   "outputs": [
    {
     "output_type": "execute_result",
     "data": {
      "text/plain": [
       "{'dict1': {'key1': 38, 'key2': 47, 'key3': 54, 'key4': 87, 'key5': 41},\n",
       " 'dict2': {'key1': 55, 'key2': 50, 'key3': 98, 'key4': 85, 'key5': 12},\n",
       " 'dict3': {'key1': 29, 'key2': 16, 'key3': 63, 'key4': 90, 'key5': 8},\n",
       " 'dict4': {'key1': 22, 'key2': 49, 'key3': 40, 'key4': 68, 'key5': 9},\n",
       " 'dict5': {'key1': 15, 'key2': 92, 'key3': 24, 'key4': 67, 'key5': 76},\n",
       " 'dict6': {'key1': 51, 'key2': 69, 'key3': 77, 'key4': 4, 'key5': 79},\n",
       " 'dict7': {'key1': 4, 'key2': 9, 'key3': 53, 'key4': 20, 'key5': 94},\n",
       " 'dict8': {'key1': 90, 'key2': 20, 'key3': 44, 'key4': 24, 'key5': 18},\n",
       " 'dict9': {'key1': 32, 'key2': 8, 'key3': 82, 'key4': 16, 'key5': 7},\n",
       " 'dict10': {'key1': 18, 'key2': 37, 'key3': 22, 'key4': 55, 'key5': 20},\n",
       " 'dict11': {'key1': 33, 'key2': 49, 'key3': 2, 'key4': 12, 'key5': 52},\n",
       " 'dict12': {'key1': 26, 'key2': 52, 'key3': 81, 'key4': 98, 'key5': 100},\n",
       " 'dict13': {'key1': 41, 'key2': 34, 'key3': 58, 'key4': 29, 'key5': 49},\n",
       " 'dict14': {'key1': 75, 'key2': 27, 'key3': 82, 'key4': 63, 'key5': 36},\n",
       " 'dict15': {'key1': 88, 'key2': 49, 'key3': 44, 'key4': 60, 'key5': 72},\n",
       " 'dict16': {'key1': 70, 'key2': 89, 'key3': 81, 'key4': 24, 'key5': 45},\n",
       " 'dict17': {'key1': 100, 'key2': 51, 'key3': 98, 'key4': 87, 'key5': 60},\n",
       " 'dict18': {'key1': 95, 'key2': 3, 'key3': 63, 'key4': 95, 'key5': 24},\n",
       " 'dict19': {'key1': 62, 'key2': 89, 'key3': 0, 'key4': 50, 'key5': 17},\n",
       " 'dict20': {'key1': 71, 'key2': 36, 'key3': 63, 'key4': 60, 'key5': 85}}"
      ]
     },
     "metadata": {},
     "execution_count": 23
    }
   ],
   "source": [
    "key=['key1','key2','key3','key4','key5']\n",
    "dict={'dict'+str(i):{'key'+str(k):randomNum[i-1,k-1] for k in range(1,6)}for i in range(1,21)}\n",
    "dict\n"
   ]
  },
  {
   "cell_type": "code",
   "execution_count": 26,
   "metadata": {},
   "outputs": [
    {
     "output_type": "execute_result",
     "data": {
      "text/plain": [
       "                                                        0\n",
       "dict1   {'key1': 38, 'key2': 47, 'key3': 54, 'key4': 8...\n",
       "dict2   {'key1': 55, 'key2': 50, 'key3': 98, 'key4': 8...\n",
       "dict3   {'key1': 29, 'key2': 16, 'key3': 63, 'key4': 9...\n",
       "dict4   {'key1': 22, 'key2': 49, 'key3': 40, 'key4': 6...\n",
       "dict5   {'key1': 15, 'key2': 92, 'key3': 24, 'key4': 6...\n",
       "dict6   {'key1': 51, 'key2': 69, 'key3': 77, 'key4': 4...\n",
       "dict7   {'key1': 4, 'key2': 9, 'key3': 53, 'key4': 20,...\n",
       "dict8   {'key1': 90, 'key2': 20, 'key3': 44, 'key4': 2...\n",
       "dict9   {'key1': 32, 'key2': 8, 'key3': 82, 'key4': 16...\n",
       "dict10  {'key1': 18, 'key2': 37, 'key3': 22, 'key4': 5...\n",
       "dict11  {'key1': 33, 'key2': 49, 'key3': 2, 'key4': 12...\n",
       "dict12  {'key1': 26, 'key2': 52, 'key3': 81, 'key4': 9...\n",
       "dict13  {'key1': 41, 'key2': 34, 'key3': 58, 'key4': 2...\n",
       "dict14  {'key1': 75, 'key2': 27, 'key3': 82, 'key4': 6...\n",
       "dict15  {'key1': 88, 'key2': 49, 'key3': 44, 'key4': 6...\n",
       "dict16  {'key1': 70, 'key2': 89, 'key3': 81, 'key4': 2...\n",
       "dict17  {'key1': 100, 'key2': 51, 'key3': 98, 'key4': ...\n",
       "dict18  {'key1': 95, 'key2': 3, 'key3': 63, 'key4': 95...\n",
       "dict19  {'key1': 62, 'key2': 89, 'key3': 0, 'key4': 50...\n",
       "dict20  {'key1': 71, 'key2': 36, 'key3': 63, 'key4': 6..."
      ],
      "text/html": "<div>\n<style scoped>\n    .dataframe tbody tr th:only-of-type {\n        vertical-align: middle;\n    }\n\n    .dataframe tbody tr th {\n        vertical-align: top;\n    }\n\n    .dataframe thead th {\n        text-align: right;\n    }\n</style>\n<table border=\"1\" class=\"dataframe\">\n  <thead>\n    <tr style=\"text-align: right;\">\n      <th></th>\n      <th>0</th>\n    </tr>\n  </thead>\n  <tbody>\n    <tr>\n      <th>dict1</th>\n      <td>{'key1': 38, 'key2': 47, 'key3': 54, 'key4': 8...</td>\n    </tr>\n    <tr>\n      <th>dict2</th>\n      <td>{'key1': 55, 'key2': 50, 'key3': 98, 'key4': 8...</td>\n    </tr>\n    <tr>\n      <th>dict3</th>\n      <td>{'key1': 29, 'key2': 16, 'key3': 63, 'key4': 9...</td>\n    </tr>\n    <tr>\n      <th>dict4</th>\n      <td>{'key1': 22, 'key2': 49, 'key3': 40, 'key4': 6...</td>\n    </tr>\n    <tr>\n      <th>dict5</th>\n      <td>{'key1': 15, 'key2': 92, 'key3': 24, 'key4': 6...</td>\n    </tr>\n    <tr>\n      <th>dict6</th>\n      <td>{'key1': 51, 'key2': 69, 'key3': 77, 'key4': 4...</td>\n    </tr>\n    <tr>\n      <th>dict7</th>\n      <td>{'key1': 4, 'key2': 9, 'key3': 53, 'key4': 20,...</td>\n    </tr>\n    <tr>\n      <th>dict8</th>\n      <td>{'key1': 90, 'key2': 20, 'key3': 44, 'key4': 2...</td>\n    </tr>\n    <tr>\n      <th>dict9</th>\n      <td>{'key1': 32, 'key2': 8, 'key3': 82, 'key4': 16...</td>\n    </tr>\n    <tr>\n      <th>dict10</th>\n      <td>{'key1': 18, 'key2': 37, 'key3': 22, 'key4': 5...</td>\n    </tr>\n    <tr>\n      <th>dict11</th>\n      <td>{'key1': 33, 'key2': 49, 'key3': 2, 'key4': 12...</td>\n    </tr>\n    <tr>\n      <th>dict12</th>\n      <td>{'key1': 26, 'key2': 52, 'key3': 81, 'key4': 9...</td>\n    </tr>\n    <tr>\n      <th>dict13</th>\n      <td>{'key1': 41, 'key2': 34, 'key3': 58, 'key4': 2...</td>\n    </tr>\n    <tr>\n      <th>dict14</th>\n      <td>{'key1': 75, 'key2': 27, 'key3': 82, 'key4': 6...</td>\n    </tr>\n    <tr>\n      <th>dict15</th>\n      <td>{'key1': 88, 'key2': 49, 'key3': 44, 'key4': 6...</td>\n    </tr>\n    <tr>\n      <th>dict16</th>\n      <td>{'key1': 70, 'key2': 89, 'key3': 81, 'key4': 2...</td>\n    </tr>\n    <tr>\n      <th>dict17</th>\n      <td>{'key1': 100, 'key2': 51, 'key3': 98, 'key4': ...</td>\n    </tr>\n    <tr>\n      <th>dict18</th>\n      <td>{'key1': 95, 'key2': 3, 'key3': 63, 'key4': 95...</td>\n    </tr>\n    <tr>\n      <th>dict19</th>\n      <td>{'key1': 62, 'key2': 89, 'key3': 0, 'key4': 50...</td>\n    </tr>\n    <tr>\n      <th>dict20</th>\n      <td>{'key1': 71, 'key2': 36, 'key3': 63, 'key4': 6...</td>\n    </tr>\n  </tbody>\n</table>\n</div>"
     },
     "metadata": {},
     "execution_count": 26
    }
   ],
   "source": [
    "import pandas as pd\n",
    "\n",
    "df = pd.DataFrame([dict])\n",
    "\n",
    "df = df.T\n",
    "\n",
    "df\n"
   ]
  },
  {
   "cell_type": "code",
   "execution_count": 31,
   "metadata": {},
   "outputs": [
    {
     "output_type": "execute_result",
     "data": {
      "text/plain": [
       "0    {'key1': 38, 'key2': 47, 'key3': 54, 'key4': 8...\n",
       "Name: dict1, dtype: object"
      ]
     },
     "metadata": {},
     "execution_count": 31
    }
   ],
   "source": [
    "df.loc['dict1']"
   ]
  },
  {
   "cell_type": "code",
   "execution_count": 33,
   "metadata": {},
   "outputs": [
    {
     "output_type": "execute_result",
     "data": {
      "text/plain": [
       "                                                       0\n",
       "dict1  {'key1': 38, 'key2': 47, 'key3': 54, 'key4': 8...\n",
       "dict4  {'key1': 22, 'key2': 49, 'key3': 40, 'key4': 6..."
      ],
      "text/html": "<div>\n<style scoped>\n    .dataframe tbody tr th:only-of-type {\n        vertical-align: middle;\n    }\n\n    .dataframe tbody tr th {\n        vertical-align: top;\n    }\n\n    .dataframe thead th {\n        text-align: right;\n    }\n</style>\n<table border=\"1\" class=\"dataframe\">\n  <thead>\n    <tr style=\"text-align: right;\">\n      <th></th>\n      <th>0</th>\n    </tr>\n  </thead>\n  <tbody>\n    <tr>\n      <th>dict1</th>\n      <td>{'key1': 38, 'key2': 47, 'key3': 54, 'key4': 8...</td>\n    </tr>\n    <tr>\n      <th>dict4</th>\n      <td>{'key1': 22, 'key2': 49, 'key3': 40, 'key4': 6...</td>\n    </tr>\n  </tbody>\n</table>\n</div>"
     },
     "metadata": {},
     "execution_count": 33
    }
   ],
   "source": [
    "df.loc[['dict1','dict4']]"
   ]
  },
  {
   "cell_type": "code",
   "execution_count": 39,
   "metadata": {},
   "outputs": [
    {
     "output_type": "execute_result",
     "data": {
      "text/plain": [
       "                                                       0\n",
       "dict3  {'key1': 29, 'key2': 16, 'key3': 63, 'key4': 9...\n",
       "dict4  {'key1': 22, 'key2': 49, 'key3': 40, 'key4': 6...\n",
       "dict5  {'key1': 15, 'key2': 92, 'key3': 24, 'key4': 6...\n",
       "dict6  {'key1': 51, 'key2': 69, 'key3': 77, 'key4': 4...\n",
       "dict7  {'key1': 4, 'key2': 9, 'key3': 53, 'key4': 20,..."
      ],
      "text/html": "<div>\n<style scoped>\n    .dataframe tbody tr th:only-of-type {\n        vertical-align: middle;\n    }\n\n    .dataframe tbody tr th {\n        vertical-align: top;\n    }\n\n    .dataframe thead th {\n        text-align: right;\n    }\n</style>\n<table border=\"1\" class=\"dataframe\">\n  <thead>\n    <tr style=\"text-align: right;\">\n      <th></th>\n      <th>0</th>\n    </tr>\n  </thead>\n  <tbody>\n    <tr>\n      <th>dict3</th>\n      <td>{'key1': 29, 'key2': 16, 'key3': 63, 'key4': 9...</td>\n    </tr>\n    <tr>\n      <th>dict4</th>\n      <td>{'key1': 22, 'key2': 49, 'key3': 40, 'key4': 6...</td>\n    </tr>\n    <tr>\n      <th>dict5</th>\n      <td>{'key1': 15, 'key2': 92, 'key3': 24, 'key4': 6...</td>\n    </tr>\n    <tr>\n      <th>dict6</th>\n      <td>{'key1': 51, 'key2': 69, 'key3': 77, 'key4': 4...</td>\n    </tr>\n    <tr>\n      <th>dict7</th>\n      <td>{'key1': 4, 'key2': 9, 'key3': 53, 'key4': 20,...</td>\n    </tr>\n  </tbody>\n</table>\n</div>"
     },
     "metadata": {},
     "execution_count": 39
    }
   ],
   "source": [
    "df.loc['dict3':'dict7']"
   ]
  },
  {
   "cell_type": "code",
   "execution_count": 46,
   "metadata": {},
   "outputs": [
    {
     "output_type": "execute_result",
     "data": {
      "text/plain": [
       "0    {'key1': 38, 'key2': 47, 'key3': 54, 'key4': 8...\n",
       "Name: dict1, dtype: object"
      ]
     },
     "metadata": {},
     "execution_count": 46
    }
   ],
   "source": [
    "df.iloc[0]"
   ]
  },
  {
   "cell_type": "code",
   "execution_count": 50,
   "metadata": {},
   "outputs": [
    {
     "output_type": "execute_result",
     "data": {
      "text/plain": [
       "                                                       0\n",
       "dict1  {'key1': 38, 'key2': 47, 'key3': 54, 'key4': 8...\n",
       "dict4  {'key1': 22, 'key2': 49, 'key3': 40, 'key4': 6..."
      ],
      "text/html": "<div>\n<style scoped>\n    .dataframe tbody tr th:only-of-type {\n        vertical-align: middle;\n    }\n\n    .dataframe tbody tr th {\n        vertical-align: top;\n    }\n\n    .dataframe thead th {\n        text-align: right;\n    }\n</style>\n<table border=\"1\" class=\"dataframe\">\n  <thead>\n    <tr style=\"text-align: right;\">\n      <th></th>\n      <th>0</th>\n    </tr>\n  </thead>\n  <tbody>\n    <tr>\n      <th>dict1</th>\n      <td>{'key1': 38, 'key2': 47, 'key3': 54, 'key4': 8...</td>\n    </tr>\n    <tr>\n      <th>dict4</th>\n      <td>{'key1': 22, 'key2': 49, 'key3': 40, 'key4': 6...</td>\n    </tr>\n  </tbody>\n</table>\n</div>"
     },
     "metadata": {},
     "execution_count": 50
    }
   ],
   "source": [
    "df.iloc[[0,3]]"
   ]
  },
  {
   "cell_type": "code",
   "execution_count": 52,
   "metadata": {},
   "outputs": [
    {
     "output_type": "execute_result",
     "data": {
      "text/plain": [
       "                                                       0\n",
       "dict1  {'key1': 38, 'key2': 47, 'key3': 54, 'key4': 8...\n",
       "dict2  {'key1': 55, 'key2': 50, 'key3': 98, 'key4': 8...\n",
       "dict3  {'key1': 29, 'key2': 16, 'key3': 63, 'key4': 9..."
      ],
      "text/html": "<div>\n<style scoped>\n    .dataframe tbody tr th:only-of-type {\n        vertical-align: middle;\n    }\n\n    .dataframe tbody tr th {\n        vertical-align: top;\n    }\n\n    .dataframe thead th {\n        text-align: right;\n    }\n</style>\n<table border=\"1\" class=\"dataframe\">\n  <thead>\n    <tr style=\"text-align: right;\">\n      <th></th>\n      <th>0</th>\n    </tr>\n  </thead>\n  <tbody>\n    <tr>\n      <th>dict1</th>\n      <td>{'key1': 38, 'key2': 47, 'key3': 54, 'key4': 8...</td>\n    </tr>\n    <tr>\n      <th>dict2</th>\n      <td>{'key1': 55, 'key2': 50, 'key3': 98, 'key4': 8...</td>\n    </tr>\n    <tr>\n      <th>dict3</th>\n      <td>{'key1': 29, 'key2': 16, 'key3': 63, 'key4': 9...</td>\n    </tr>\n  </tbody>\n</table>\n</div>"
     },
     "metadata": {},
     "execution_count": 52
    }
   ],
   "source": [
    "df.iloc[0:3]"
   ]
  },
  {
   "cell_type": "code",
   "execution_count": 56,
   "metadata": {},
   "outputs": [],
   "source": [
    "df.to_excel(\"E:\\python_data_work_2.xlsx\",index_label = \"DateFrame导出结果\")"
   ]
  }
 ]
}