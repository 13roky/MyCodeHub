{
 "metadata": {
  "language_info": {
   "codemirror_mode": {
    "name": "ipython",
    "version": 3
   },
   "file_extension": ".py",
   "mimetype": "text/x-python",
   "name": "python",
   "nbconvert_exporter": "python",
   "pygments_lexer": "ipython3",
   "version": "3.8.5"
  },
  "orig_nbformat": 2,
  "kernelspec": {
   "name": "python3",
   "display_name": "Python 3.8.5 64-bit ('base': conda)",
   "metadata": {
    "interpreter": {
     "hash": "797c83b77068ad4ce59b99a4d2ab7cfecfd7e7062f10d3e0ec2fb7ff1d39f47e"
    }
   }
  }
 },
 "nbformat": 4,
 "nbformat_minor": 2,
 "cells": [
  {
   "cell_type": "code",
   "execution_count": 1,
   "metadata": {},
   "outputs": [
    {
     "output_type": "stream",
     "name": "stdout",
     "text": [
      "0\n2\n5\n7\n"
     ]
    },
    {
     "output_type": "execute_result",
     "data": {
      "text/plain": [
       "[1, 2, 9, 4, 8, 49, 22, 1089, 88]"
      ]
     },
     "metadata": {},
     "execution_count": 1
    }
   ],
   "source": [
    "X =[ 1,2,3,4,8,7, 22,33, 88 ]\n",
    "n = 0\n",
    "for x in X:\n",
    "    if x%2!=0:\n",
    "        print(n)\n",
    "        X[n]=x*x\n",
    "    n=n+1\n",
    "X\n"
   ]
  },
  {
   "cell_type": "code",
   "execution_count": 28,
   "metadata": {},
   "outputs": [
    {
     "output_type": "execute_result",
     "data": {
      "text/plain": [
       "[6, 7, 9, 11]"
      ]
     },
     "metadata": {},
     "execution_count": 28
    }
   ],
   "source": [
    "aList=[3, 4, 5, 6, 7, 9, 11, 13, 15, 17]\n",
    "aList[3:7]"
   ]
  },
  {
   "source": [
    "import numpy as np\n",
    "\n",
    "randomNum = np.random.randint(101,size=20)\n",
    "print(\"原随机数组\",randomNum)\n",
    "\n",
    "for i in range(10):\n",
    "\n",
    "    for j in range(0,10-i-1):\n",
    "\n",
    "        if randomNum[j] > randomNum[j+1]:\n",
    "           \n",
    "            randomNum[j],randomNum[j+1] = randomNum[j+1],randomNum[j]\n",
    "\n",
    "for i in range(10):\n",
    "\n",
    "    for j in range(10,20-i-1):\n",
    "\n",
    "        if randomNum[j] < randomNum[j+1]:\n",
    "           \n",
    "            randomNum[j],randomNum[j+1] = randomNum[j+1],randomNum[j]\n",
    "\n",
    "print(\"冒泡排序后\",randomNum)"
   ],
   "cell_type": "code",
   "metadata": {},
   "execution_count": 31,
   "outputs": [
    {
     "output_type": "stream",
     "name": "stdout",
     "text": [
      "原随机数组 [60 35 73 35 46  7 41 84 77 41 32  3 56 44 74 96 72 59  5  1]\n冒泡排序后 [ 7 35 35 41 41 46 60 73 77 84 96 74 72 59 56 44 32  5  3  1]\n"
     ]
    }
   ]
  },
  {
   "cell_type": "code",
   "execution_count": 58,
   "metadata": {},
   "outputs": [
    {
     "output_type": "stream",
     "name": "stdout",
     "text": [
      "原随机数组 [87, 21, 62, 73, 87, 60, 7, 34, 84, 56, 68, 51, 70, 92, 14, 92, 15, 56, 92, 95]\n冒泡排序后 [7, 21, 34, 56, 60, 62, 73, 84, 87, 87, 95, 92, 92, 92, 70, 68, 56, 51, 15, 14]\n"
     ]
    }
   ],
   "source": [
    "import random\n",
    "\n",
    "# 随机数赋予数组可以使用numpy优化\n",
    "randomNum =[0 for i in range(20)]\n",
    "for i in range(20):\n",
    "    randomNum[i] = random.randint(0,100)\n",
    "print(\"原随机数组\",randomNum)\n",
    "\n",
    "for i in range(10):\n",
    "\n",
    "    for j in range(0,10-i-1):\n",
    "\n",
    "        if randomNum[j] > randomNum[j+1]:\n",
    "           \n",
    "            randomNum[j],randomNum[j+1] = randomNum[j+1],randomNum[j]\n",
    "\n",
    "for i in range(10):\n",
    "\n",
    "    for j in range(10,20-i-1):\n",
    "\n",
    "        if randomNum[j] < randomNum[j+1]:\n",
    "           \n",
    "            randomNum[j],randomNum[j+1] = randomNum[j+1],randomNum[j]\n",
    "\n",
    "print(\"冒泡排序后\",randomNum)"
   ]
  },
  {
   "cell_type": "code",
   "execution_count": null,
   "metadata": {},
   "outputs": [],
   "source": []
  }
 ]
}