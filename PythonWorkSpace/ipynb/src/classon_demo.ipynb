{
 "metadata": {
  "language_info": {
   "codemirror_mode": {
    "name": "ipython",
    "version": 3
   },
   "file_extension": ".py",
   "mimetype": "text/x-python",
   "name": "python",
   "nbconvert_exporter": "python",
   "pygments_lexer": "ipython3",
   "version": "3.8.5"
  },
  "orig_nbformat": 2,
  "kernelspec": {
   "name": "python385jvsc74a57bd073e9d83b3cc0b4d8438bfeefff999c58f01cfacb7a6181481465ecfcf3fe8aca",
   "display_name": "Python 3.8.5 64-bit ('base': conda)"
  }
 },
 "nbformat": 4,
 "nbformat_minor": 2,
 "cells": [
  {
   "cell_type": "code",
   "execution_count": 14,
   "metadata": {},
   "outputs": [
    {
     "output_type": "stream",
     "name": "stdout",
     "text": [
      "test_demo\n"
     ]
    }
   ],
   "source": [
    "p = r'dmo.txt'\n",
    "o = open(p)\n",
    "print(o.read())"
   ]
  },
  {
   "cell_type": "code",
   "execution_count": 18,
   "metadata": {},
   "outputs": [
    {
     "output_type": "execute_result",
     "data": {
      "text/plain": [
       "'2323'"
      ]
     },
     "metadata": {},
     "execution_count": 18
    }
   ],
   "source": [
    "x =1235\n",
    "so = \"%o\" % x\n",
    "so"
   ]
  },
  {
   "cell_type": "code",
   "execution_count": 24,
   "metadata": {},
   "outputs": [
    {
     "output_type": "execute_result",
     "data": {
      "text/plain": [
       "'4d3'"
      ]
     },
     "metadata": {},
     "execution_count": 24
    }
   ],
   "source": [
    "sh = \"%x\" % x\n",
    "ssh"
   ]
  },
  {
   "cell_type": "code",
   "execution_count": 26,
   "metadata": {},
   "outputs": [
    {
     "output_type": "execute_result",
     "data": {
      "text/plain": [
       "'1.235000e+03'"
      ]
     },
     "metadata": {},
     "execution_count": 26
    }
   ],
   "source": [
    "se = \"%e\" % x\n",
    "se"
   ]
  },
  {
   "cell_type": "code",
   "execution_count": 37,
   "metadata": {},
   "outputs": [
    {
     "output_type": "stream",
     "name": "stdout",
     "text": [
      "1_000,20000,300000\n"
     ]
    }
   ],
   "source": [
    "print(\"{0:_},{1},{2}\".format(1000,20000,300000,4000000,5,6))"
   ]
  },
  {
   "cell_type": "code",
   "execution_count": null,
   "metadata": {},
   "outputs": [],
   "source": []
  }
 ]
}