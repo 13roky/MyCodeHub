{
 "metadata": {
  "language_info": {
   "codemirror_mode": {
    "name": "ipython",
    "version": 3
   },
   "file_extension": ".py",
   "mimetype": "text/x-python",
   "name": "python",
   "nbconvert_exporter": "python",
   "pygments_lexer": "ipython3",
   "version": "3.8.5"
  },
  "orig_nbformat": 2,
  "kernelspec": {
   "name": "python385jvsc74a57bd073e9d83b3cc0b4d8438bfeefff999c58f01cfacb7a6181481465ecfcf3fe8aca",
   "display_name": "Python 3.8.5 64-bit (conda)"
  }
 },
 "nbformat": 4,
 "nbformat_minor": 2,
 "cells": [
  {
   "source": [
    "张博强\n",
    "大数据2班\n",
    "32019070233"
   ],
   "cell_type": "markdown",
   "metadata": {}
  },
  {
   "source": [
    "1.编写程序，计算10000以内所有素数的和"
   ],
   "cell_type": "markdown",
   "metadata": {}
  },
  {
   "cell_type": "code",
   "execution_count": 25,
   "metadata": {},
   "outputs": [
    {
     "output_type": "stream",
     "name": "stdout",
     "text": [
      "10000 以内的素数和为: 5736396\n"
     ]
    }
   ],
   "source": [
    "def primeNum(x):\n",
    "    primeSum = 0\n",
    "    for i in range(1,x+1):\n",
    "        n = 0\n",
    "        if i == 1:\n",
    "            continue\n",
    "        for j in range(2,int(i/2)+2):\n",
    "            if i != j and i % j  == 0:\n",
    "                n = n + 1\n",
    "                break\n",
    "        if n == 0:\n",
    "            # print(i)\n",
    "            primeSum = primeSum + i\n",
    "    print(x,'以内的素数和为:',primeSum)\n",
    "\n",
    "primeNum(10000)"
   ]
  },
  {
   "source": [
    "2.编写程序，用户从键盘输入小于1000的整数，对其进行因式分解。例如，10=2×5，60=2×2×3×5。\n",
    "\n",
    "所有的因子都不可在分解。"
   ],
   "cell_type": "markdown",
   "metadata": {}
  },
  {
   "cell_type": "code",
   "execution_count": 26,
   "metadata": {},
   "outputs": [
    {
     "output_type": "stream",
     "name": "stdout",
     "text": [
      "\u001b[1;31m ImportException:输入的数字应当为小于1000的整数 \u001b[0m\n",
      "\n",
      "8 = 2 × 2 × 2 \n",
      "60 = 2 × 2 × 3 × 5 \n"
     ]
    }
   ],
   "source": [
    "def factorMethod(x):\n",
    "    x = int(x)\n",
    "    # 用于记录x的输入值，以再最后判断x是否可分解\n",
    "    pre = x\n",
    "    # 记录x被分解的次数，如果是第一次被分解那么不输出×,以避免60 =× 2× 2 × 3 × 5 的情况\n",
    "    k = 0\n",
    "    # 判断输入的数字范围\n",
    "    if x < 1000:\n",
    "        print(x,'=',end='')\n",
    "        for i in range(2,x):\n",
    "            for j in range(int(x)):\n",
    "                if x % i == 0:\n",
    "                    x = x/i\n",
    "                    k = k + 1\n",
    "                    if k == 1:\n",
    "                        print('',i,end=' ')\n",
    "                    else:\n",
    "                        print('×',i,end =' ')\n",
    "                if x % i != 0:\n",
    "                    break\n",
    "        if pre == x:\n",
    "            print('不可分解')\n",
    "    else:\n",
    "        print('\\033[1;31m ImportException:输入的数字应当为小于1000的整数 \\033[0m')\n",
    "    \n",
    "    print()\n",
    "\n",
    "factorMethod(input())\n",
    "factorMethod(input())\n",
    "factorMethod(input())"
   ]
  }
 ]
}